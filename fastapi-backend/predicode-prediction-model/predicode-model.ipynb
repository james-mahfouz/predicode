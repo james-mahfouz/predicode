{
 "cells": [
  {
   "cell_type": "code",
   "execution_count": 1,
   "id": "9d0ce1ad-45de-4774-9f8f-ea4c9900585e",
   "metadata": {},
   "outputs": [],
   "source": [
    "import pandas as pd\n",
    "import numpy as np\n",
    "\n",
    "from sklearn import preprocessing\n",
    "from sklearn.metrics import mean_squared_error\n",
    "from sklearn.model_selection import train_test_split\n",
    "from sklearn.ensemble import RandomForestRegressor\n"
   ]
  },
  {
   "cell_type": "code",
   "execution_count": 2,
   "id": "c9bdb67b-c148-4a4f-8fd5-ea208a4bd0f2",
   "metadata": {
    "tags": []
   },
   "outputs": [],
   "source": [
    "df = pd.read_csv(\"dataset/googleplaystore.csv\")"
   ]
  },
  {
   "cell_type": "code",
   "execution_count": 3,
   "id": "14d77346-f4d3-4028-86af-8ec40df21c8a",
   "metadata": {
    "tags": []
   },
   "outputs": [
    {
     "data": {
      "text/html": [
       "<div>\n",
       "<style scoped>\n",
       "    .dataframe tbody tr th:only-of-type {\n",
       "        vertical-align: middle;\n",
       "    }\n",
       "\n",
       "    .dataframe tbody tr th {\n",
       "        vertical-align: top;\n",
       "    }\n",
       "\n",
       "    .dataframe thead th {\n",
       "        text-align: right;\n",
       "    }\n",
       "</style>\n",
       "<table border=\"1\" class=\"dataframe\">\n",
       "  <thead>\n",
       "    <tr style=\"text-align: right;\">\n",
       "      <th></th>\n",
       "      <th>App</th>\n",
       "      <th>Category</th>\n",
       "      <th>Rating</th>\n",
       "      <th>Reviews</th>\n",
       "      <th>Size</th>\n",
       "      <th>Installs</th>\n",
       "      <th>Type</th>\n",
       "      <th>Price</th>\n",
       "      <th>Content Rating</th>\n",
       "      <th>Genres</th>\n",
       "      <th>Last Updated</th>\n",
       "      <th>Current Ver</th>\n",
       "      <th>Android Ver</th>\n",
       "    </tr>\n",
       "  </thead>\n",
       "  <tbody>\n",
       "    <tr>\n",
       "      <th>0</th>\n",
       "      <td>Photo Editor &amp; Candy Camera &amp; Grid &amp; ScrapBook</td>\n",
       "      <td>ART_AND_DESIGN</td>\n",
       "      <td>4.1</td>\n",
       "      <td>159</td>\n",
       "      <td>19M</td>\n",
       "      <td>10,000+</td>\n",
       "      <td>Free</td>\n",
       "      <td>0</td>\n",
       "      <td>Everyone</td>\n",
       "      <td>Art &amp; Design</td>\n",
       "      <td>January 7, 2018</td>\n",
       "      <td>1.0.0</td>\n",
       "      <td>4.0.3 and up</td>\n",
       "    </tr>\n",
       "    <tr>\n",
       "      <th>1</th>\n",
       "      <td>Coloring book moana</td>\n",
       "      <td>ART_AND_DESIGN</td>\n",
       "      <td>3.9</td>\n",
       "      <td>967</td>\n",
       "      <td>14M</td>\n",
       "      <td>500,000+</td>\n",
       "      <td>Free</td>\n",
       "      <td>0</td>\n",
       "      <td>Everyone</td>\n",
       "      <td>Art &amp; Design;Pretend Play</td>\n",
       "      <td>January 15, 2018</td>\n",
       "      <td>2.0.0</td>\n",
       "      <td>4.0.3 and up</td>\n",
       "    </tr>\n",
       "    <tr>\n",
       "      <th>2</th>\n",
       "      <td>U Launcher Lite – FREE Live Cool Themes, Hide ...</td>\n",
       "      <td>ART_AND_DESIGN</td>\n",
       "      <td>4.7</td>\n",
       "      <td>87510</td>\n",
       "      <td>8.7M</td>\n",
       "      <td>5,000,000+</td>\n",
       "      <td>Free</td>\n",
       "      <td>0</td>\n",
       "      <td>Everyone</td>\n",
       "      <td>Art &amp; Design</td>\n",
       "      <td>August 1, 2018</td>\n",
       "      <td>1.2.4</td>\n",
       "      <td>4.0.3 and up</td>\n",
       "    </tr>\n",
       "    <tr>\n",
       "      <th>3</th>\n",
       "      <td>Sketch - Draw &amp; Paint</td>\n",
       "      <td>ART_AND_DESIGN</td>\n",
       "      <td>4.5</td>\n",
       "      <td>215644</td>\n",
       "      <td>25M</td>\n",
       "      <td>50,000,000+</td>\n",
       "      <td>Free</td>\n",
       "      <td>0</td>\n",
       "      <td>Teen</td>\n",
       "      <td>Art &amp; Design</td>\n",
       "      <td>June 8, 2018</td>\n",
       "      <td>Varies with device</td>\n",
       "      <td>4.2 and up</td>\n",
       "    </tr>\n",
       "    <tr>\n",
       "      <th>4</th>\n",
       "      <td>Pixel Draw - Number Art Coloring Book</td>\n",
       "      <td>ART_AND_DESIGN</td>\n",
       "      <td>4.3</td>\n",
       "      <td>967</td>\n",
       "      <td>2.8M</td>\n",
       "      <td>100,000+</td>\n",
       "      <td>Free</td>\n",
       "      <td>0</td>\n",
       "      <td>Everyone</td>\n",
       "      <td>Art &amp; Design;Creativity</td>\n",
       "      <td>June 20, 2018</td>\n",
       "      <td>1.1</td>\n",
       "      <td>4.4 and up</td>\n",
       "    </tr>\n",
       "  </tbody>\n",
       "</table>\n",
       "</div>"
      ],
      "text/plain": [
       "                                                 App        Category  Rating   \n",
       "0     Photo Editor & Candy Camera & Grid & ScrapBook  ART_AND_DESIGN     4.1  \\\n",
       "1                                Coloring book moana  ART_AND_DESIGN     3.9   \n",
       "2  U Launcher Lite – FREE Live Cool Themes, Hide ...  ART_AND_DESIGN     4.7   \n",
       "3                              Sketch - Draw & Paint  ART_AND_DESIGN     4.5   \n",
       "4              Pixel Draw - Number Art Coloring Book  ART_AND_DESIGN     4.3   \n",
       "\n",
       "  Reviews  Size     Installs  Type Price Content Rating   \n",
       "0     159   19M      10,000+  Free     0       Everyone  \\\n",
       "1     967   14M     500,000+  Free     0       Everyone   \n",
       "2   87510  8.7M   5,000,000+  Free     0       Everyone   \n",
       "3  215644   25M  50,000,000+  Free     0           Teen   \n",
       "4     967  2.8M     100,000+  Free     0       Everyone   \n",
       "\n",
       "                      Genres      Last Updated         Current Ver   \n",
       "0               Art & Design   January 7, 2018               1.0.0  \\\n",
       "1  Art & Design;Pretend Play  January 15, 2018               2.0.0   \n",
       "2               Art & Design    August 1, 2018               1.2.4   \n",
       "3               Art & Design      June 8, 2018  Varies with device   \n",
       "4    Art & Design;Creativity     June 20, 2018                 1.1   \n",
       "\n",
       "    Android Ver  \n",
       "0  4.0.3 and up  \n",
       "1  4.0.3 and up  \n",
       "2  4.0.3 and up  \n",
       "3    4.2 and up  \n",
       "4    4.4 and up  "
      ]
     },
     "execution_count": 3,
     "metadata": {},
     "output_type": "execute_result"
    }
   ],
   "source": [
    "df.head()"
   ]
  },
  {
   "cell_type": "code",
   "execution_count": 4,
   "id": "8cab98cf-db56-4c06-b27d-1648e0f268e0",
   "metadata": {
    "tags": []
   },
   "outputs": [
    {
     "data": {
      "text/plain": [
       "(10841, 13)"
      ]
     },
     "execution_count": 4,
     "metadata": {},
     "output_type": "execute_result"
    }
   ],
   "source": [
    "df.shape"
   ]
  },
  {
   "cell_type": "code",
   "execution_count": 5,
   "id": "5a1bb6d8-631c-4d70-a4fe-abe64b357ace",
   "metadata": {
    "tags": []
   },
   "outputs": [
    {
     "name": "stdout",
     "output_type": "stream",
     "text": [
      "<class 'pandas.core.frame.DataFrame'>\n",
      "RangeIndex: 10841 entries, 0 to 10840\n",
      "Data columns (total 13 columns):\n",
      " #   Column          Non-Null Count  Dtype  \n",
      "---  ------          --------------  -----  \n",
      " 0   App             10841 non-null  object \n",
      " 1   Category        10841 non-null  object \n",
      " 2   Rating          9367 non-null   float64\n",
      " 3   Reviews         10841 non-null  object \n",
      " 4   Size            10841 non-null  object \n",
      " 5   Installs        10841 non-null  object \n",
      " 6   Type            10840 non-null  object \n",
      " 7   Price           10841 non-null  object \n",
      " 8   Content Rating  10840 non-null  object \n",
      " 9   Genres          10841 non-null  object \n",
      " 10  Last Updated    10841 non-null  object \n",
      " 11  Current Ver     10833 non-null  object \n",
      " 12  Android Ver     10838 non-null  object \n",
      "dtypes: float64(1), object(12)\n",
      "memory usage: 1.1+ MB\n"
     ]
    }
   ],
   "source": [
    "df.info()"
   ]
  },
  {
   "cell_type": "code",
   "execution_count": 6,
   "id": "2139ee3b-950a-4da4-953e-d7078847a981",
   "metadata": {
    "tags": []
   },
   "outputs": [
    {
     "data": {
      "text/plain": [
       "App                  0\n",
       "Category             0\n",
       "Rating            1474\n",
       "Reviews              0\n",
       "Size                 0\n",
       "Installs             0\n",
       "Type                 1\n",
       "Price                0\n",
       "Content Rating       1\n",
       "Genres               0\n",
       "Last Updated         0\n",
       "Current Ver          8\n",
       "Android Ver          3\n",
       "dtype: int64"
      ]
     },
     "execution_count": 6,
     "metadata": {},
     "output_type": "execute_result"
    }
   ],
   "source": [
    "df.isnull().sum()"
   ]
  },
  {
   "cell_type": "code",
   "execution_count": 7,
   "id": "3aa181ee-ffa7-4515-81a7-3546d9cb781b",
   "metadata": {
    "tags": []
   },
   "outputs": [],
   "source": [
    "def value_to_float(x):\n",
    "    # Convert the string feature into float/Integer\n",
    "    #If there is 'K' or 'M' in the string, convert it to the corresponding number (1000 or 1000000)\n",
    "    \n",
    "    if type(x) == float or type(x) == int:\n",
    "        return x\n",
    "    if 'K' in x:\n",
    "        if len(x) > 1:\n",
    "            return float(x.replace('K', '')) * 10**3\n",
    "        return 1000.0\n",
    "    if 'M' in x:\n",
    "        if len(x) > 1:\n",
    "            return float(x.replace('M', '')) * 10**6\n",
    "        return 1000000.0\n",
    "    \n",
    "    # If the string cannot be converted, return 0 instead\n",
    "    try:\n",
    "        parsed_val = float(x)\n",
    "    except ValueError:\n",
    "        parsed_val = 0.0\n",
    "    return parsed_val"
   ]
  },
  {
   "cell_type": "code",
   "execution_count": 8,
   "id": "f7fdf969-7a96-41e9-83a7-c357a3f88f8d",
   "metadata": {
    "tags": []
   },
   "outputs": [],
   "source": [
    "df = df.loc[df[\"Rating\"].notnull()]\n",
    "df = df.loc[df[\"Rating\"] <= 5]\n",
    "\n",
    "df[\"Price\"] = df[\"Price\"].apply(lambda x: x.replace('$', ''))\n",
    "df[\"Installs\"] = df[\"Installs\"].apply(lambda x: x.replace('+', ''))\n",
    "df['Installs'] = df['Installs'].apply(lambda a: str(a).replace(',', '') if ',' in str(a) else a)\n",
    "df['Installs'] = df['Installs'].apply(lambda a : int(a))\n",
    "df['Reviews'] = df['Reviews'].apply(lambda a : int(a))\n",
    "\n",
    "genres = df[\"Genres\"].value_counts().head().index\n",
    "\n",
    "str_cols = [\"Size\", \"Price\"]\n",
    "\n",
    "for col in str_cols:\n",
    "    df[[col]] = df[[col]].fillna(value=\"\")\n",
    "    df[col] = df[col].apply(value_to_float)"
   ]
  },
  {
   "cell_type": "code",
   "execution_count": 9,
   "id": "329feadb-a1de-43f2-b532-8f54b74892d2",
   "metadata": {
    "tags": []
   },
   "outputs": [],
   "source": [
    "df.dropna(inplace=True)"
   ]
  },
  {
   "cell_type": "code",
   "execution_count": 10,
   "id": "c172106e-addf-4290-8fb2-cdf3deeeb655",
   "metadata": {
    "tags": []
   },
   "outputs": [
    {
     "data": {
      "text/plain": [
       "App               0\n",
       "Category          0\n",
       "Rating            0\n",
       "Reviews           0\n",
       "Size              0\n",
       "Installs          0\n",
       "Type              0\n",
       "Price             0\n",
       "Content Rating    0\n",
       "Genres            0\n",
       "Last Updated      0\n",
       "Current Ver       0\n",
       "Android Ver       0\n",
       "dtype: int64"
      ]
     },
     "execution_count": 10,
     "metadata": {},
     "output_type": "execute_result"
    }
   ],
   "source": [
    "df.isnull().sum()"
   ]
  },
  {
   "cell_type": "code",
   "execution_count": 11,
   "id": "e77edb28-6bad-414d-a983-f094a9eda0e3",
   "metadata": {
    "tags": []
   },
   "outputs": [
    {
     "data": {
      "text/plain": [
       "(9360, 13)"
      ]
     },
     "execution_count": 11,
     "metadata": {},
     "output_type": "execute_result"
    }
   ],
   "source": [
    "df.shape"
   ]
  },
  {
   "cell_type": "code",
   "execution_count": 12,
   "id": "cef7a419-47dc-4575-a97c-ffcd87c8f2d6",
   "metadata": {
    "tags": []
   },
   "outputs": [
    {
     "data": {
      "text/html": [
       "<div>\n",
       "<style scoped>\n",
       "    .dataframe tbody tr th:only-of-type {\n",
       "        vertical-align: middle;\n",
       "    }\n",
       "\n",
       "    .dataframe tbody tr th {\n",
       "        vertical-align: top;\n",
       "    }\n",
       "\n",
       "    .dataframe thead th {\n",
       "        text-align: right;\n",
       "    }\n",
       "</style>\n",
       "<table border=\"1\" class=\"dataframe\">\n",
       "  <thead>\n",
       "    <tr style=\"text-align: right;\">\n",
       "      <th></th>\n",
       "      <th>Rating</th>\n",
       "      <th>Reviews</th>\n",
       "      <th>Size</th>\n",
       "      <th>Installs</th>\n",
       "      <th>Price</th>\n",
       "    </tr>\n",
       "  </thead>\n",
       "  <tbody>\n",
       "    <tr>\n",
       "      <th>count</th>\n",
       "      <td>9360.000000</td>\n",
       "      <td>9.360000e+03</td>\n",
       "      <td>9.360000e+03</td>\n",
       "      <td>9.360000e+03</td>\n",
       "      <td>9360.000000</td>\n",
       "    </tr>\n",
       "    <tr>\n",
       "      <th>mean</th>\n",
       "      <td>4.191838</td>\n",
       "      <td>5.143767e+05</td>\n",
       "      <td>1.894124e+07</td>\n",
       "      <td>1.790875e+07</td>\n",
       "      <td>0.961279</td>\n",
       "    </tr>\n",
       "    <tr>\n",
       "      <th>std</th>\n",
       "      <td>0.515263</td>\n",
       "      <td>3.145023e+06</td>\n",
       "      <td>2.302813e+07</td>\n",
       "      <td>9.126637e+07</td>\n",
       "      <td>15.821640</td>\n",
       "    </tr>\n",
       "    <tr>\n",
       "      <th>min</th>\n",
       "      <td>1.000000</td>\n",
       "      <td>1.000000e+00</td>\n",
       "      <td>0.000000e+00</td>\n",
       "      <td>1.000000e+00</td>\n",
       "      <td>0.000000</td>\n",
       "    </tr>\n",
       "    <tr>\n",
       "      <th>25%</th>\n",
       "      <td>4.000000</td>\n",
       "      <td>1.867500e+02</td>\n",
       "      <td>2.400000e+06</td>\n",
       "      <td>1.000000e+04</td>\n",
       "      <td>0.000000</td>\n",
       "    </tr>\n",
       "    <tr>\n",
       "      <th>50%</th>\n",
       "      <td>4.300000</td>\n",
       "      <td>5.955000e+03</td>\n",
       "      <td>9.500000e+06</td>\n",
       "      <td>5.000000e+05</td>\n",
       "      <td>0.000000</td>\n",
       "    </tr>\n",
       "    <tr>\n",
       "      <th>75%</th>\n",
       "      <td>4.500000</td>\n",
       "      <td>8.162750e+04</td>\n",
       "      <td>2.700000e+07</td>\n",
       "      <td>5.000000e+06</td>\n",
       "      <td>0.000000</td>\n",
       "    </tr>\n",
       "    <tr>\n",
       "      <th>max</th>\n",
       "      <td>5.000000</td>\n",
       "      <td>7.815831e+07</td>\n",
       "      <td>1.000000e+08</td>\n",
       "      <td>1.000000e+09</td>\n",
       "      <td>400.000000</td>\n",
       "    </tr>\n",
       "  </tbody>\n",
       "</table>\n",
       "</div>"
      ],
      "text/plain": [
       "            Rating       Reviews          Size      Installs        Price\n",
       "count  9360.000000  9.360000e+03  9.360000e+03  9.360000e+03  9360.000000\n",
       "mean      4.191838  5.143767e+05  1.894124e+07  1.790875e+07     0.961279\n",
       "std       0.515263  3.145023e+06  2.302813e+07  9.126637e+07    15.821640\n",
       "min       1.000000  1.000000e+00  0.000000e+00  1.000000e+00     0.000000\n",
       "25%       4.000000  1.867500e+02  2.400000e+06  1.000000e+04     0.000000\n",
       "50%       4.300000  5.955000e+03  9.500000e+06  5.000000e+05     0.000000\n",
       "75%       4.500000  8.162750e+04  2.700000e+07  5.000000e+06     0.000000\n",
       "max       5.000000  7.815831e+07  1.000000e+08  1.000000e+09   400.000000"
      ]
     },
     "execution_count": 12,
     "metadata": {},
     "output_type": "execute_result"
    }
   ],
   "source": [
    "df.describe()"
   ]
  },
  {
   "cell_type": "code",
   "execution_count": 13,
   "id": "548900c2-4ed1-4f0b-a971-b76291f6b346",
   "metadata": {
    "tags": []
   },
   "outputs": [
    {
     "name": "stdout",
     "output_type": "stream",
     "text": [
      "<class 'pandas.core.frame.DataFrame'>\n",
      "Index: 9360 entries, 0 to 10840\n",
      "Data columns (total 13 columns):\n",
      " #   Column          Non-Null Count  Dtype  \n",
      "---  ------          --------------  -----  \n",
      " 0   App             9360 non-null   object \n",
      " 1   Category        9360 non-null   object \n",
      " 2   Rating          9360 non-null   float64\n",
      " 3   Reviews         9360 non-null   int64  \n",
      " 4   Size            9360 non-null   float64\n",
      " 5   Installs        9360 non-null   int64  \n",
      " 6   Type            9360 non-null   object \n",
      " 7   Price           9360 non-null   float64\n",
      " 8   Content Rating  9360 non-null   object \n",
      " 9   Genres          9360 non-null   object \n",
      " 10  Last Updated    9360 non-null   object \n",
      " 11  Current Ver     9360 non-null   object \n",
      " 12  Android Ver     9360 non-null   object \n",
      "dtypes: float64(3), int64(2), object(8)\n",
      "memory usage: 1023.8+ KB\n"
     ]
    }
   ],
   "source": [
    "df.info()"
   ]
  },
  {
   "cell_type": "code",
   "execution_count": 14,
   "id": "d8b45e17-91bb-4e3b-b805-3e582481f654",
   "metadata": {
    "tags": []
   },
   "outputs": [
    {
     "data": {
      "text/plain": [
       "(7, 13)"
      ]
     },
     "execution_count": 14,
     "metadata": {},
     "output_type": "execute_result"
    }
   ],
   "source": [
    "# There are 7 records where Reviews are greater than Installs \n",
    "df[df['Reviews'] > df['Installs']].shape"
   ]
  },
  {
   "cell_type": "code",
   "execution_count": 15,
   "id": "45510ac6-87b9-45c4-b6c0-ab49459300bc",
   "metadata": {
    "tags": []
   },
   "outputs": [
    {
     "data": {
      "text/plain": [
       "(0, 13)"
      ]
     },
     "execution_count": 15,
     "metadata": {},
     "output_type": "execute_result"
    }
   ],
   "source": [
    "# Dropping 7 records that have greater Reviews than Installs\n",
    "df.drop(df[df['Reviews'] > df['Installs']].index,inplace=True)\n",
    "df[df['Reviews'] > df['Installs']].shape"
   ]
  },
  {
   "cell_type": "code",
   "execution_count": 16,
   "id": "b0b4373e-ece5-4d6b-9f83-b713e6801359",
   "metadata": {
    "tags": []
   },
   "outputs": [],
   "source": [
    "# Dropping rows that have Price > 200\n",
    "df.drop(df[df['Price'] > 200].index,inplace=True)"
   ]
  },
  {
   "cell_type": "code",
   "execution_count": 17,
   "id": "0c4dab8a-7d26-4ebc-8743-7e81417e7d98",
   "metadata": {
    "tags": []
   },
   "outputs": [
    {
     "name": "stdout",
     "output_type": "stream",
     "text": [
      "<class 'pandas.core.frame.DataFrame'>\n",
      "Index: 9338 entries, 0 to 10840\n",
      "Data columns (total 13 columns):\n",
      " #   Column          Non-Null Count  Dtype  \n",
      "---  ------          --------------  -----  \n",
      " 0   App             9338 non-null   object \n",
      " 1   Category        9338 non-null   object \n",
      " 2   Rating          9338 non-null   float64\n",
      " 3   Reviews         9338 non-null   int64  \n",
      " 4   Size            9338 non-null   float64\n",
      " 5   Installs        9338 non-null   int64  \n",
      " 6   Type            9338 non-null   object \n",
      " 7   Price           9338 non-null   float64\n",
      " 8   Content Rating  9338 non-null   object \n",
      " 9   Genres          9338 non-null   object \n",
      " 10  Last Updated    9338 non-null   object \n",
      " 11  Current Ver     9338 non-null   object \n",
      " 12  Android Ver     9338 non-null   object \n",
      "dtypes: float64(3), int64(2), object(8)\n",
      "memory usage: 1021.3+ KB\n"
     ]
    }
   ],
   "source": [
    "df.info()"
   ]
  },
  {
   "cell_type": "code",
   "execution_count": 18,
   "id": "4a59e0f6-2930-474a-9256-7d2a9e07fcbb",
   "metadata": {
    "tags": []
   },
   "outputs": [
    {
     "name": "stdout",
     "output_type": "stream",
     "text": [
      "Category\n",
      "FAMILY                 1742\n",
      "GAME                   1093\n",
      "TOOLS                   733\n",
      "PRODUCTIVITY            351\n",
      "MEDICAL                 349\n",
      "COMMUNICATION           328\n",
      "SPORTS                  319\n",
      "FINANCE                 317\n",
      "PHOTOGRAPHY             317\n",
      "PERSONALIZATION         312\n",
      "LIFESTYLE               308\n",
      "BUSINESS                303\n",
      "HEALTH_AND_FITNESS      297\n",
      "SOCIAL                  258\n",
      "SHOPPING                238\n",
      "NEWS_AND_MAGAZINES      233\n",
      "TRAVEL_AND_LOCAL        226\n",
      "DATING                  195\n",
      "BOOKS_AND_REFERENCE     178\n",
      "VIDEO_PLAYERS           160\n",
      "EDUCATION               155\n",
      "ENTERTAINMENT           149\n",
      "MAPS_AND_NAVIGATION     124\n",
      "FOOD_AND_DRINK          109\n",
      "HOUSE_AND_HOME           76\n",
      "WEATHER                  75\n",
      "AUTO_AND_VEHICLES        73\n",
      "LIBRARIES_AND_DEMO       64\n",
      "ART_AND_DESIGN           61\n",
      "COMICS                   58\n",
      "PARENTING                50\n",
      "EVENTS                   45\n",
      "BEAUTY                   42\n",
      "Name: count, dtype: int64\n"
     ]
    }
   ],
   "source": [
    "df = df[df['Category'] != '1.9']\n",
    "value_counts = df['Category'].value_counts()\n",
    "print(value_counts)"
   ]
  },
  {
   "cell_type": "code",
   "execution_count": 19,
   "id": "ba656578-c305-44f4-9ce6-ce1f64842b23",
   "metadata": {},
   "outputs": [],
   "source": [
    "category = pd.get_dummies(df['Category'], dtype='uint8')\n",
    "df = pd.concat([df, category], axis=1)\n"
   ]
  },
  {
   "cell_type": "code",
   "execution_count": 20,
   "id": "eb3080c4-1e92-44f9-be6d-37c2fe757a05",
   "metadata": {
    "tags": []
   },
   "outputs": [],
   "source": [
    "df.drop('Category', axis=1, inplace=True)"
   ]
  },
  {
   "cell_type": "code",
   "execution_count": 21,
   "id": "72b994ce-e61e-4183-a218-6156566158bf",
   "metadata": {
    "tags": []
   },
   "outputs": [
    {
     "data": {
      "text/plain": [
       "Rating\n",
       "4.4    1107\n",
       "4.3    1074\n",
       "4.5    1037\n",
       "4.2     951\n",
       "4.6     823\n",
       "4.1     705\n",
       "4.0     565\n",
       "4.7     499\n",
       "3.9     386\n",
       "3.8     299\n",
       "5.0     268\n",
       "3.7     239\n",
       "4.8     233\n",
       "3.6     172\n",
       "3.5     162\n",
       "3.4     128\n",
       "3.3     102\n",
       "4.9      87\n",
       "3.0      83\n",
       "3.1      69\n",
       "3.2      63\n",
       "2.9      44\n",
       "2.8      42\n",
       "2.7      25\n",
       "2.6      25\n",
       "2.5      21\n",
       "2.3      20\n",
       "2.4      19\n",
       "1.0      16\n",
       "2.2      14\n",
       "1.9      13\n",
       "2.0      12\n",
       "1.7       8\n",
       "1.8       8\n",
       "2.1       8\n",
       "1.6       4\n",
       "1.4       3\n",
       "1.5       3\n",
       "1.2       1\n",
       "Name: count, dtype: int64"
      ]
     },
     "execution_count": 21,
     "metadata": {},
     "output_type": "execute_result"
    }
   ],
   "source": [
    "df['Rating'].value_counts()"
   ]
  },
  {
   "cell_type": "code",
   "execution_count": 22,
   "id": "17014b20-d4f3-4792-b451-f86725f5cca8",
   "metadata": {
    "tags": []
   },
   "outputs": [
    {
     "name": "stdout",
     "output_type": "stream",
     "text": [
      "Content Rating\n",
      "Everyone           7394\n",
      "Teen               1082\n",
      "Mature 17+          461\n",
      "Everyone 10+        397\n",
      "Adults only 18+       3\n",
      "Unrated               1\n",
      "Name: count, dtype: int64\n"
     ]
    }
   ],
   "source": [
    "print(df['Content Rating'].value_counts())"
   ]
  },
  {
   "cell_type": "code",
   "execution_count": 23,
   "id": "be51e41f-6e33-4aa7-9bfb-181e237b1450",
   "metadata": {
    "tags": []
   },
   "outputs": [],
   "source": [
    "df = df[df['Content Rating'] != 'Unrated']\n"
   ]
  },
  {
   "cell_type": "code",
   "execution_count": 24,
   "id": "33813149-5b18-4524-9526-c0b5036d22d7",
   "metadata": {
    "tags": []
   },
   "outputs": [],
   "source": [
    "content_rating = pd.get_dummies(df['Content Rating'], dtype='uint8')\n",
    "\n",
    "df = pd.concat([df, content_rating], axis=1)\n",
    "\n",
    "df.drop('Content Rating', axis=1, inplace=True)\n"
   ]
  },
  {
   "cell_type": "code",
   "execution_count": 25,
   "id": "3aea4689-76e0-4df0-9936-cf6ef1dea0c9",
   "metadata": {
    "tags": []
   },
   "outputs": [
    {
     "data": {
      "text/html": [
       "<div>\n",
       "<style scoped>\n",
       "    .dataframe tbody tr th:only-of-type {\n",
       "        vertical-align: middle;\n",
       "    }\n",
       "\n",
       "    .dataframe tbody tr th {\n",
       "        vertical-align: top;\n",
       "    }\n",
       "\n",
       "    .dataframe thead th {\n",
       "        text-align: right;\n",
       "    }\n",
       "</style>\n",
       "<table border=\"1\" class=\"dataframe\">\n",
       "  <thead>\n",
       "    <tr style=\"text-align: right;\">\n",
       "      <th></th>\n",
       "      <th>App</th>\n",
       "      <th>Rating</th>\n",
       "      <th>Reviews</th>\n",
       "      <th>Size</th>\n",
       "      <th>Installs</th>\n",
       "      <th>Type</th>\n",
       "      <th>Price</th>\n",
       "      <th>Genres</th>\n",
       "      <th>Last Updated</th>\n",
       "      <th>Current Ver</th>\n",
       "      <th>...</th>\n",
       "      <th>SPORTS</th>\n",
       "      <th>TOOLS</th>\n",
       "      <th>TRAVEL_AND_LOCAL</th>\n",
       "      <th>VIDEO_PLAYERS</th>\n",
       "      <th>WEATHER</th>\n",
       "      <th>Adults only 18+</th>\n",
       "      <th>Everyone</th>\n",
       "      <th>Everyone 10+</th>\n",
       "      <th>Mature 17+</th>\n",
       "      <th>Teen</th>\n",
       "    </tr>\n",
       "  </thead>\n",
       "  <tbody>\n",
       "    <tr>\n",
       "      <th>0</th>\n",
       "      <td>Photo Editor &amp; Candy Camera &amp; Grid &amp; ScrapBook</td>\n",
       "      <td>4.1</td>\n",
       "      <td>159</td>\n",
       "      <td>19000000.0</td>\n",
       "      <td>10000</td>\n",
       "      <td>Free</td>\n",
       "      <td>0.0</td>\n",
       "      <td>Art &amp; Design</td>\n",
       "      <td>January 7, 2018</td>\n",
       "      <td>1.0.0</td>\n",
       "      <td>...</td>\n",
       "      <td>0</td>\n",
       "      <td>0</td>\n",
       "      <td>0</td>\n",
       "      <td>0</td>\n",
       "      <td>0</td>\n",
       "      <td>0</td>\n",
       "      <td>1</td>\n",
       "      <td>0</td>\n",
       "      <td>0</td>\n",
       "      <td>0</td>\n",
       "    </tr>\n",
       "    <tr>\n",
       "      <th>1</th>\n",
       "      <td>Coloring book moana</td>\n",
       "      <td>3.9</td>\n",
       "      <td>967</td>\n",
       "      <td>14000000.0</td>\n",
       "      <td>500000</td>\n",
       "      <td>Free</td>\n",
       "      <td>0.0</td>\n",
       "      <td>Art &amp; Design;Pretend Play</td>\n",
       "      <td>January 15, 2018</td>\n",
       "      <td>2.0.0</td>\n",
       "      <td>...</td>\n",
       "      <td>0</td>\n",
       "      <td>0</td>\n",
       "      <td>0</td>\n",
       "      <td>0</td>\n",
       "      <td>0</td>\n",
       "      <td>0</td>\n",
       "      <td>1</td>\n",
       "      <td>0</td>\n",
       "      <td>0</td>\n",
       "      <td>0</td>\n",
       "    </tr>\n",
       "    <tr>\n",
       "      <th>2</th>\n",
       "      <td>U Launcher Lite – FREE Live Cool Themes, Hide ...</td>\n",
       "      <td>4.7</td>\n",
       "      <td>87510</td>\n",
       "      <td>8700000.0</td>\n",
       "      <td>5000000</td>\n",
       "      <td>Free</td>\n",
       "      <td>0.0</td>\n",
       "      <td>Art &amp; Design</td>\n",
       "      <td>August 1, 2018</td>\n",
       "      <td>1.2.4</td>\n",
       "      <td>...</td>\n",
       "      <td>0</td>\n",
       "      <td>0</td>\n",
       "      <td>0</td>\n",
       "      <td>0</td>\n",
       "      <td>0</td>\n",
       "      <td>0</td>\n",
       "      <td>1</td>\n",
       "      <td>0</td>\n",
       "      <td>0</td>\n",
       "      <td>0</td>\n",
       "    </tr>\n",
       "    <tr>\n",
       "      <th>3</th>\n",
       "      <td>Sketch - Draw &amp; Paint</td>\n",
       "      <td>4.5</td>\n",
       "      <td>215644</td>\n",
       "      <td>25000000.0</td>\n",
       "      <td>50000000</td>\n",
       "      <td>Free</td>\n",
       "      <td>0.0</td>\n",
       "      <td>Art &amp; Design</td>\n",
       "      <td>June 8, 2018</td>\n",
       "      <td>Varies with device</td>\n",
       "      <td>...</td>\n",
       "      <td>0</td>\n",
       "      <td>0</td>\n",
       "      <td>0</td>\n",
       "      <td>0</td>\n",
       "      <td>0</td>\n",
       "      <td>0</td>\n",
       "      <td>0</td>\n",
       "      <td>0</td>\n",
       "      <td>0</td>\n",
       "      <td>1</td>\n",
       "    </tr>\n",
       "    <tr>\n",
       "      <th>4</th>\n",
       "      <td>Pixel Draw - Number Art Coloring Book</td>\n",
       "      <td>4.3</td>\n",
       "      <td>967</td>\n",
       "      <td>2800000.0</td>\n",
       "      <td>100000</td>\n",
       "      <td>Free</td>\n",
       "      <td>0.0</td>\n",
       "      <td>Art &amp; Design;Creativity</td>\n",
       "      <td>June 20, 2018</td>\n",
       "      <td>1.1</td>\n",
       "      <td>...</td>\n",
       "      <td>0</td>\n",
       "      <td>0</td>\n",
       "      <td>0</td>\n",
       "      <td>0</td>\n",
       "      <td>0</td>\n",
       "      <td>0</td>\n",
       "      <td>1</td>\n",
       "      <td>0</td>\n",
       "      <td>0</td>\n",
       "      <td>0</td>\n",
       "    </tr>\n",
       "    <tr>\n",
       "      <th>5</th>\n",
       "      <td>Paper flowers instructions</td>\n",
       "      <td>4.4</td>\n",
       "      <td>167</td>\n",
       "      <td>5600000.0</td>\n",
       "      <td>50000</td>\n",
       "      <td>Free</td>\n",
       "      <td>0.0</td>\n",
       "      <td>Art &amp; Design</td>\n",
       "      <td>March 26, 2017</td>\n",
       "      <td>1.0</td>\n",
       "      <td>...</td>\n",
       "      <td>0</td>\n",
       "      <td>0</td>\n",
       "      <td>0</td>\n",
       "      <td>0</td>\n",
       "      <td>0</td>\n",
       "      <td>0</td>\n",
       "      <td>1</td>\n",
       "      <td>0</td>\n",
       "      <td>0</td>\n",
       "      <td>0</td>\n",
       "    </tr>\n",
       "  </tbody>\n",
       "</table>\n",
       "<p>6 rows × 49 columns</p>\n",
       "</div>"
      ],
      "text/plain": [
       "                                                 App  Rating  Reviews   \n",
       "0     Photo Editor & Candy Camera & Grid & ScrapBook     4.1      159  \\\n",
       "1                                Coloring book moana     3.9      967   \n",
       "2  U Launcher Lite – FREE Live Cool Themes, Hide ...     4.7    87510   \n",
       "3                              Sketch - Draw & Paint     4.5   215644   \n",
       "4              Pixel Draw - Number Art Coloring Book     4.3      967   \n",
       "5                         Paper flowers instructions     4.4      167   \n",
       "\n",
       "         Size  Installs  Type  Price                     Genres   \n",
       "0  19000000.0     10000  Free    0.0               Art & Design  \\\n",
       "1  14000000.0    500000  Free    0.0  Art & Design;Pretend Play   \n",
       "2   8700000.0   5000000  Free    0.0               Art & Design   \n",
       "3  25000000.0  50000000  Free    0.0               Art & Design   \n",
       "4   2800000.0    100000  Free    0.0    Art & Design;Creativity   \n",
       "5   5600000.0     50000  Free    0.0               Art & Design   \n",
       "\n",
       "       Last Updated         Current Ver  ... SPORTS  TOOLS  TRAVEL_AND_LOCAL   \n",
       "0   January 7, 2018               1.0.0  ...      0      0                 0  \\\n",
       "1  January 15, 2018               2.0.0  ...      0      0                 0   \n",
       "2    August 1, 2018               1.2.4  ...      0      0                 0   \n",
       "3      June 8, 2018  Varies with device  ...      0      0                 0   \n",
       "4     June 20, 2018                 1.1  ...      0      0                 0   \n",
       "5    March 26, 2017                 1.0  ...      0      0                 0   \n",
       "\n",
       "   VIDEO_PLAYERS  WEATHER  Adults only 18+  Everyone  Everyone 10+   \n",
       "0              0        0                0         1             0  \\\n",
       "1              0        0                0         1             0   \n",
       "2              0        0                0         1             0   \n",
       "3              0        0                0         0             0   \n",
       "4              0        0                0         1             0   \n",
       "5              0        0                0         1             0   \n",
       "\n",
       "   Mature 17+  Teen  \n",
       "0           0     0  \n",
       "1           0     0  \n",
       "2           0     0  \n",
       "3           0     1  \n",
       "4           0     0  \n",
       "5           0     0  \n",
       "\n",
       "[6 rows x 49 columns]"
      ]
     },
     "execution_count": 25,
     "metadata": {},
     "output_type": "execute_result"
    }
   ],
   "source": [
    "df.head(6)"
   ]
  },
  {
   "cell_type": "code",
   "execution_count": 26,
   "id": "66cfebcc-4b49-4e9d-ade1-7c15b5d22216",
   "metadata": {
    "tags": []
   },
   "outputs": [],
   "source": [
    "# df = df.drop(['Last Updated', 'Current Ver', 'Android Ver','Type','App','Reviews', 'Installs','Genres'], axis=1)\n",
    "df = df.drop(['Last Updated', 'Current Ver', 'Android Ver','Type','App','Genres'], axis=1)\n"
   ]
  },
  {
   "cell_type": "code",
   "execution_count": 27,
   "id": "9f5d1644-504a-4d91-b9e6-6ea99835a390",
   "metadata": {
    "tags": []
   },
   "outputs": [
    {
     "name": "stdout",
     "output_type": "stream",
     "text": [
      "<class 'pandas.core.frame.DataFrame'>\n",
      "Index: 9337 entries, 0 to 10840\n",
      "Data columns (total 43 columns):\n",
      " #   Column               Non-Null Count  Dtype  \n",
      "---  ------               --------------  -----  \n",
      " 0   Rating               9337 non-null   float64\n",
      " 1   Reviews              9337 non-null   int64  \n",
      " 2   Size                 9337 non-null   float64\n",
      " 3   Installs             9337 non-null   int64  \n",
      " 4   Price                9337 non-null   float64\n",
      " 5   ART_AND_DESIGN       9337 non-null   uint8  \n",
      " 6   AUTO_AND_VEHICLES    9337 non-null   uint8  \n",
      " 7   BEAUTY               9337 non-null   uint8  \n",
      " 8   BOOKS_AND_REFERENCE  9337 non-null   uint8  \n",
      " 9   BUSINESS             9337 non-null   uint8  \n",
      " 10  COMICS               9337 non-null   uint8  \n",
      " 11  COMMUNICATION        9337 non-null   uint8  \n",
      " 12  DATING               9337 non-null   uint8  \n",
      " 13  EDUCATION            9337 non-null   uint8  \n",
      " 14  ENTERTAINMENT        9337 non-null   uint8  \n",
      " 15  EVENTS               9337 non-null   uint8  \n",
      " 16  FAMILY               9337 non-null   uint8  \n",
      " 17  FINANCE              9337 non-null   uint8  \n",
      " 18  FOOD_AND_DRINK       9337 non-null   uint8  \n",
      " 19  GAME                 9337 non-null   uint8  \n",
      " 20  HEALTH_AND_FITNESS   9337 non-null   uint8  \n",
      " 21  HOUSE_AND_HOME       9337 non-null   uint8  \n",
      " 22  LIBRARIES_AND_DEMO   9337 non-null   uint8  \n",
      " 23  LIFESTYLE            9337 non-null   uint8  \n",
      " 24  MAPS_AND_NAVIGATION  9337 non-null   uint8  \n",
      " 25  MEDICAL              9337 non-null   uint8  \n",
      " 26  NEWS_AND_MAGAZINES   9337 non-null   uint8  \n",
      " 27  PARENTING            9337 non-null   uint8  \n",
      " 28  PERSONALIZATION      9337 non-null   uint8  \n",
      " 29  PHOTOGRAPHY          9337 non-null   uint8  \n",
      " 30  PRODUCTIVITY         9337 non-null   uint8  \n",
      " 31  SHOPPING             9337 non-null   uint8  \n",
      " 32  SOCIAL               9337 non-null   uint8  \n",
      " 33  SPORTS               9337 non-null   uint8  \n",
      " 34  TOOLS                9337 non-null   uint8  \n",
      " 35  TRAVEL_AND_LOCAL     9337 non-null   uint8  \n",
      " 36  VIDEO_PLAYERS        9337 non-null   uint8  \n",
      " 37  WEATHER              9337 non-null   uint8  \n",
      " 38  Adults only 18+      9337 non-null   uint8  \n",
      " 39  Everyone             9337 non-null   uint8  \n",
      " 40  Everyone 10+         9337 non-null   uint8  \n",
      " 41  Mature 17+           9337 non-null   uint8  \n",
      " 42  Teen                 9337 non-null   uint8  \n",
      "dtypes: float64(3), int64(2), uint8(38)\n",
      "memory usage: 784.2 KB\n"
     ]
    }
   ],
   "source": [
    "df.info()"
   ]
  },
  {
   "cell_type": "code",
   "execution_count": null,
   "id": "effa91cd-6bf5-4800-831c-0e56dea2a1ab",
   "metadata": {
    "tags": []
   },
   "outputs": [],
   "source": []
  },
  {
   "cell_type": "code",
   "execution_count": 28,
   "id": "763c82ac-c072-4f22-abbf-69c2f74f6322",
   "metadata": {
    "tags": []
   },
   "outputs": [],
   "source": [
    "df = df[df['Size'] != 0]"
   ]
  },
  {
   "cell_type": "code",
   "execution_count": 33,
   "id": "39694d1b-d7d8-4bde-ac62-e209fe32e870",
   "metadata": {
    "tags": []
   },
   "outputs": [
    {
     "data": {
      "image/png": "[encoded data removed]",
      "text/plain": [
       "<Figure size 640x480 with 1 Axes>"
      ]
     },
     "metadata": {},
     "output_type": "display_data"
    }
   ],
   "source": [
    "import matplotlib.pyplot as plt\n",
    "\n",
    "# create a scatter plot\n",
    "plt.scatter(df['Size'], df['Reviews'])\n",
    "\n",
    "# set the x and y axis labels\n",
    "plt.xlabel('Size')\n",
    "plt.ylabel('Reviews')\n",
    "\n",
    "# set the plot title\n",
    "plt.title('App Size vs Installs')\n",
    "\n",
    "# show the plot\n",
    "plt.show()"
   ]
  },
  {
   "cell_type": "code",
   "execution_count": 32,
   "id": "b8e70578-0f87-4dee-84bf-58f229a452ee",
   "metadata": {
    "tags": []
   },
   "outputs": [],
   "source": [
    "df = df[df['Installs'] <= 0.4 * 1e9]"
   ]
  },
  {
   "cell_type": "code",
   "execution_count": 34,
   "id": "e9517eef-bf76-4881-871f-56ca5ad2d819",
   "metadata": {
    "tags": []
   },
   "outputs": [],
   "source": [
    "df = df[df['Reviews']<=2 * 1e7]"
   ]
  },
  {
   "cell_type": "code",
   "execution_count": null,
   "id": "159ade1e-2b7f-4ef8-b37e-76e6bb46871a",
   "metadata": {
    "tags": []
   },
   "outputs": [],
   "source": []
  },
  {
   "cell_type": "code",
   "execution_count": null,
   "id": "6dbfe86f-e3a4-4c45-86a9-7297cf1db5db",
   "metadata": {},
   "outputs": [],
   "source": []
  },
  {
   "cell_type": "code",
   "execution_count": 35,
   "id": "ee7f6964-190a-4f6d-adb9-8f47d418627d",
   "metadata": {
    "tags": []
   },
   "outputs": [],
   "source": [
    "y = df[['Rating']]\n",
    "x = df.drop('Rating',axis=1)"
   ]
  },
  {
   "cell_type": "code",
   "execution_count": 36,
   "id": "aceedced-7151-494b-a60f-3699ade23a27",
   "metadata": {
    "tags": []
   },
   "outputs": [
    {
     "name": "stdout",
     "output_type": "stream",
     "text": [
      "<class 'pandas.core.frame.DataFrame'>\n",
      "Index: 7397 entries, 0 to 10840\n",
      "Data columns (total 42 columns):\n",
      " #   Column               Non-Null Count  Dtype  \n",
      "---  ------               --------------  -----  \n",
      " 0   Reviews              7397 non-null   int64  \n",
      " 1   Size                 7397 non-null   float64\n",
      " 2   Installs             7397 non-null   int64  \n",
      " 3   Price                7397 non-null   float64\n",
      " 4   ART_AND_DESIGN       7397 non-null   uint8  \n",
      " 5   AUTO_AND_VEHICLES    7397 non-null   uint8  \n",
      " 6   BEAUTY               7397 non-null   uint8  \n",
      " 7   BOOKS_AND_REFERENCE  7397 non-null   uint8  \n",
      " 8   BUSINESS             7397 non-null   uint8  \n",
      " 9   COMICS               7397 non-null   uint8  \n",
      " 10  COMMUNICATION        7397 non-null   uint8  \n",
      " 11  DATING               7397 non-null   uint8  \n",
      " 12  EDUCATION            7397 non-null   uint8  \n",
      " 13  ENTERTAINMENT        7397 non-null   uint8  \n",
      " 14  EVENTS               7397 non-null   uint8  \n",
      " 15  FAMILY               7397 non-null   uint8  \n",
      " 16  FINANCE              7397 non-null   uint8  \n",
      " 17  FOOD_AND_DRINK       7397 non-null   uint8  \n",
      " 18  GAME                 7397 non-null   uint8  \n",
      " 19  HEALTH_AND_FITNESS   7397 non-null   uint8  \n",
      " 20  HOUSE_AND_HOME       7397 non-null   uint8  \n",
      " 21  LIBRARIES_AND_DEMO   7397 non-null   uint8  \n",
      " 22  LIFESTYLE            7397 non-null   uint8  \n",
      " 23  MAPS_AND_NAVIGATION  7397 non-null   uint8  \n",
      " 24  MEDICAL              7397 non-null   uint8  \n",
      " 25  NEWS_AND_MAGAZINES   7397 non-null   uint8  \n",
      " 26  PARENTING            7397 non-null   uint8  \n",
      " 27  PERSONALIZATION      7397 non-null   uint8  \n",
      " 28  PHOTOGRAPHY          7397 non-null   uint8  \n",
      " 29  PRODUCTIVITY         7397 non-null   uint8  \n",
      " 30  SHOPPING             7397 non-null   uint8  \n",
      " 31  SOCIAL               7397 non-null   uint8  \n",
      " 32  SPORTS               7397 non-null   uint8  \n",
      " 33  TOOLS                7397 non-null   uint8  \n",
      " 34  TRAVEL_AND_LOCAL     7397 non-null   uint8  \n",
      " 35  VIDEO_PLAYERS        7397 non-null   uint8  \n",
      " 36  WEATHER              7397 non-null   uint8  \n",
      " 37  Adults only 18+      7397 non-null   uint8  \n",
      " 38  Everyone             7397 non-null   uint8  \n",
      " 39  Everyone 10+         7397 non-null   uint8  \n",
      " 40  Mature 17+           7397 non-null   uint8  \n",
      " 41  Teen                 7397 non-null   uint8  \n",
      "dtypes: float64(2), int64(2), uint8(38)\n",
      "memory usage: 563.4 KB\n"
     ]
    }
   ],
   "source": [
    "x.info()"
   ]
  },
  {
   "cell_type": "code",
   "execution_count": 37,
   "id": "7a1a67f2-9017-4387-98c2-5f672c1d43cd",
   "metadata": {
    "tags": []
   },
   "outputs": [
    {
     "data": {
      "text/plain": [
       "((7397, 42), (7397, 1))"
      ]
     },
     "execution_count": 37,
     "metadata": {},
     "output_type": "execute_result"
    }
   ],
   "source": [
    "x.shape, y.shape"
   ]
  },
  {
   "cell_type": "code",
   "execution_count": 38,
   "id": "528eecbd-fe7e-4e22-b360-158ea71f3676",
   "metadata": {
    "tags": []
   },
   "outputs": [],
   "source": [
    "X_train, X_test, y_train, y_test = train_test_split(x, y, random_state=1)"
   ]
  },
  {
   "cell_type": "code",
   "execution_count": 39,
   "id": "ce7caadf-48b4-4d3a-a857-e3cb2908843d",
   "metadata": {
    "tags": []
   },
   "outputs": [],
   "source": [
    "import random\n",
    "from deap import base, creator, tools, algorithms\n",
    "import warnings\n",
    "from sklearn.exceptions import DataConversionWarning\n",
    "warnings.filterwarnings(\"ignore\", category=DataConversionWarning)\n"
   ]
  },
  {
   "cell_type": "code",
   "execution_count": 40,
   "id": "9ea2929f-295d-472f-ac71-7a35753118da",
   "metadata": {
    "tags": []
   },
   "outputs": [
    {
     "name": "stdout",
     "output_type": "stream",
     "text": [
      "Mean squared error:  0.2777167128621622\n"
     ]
    }
   ],
   "source": [
    "rf = RandomForestRegressor(n_estimators=100, random_state=42)\n",
    "rf.fit(X_train, y_train)\n",
    "\n",
    "# Make predictions on the test data\n",
    "Y_pred = rf.predict(X_test)\n",
    "\n",
    "mse = mean_squared_error(y_test, Y_pred)\n",
    "print(\"Mean squared error: \", mse)"
   ]
  },
  {
   "cell_type": "code",
   "execution_count": 41,
   "id": "1473c8f7-a6ff-4c1a-8935-4deb4528a13f",
   "metadata": {
    "tags": []
   },
   "outputs": [],
   "source": [
    "# Create a fitness function that measures the performance of the model\n",
    "def evaluate(individual):\n",
    "    # Convert the individual into a list of hyperparameters\n",
    "    n_estimators = individual[0]\n",
    "    max_depth = individual[1]\n",
    "    max_features = individual[2]\n",
    "    min_samples_split = individual[3]\n",
    "    min_samples_leaf = individual[4]\n",
    "    \n",
    "    # Create a random forest model with the given hyperparameters\n",
    "    rf = RandomForestRegressor(n_estimators=n_estimators, max_depth=max_depth, max_features=max_features, min_samples_split=min_samples_split, min_samples_leaf=min_samples_leaf,random_state=42)\n",
    "    \n",
    "    # Train the model on the training data\n",
    "    rf.fit(X_train, y_train)\n",
    "    \n",
    "    # Evaluate the model on the test data\n",
    "    Y_pred = rf.predict(X_test)\n",
    "    mse = mean_squared_error(y_test, Y_pred)\n",
    "    print(mse)\n",
    "    # Return the mean squared error as the fitness value\n",
    "    return mse,"
   ]
  },
  {
   "cell_type": "code",
   "execution_count": 42,
   "id": "9ac1c336-1ea9-4bdf-9e69-1def27f58ee5",
   "metadata": {
    "tags": []
   },
   "outputs": [
    {
     "name": "stdout",
     "output_type": "stream",
     "text": [
      "0.25596613950037883\n",
      "0.2593819007563113\n",
      "0.25912751177367405\n",
      "0.25346894812101567\n",
      "0.2765813945930365\n",
      "0.26351352356390384\n",
      "0.2591031756482264\n",
      "0.2690328250973167\n",
      "0.25793185881219793\n",
      "0.25594500381924457\n",
      "0.25787804338904285\n",
      "0.26364151117487505\n",
      "0.2588177704302016\n",
      "0.2636245145173169\n",
      "0.2598319049068547\n",
      "0.2606035683497275\n",
      "0.2574062141126624\n",
      "0.2622033720728791\n",
      "0.2538519906116169\n",
      "0.2798138099830993\n",
      "0.2624358455901015\n",
      "0.2592925074340282\n",
      "0.2560226347188881\n",
      "0.2582519798509477\n",
      "0.2568717159651918\n",
      "0.2567246966169239\n",
      "0.25688360344624034\n",
      "0.2661114152248766\n",
      "0.2583276956564993\n",
      "0.25701194246737447\n",
      "0.2702098948067474\n",
      "0.2579433682920081\n",
      "0.2554038467626306\n",
      "0.2507642934113945\n",
      "0.2581292666534824\n",
      "0.2525801199610961\n",
      "0.25832654631450974\n",
      "0.25805506753204077\n",
      "0.25959386349770264\n",
      "0.27111100099335395\n",
      "0.2590319128675398\n",
      "0.2701412215387374\n",
      "0.2607822931007001\n",
      "0.2602068820819347\n",
      "0.2546637826323551\n",
      "0.2509916709546849\n",
      "0.26320271054719924\n",
      "0.26235944831765\n",
      "0.2504775343884276\n",
      "0.2579820261595721\n",
      "gen\tnevals\n",
      "0  \t50    \n",
      "0.2537989422787812\n",
      "0.2590942997183036\n",
      "0.2524298248559316\n",
      "0.2513236381832119\n",
      "0.2566490678039343\n",
      "0.25322321737306774\n",
      "0.2586897538956654\n",
      "0.25837423142413435\n",
      "0.2509916709546849\n",
      "0.2509916709546849\n",
      "0.2548812012528862\n",
      "0.25641475994482227\n",
      "0.25779443879732566\n",
      "0.25545623958697755\n",
      "0.2533442128018617\n",
      "0.25553682787270066\n",
      "0.25959280882826047\n",
      "0.2606437132287582\n",
      "0.2591814099046096\n",
      "0.2555143167684413\n",
      "0.2637011187528842\n",
      "0.25953144836972963\n",
      "0.2507376690312\n",
      "0.2540111217930277\n",
      "0.25467610432584464\n",
      "0.24938692655281655\n",
      "0.25687750119114855\n",
      "0.25088381382512454\n",
      "0.25710784063116193\n",
      "0.2504775343884276\n",
      "0.2507642934113945\n",
      "0.2537812512302\n",
      "0.25079350920010535\n",
      "0.2539715175346807\n",
      "0.2588323381465491\n",
      "0.25572975873738635\n",
      "0.2581693042310049\n",
      "1  \t37    \n",
      "0.2535398939107702\n",
      "0.2550184292113627\n",
      "0.25102828764553164\n",
      "0.2539667683542646\n",
      "0.2514159743927575\n",
      "0.25864093147423817\n",
      "0.258804167151445\n",
      "0.25055236146333476\n",
      "0.24973282217032494\n",
      "0.2508931910369538\n",
      "0.2505102690221371\n",
      "0.2546026718080567\n",
      "0.2623347138666277\n",
      "0.25571750496529155\n",
      "0.253314749940122\n",
      "0.26092528553820404\n",
      "0.2509916709546849\n",
      "0.26155156201733853\n",
      "0.2567531871985818\n",
      "0.24973282217032494\n",
      "0.25055236146333476\n",
      "0.24938692655281655\n",
      "0.25641475994482227\n",
      "0.25594500381924457\n",
      "0.2658900767617784\n",
      "0.2504775343884276\n",
      "0.25386802149355314\n",
      "0.25106562494513485\n",
      "0.2518707428624568\n",
      "0.25314013043714767\n",
      "0.25689656850711795\n",
      "0.2571731761800607\n",
      "2  \t32    \n",
      "0.25088381382512454\n",
      "0.2511374125083613\n",
      "0.2510527992053981\n",
      "0.25849584373148876\n",
      "0.24938692655281655\n",
      "0.2504775343884276\n",
      "0.25135244867329165\n",
      "0.25055236146333476\n",
      "0.2504775343884276\n",
      "0.2504775343884276\n",
      "0.25088381382512454\n",
      "0.2505102690221371\n",
      "0.25426301381405825\n",
      "0.250579571969866\n",
      "0.2506169528586632\n",
      "0.25787463472617733\n",
      "0.2550691382988466\n",
      "0.24881604883009537\n",
      "0.25088381382512454\n",
      "0.25106562494513485\n",
      "0.24938692655281655\n",
      "0.2500522635892216\n",
      "0.250036909915527\n",
      "0.25049032689858713\n",
      "0.25294935504890176\n",
      "0.25183180273915323\n",
      "0.2502758406191382\n",
      "0.25071451502101477\n",
      "0.2560446326898115\n",
      "0.2504775343884276\n",
      "0.2509916709546849\n",
      "0.2509916709546849\n",
      "0.25106562494513485\n",
      "0.24930083031227118\n",
      "3  \t34    \n",
      "0.25075863129859044\n",
      "0.24850414655358924\n",
      "0.25046431333412006\n",
      "0.24973282217032494\n",
      "0.24824540757130545\n",
      "0.25084628975354734\n",
      "0.2504775343884276\n",
      "0.24930083031227118\n",
      "0.25106562494513485\n",
      "0.25033049809015306\n",
      "0.2511619143977366\n",
      "0.2505102690221371\n",
      "0.25135244867329165\n",
      "0.24938692655281655\n",
      "0.24938692655281655\n",
      "0.25056910165574914\n",
      "0.2501589358395144\n",
      "0.2504775343884276\n",
      "0.2504775343884276\n",
      "0.2504775343884276\n",
      "0.2504775343884276\n",
      "0.25079350920010535\n",
      "0.24929704601743316\n",
      "0.25020255810535663\n",
      "0.25037354788241706\n",
      "0.2505298687195848\n",
      "0.2504775343884276\n",
      "0.24938692655281655\n",
      "0.25723119743523487\n",
      "0.2501589358395144\n",
      "0.2504775343884276\n",
      "0.2557087967587704\n",
      "0.2490333266439752\n",
      "0.25106562494513485\n",
      "0.2482852787988616\n",
      "0.2502566377000271\n",
      "4  \t36    \n",
      "0.25124481409234123\n",
      "0.24938692655281655\n",
      "0.2490333266439752\n",
      "0.24938692655281655\n",
      "0.2506645575812279\n",
      "0.25020255810535663\n",
      "0.24938692655281655\n",
      "0.2504775343884276\n",
      "0.2487208347418648\n",
      "0.25095077562525825\n",
      "0.2490333266439752\n",
      "0.2482852787988616\n",
      "0.25074514080393173\n",
      "0.24903296997151902\n",
      "0.24850414655358924\n",
      "0.24938692655281655\n",
      "0.24938692655281655\n",
      "0.24938692655281655\n",
      "0.24981703283806986\n",
      "0.25004571943328713\n",
      "0.24938692655281655\n",
      "0.24938692655281655\n",
      "0.2513966130816316\n",
      "0.24900388142670132\n",
      "0.24857998552093954\n",
      "0.2503009683253787\n",
      "0.26191019739050203\n",
      "0.248328058030171\n",
      "0.2590704594588112\n",
      "5  \t29    \n"
     ]
    },
    {
     "data": {
      "text/plain": [
       "([[140, 29, 11, 2, 4],\n",
       "  [33, 39, 6, 2, 4],\n",
       "  [33, 39, 6, 2, 5],\n",
       "  [218, 30, 11, 2, 4],\n",
       "  [218, 30, 11, 2, 4],\n",
       "  [218, 30, 11, 2, 4],\n",
       "  [218, 30, 11, 3, 5],\n",
       "  [981, 29, 11, 2, 4],\n",
       "  [122, 29, 11, 2, 4],\n",
       "  [218, 30, 11, 2, 4],\n",
       "  [122, 48, 15, 29, 4],\n",
       "  [981, 39, 15, 2, 6],\n",
       "  [218, 30, 11, 2, 5],\n",
       "  [122, 48, 15, 29, 6],\n",
       "  [981, 29, 11, 2, 4],\n",
       "  [218, 30, 11, 2, 4],\n",
       "  [218, 30, 11, 2, 4],\n",
       "  [981, 39, 15, 2, 4],\n",
       "  [981, 30, 11, 2, 4],\n",
       "  [218, 30, 14, 29, 6],\n",
       "  [122, 29, 11, 2, 4],\n",
       "  [919, 36, 11, 2, 4],\n",
       "  [218, 30, 11, 3, 5],\n",
       "  [218, 30, 11, 29, 6],\n",
       "  [140, 48, 11, 2, 4],\n",
       "  [218, 30, 11, 2, 4],\n",
       "  [218, 39, 15, 2, 4],\n",
       "  [981, 30, 11, 2, 5],\n",
       "  [33, 39, 6, 2, 4],\n",
       "  [218, 30, 11, 2, 4],\n",
       "  [981, 29, 11, 2, 4],\n",
       "  [218, 30, 11, 2, 4],\n",
       "  [218, 30, 11, 2, 4],\n",
       "  [218, 30, 11, 2, 4],\n",
       "  [140, 48, 11, 18, 4],\n",
       "  [981, 39, 15, 2, 4],\n",
       "  [981, 39, 14, 2, 5],\n",
       "  [218, 30, 11, 2, 4],\n",
       "  [218, 30, 15, 29, 6],\n",
       "  [218, 30, 15, 29, 6],\n",
       "  [218, 30, 11, 2, 4],\n",
       "  [218, 30, 16, 2, 5],\n",
       "  [218, 30, 11, 3, 5],\n",
       "  [919, 36, 11, 2, 4],\n",
       "  [33, 29, 11, 2, 4],\n",
       "  [981, 39, 6, 2, 4],\n",
       "  [140, 29, 14, 29, 4],\n",
       "  [225, 30, 38, 2, 4],\n",
       "  [981, 48, 11, 2, 4],\n",
       "  [140, 30, 33, 2, 4]],\n",
       " [{'gen': 0, 'nevals': 50},\n",
       "  {'gen': 1, 'nevals': 37},\n",
       "  {'gen': 2, 'nevals': 32},\n",
       "  {'gen': 3, 'nevals': 34},\n",
       "  {'gen': 4, 'nevals': 36},\n",
       "  {'gen': 5, 'nevals': 29}])"
      ]
     },
     "execution_count": 42,
     "metadata": {},
     "output_type": "execute_result"
    }
   ],
   "source": [
    "\n",
    "# Define the genetic algorithm parameters\n",
    "toolbox = base.Toolbox()\n",
    "creator.create(\"FitnessMin\", base.Fitness, weights=(-1.0,))\n",
    "creator.create(\"Individual\", list, fitness=creator.FitnessMin)\n",
    "toolbox.register(\"attr_n_estimators\", random.randint, 1, 1000)\n",
    "toolbox.register(\"attr_max_depth\", random.randint, 1, 50)\n",
    "toolbox.register(\"attr_max_features\", random.randint, 1, len(x.columns))\n",
    "toolbox.register(\"attr_min_samples_split\", random.randint, 2,50)\n",
    "toolbox.register(\"attr_min_samples_leaf\", random.randint, 1,50)\n",
    "toolbox.register(\"individual\", tools.initCycle, creator.Individual, (toolbox.attr_n_estimators, toolbox.attr_max_depth, toolbox.attr_max_features, toolbox.attr_min_samples_split, toolbox.attr_min_samples_leaf), n=1)\n",
    "toolbox.register(\"population\", tools.initRepeat, list, toolbox.individual)\n",
    "toolbox.register(\"evaluate\", evaluate)\n",
    "toolbox.register(\"mate\", tools.cxOnePoint)\n",
    "toolbox.register(\"mutate\", tools.mutUniformInt, low=2, up=len(x.columns), indpb=0.1)\n",
    "toolbox.register(\"select\", tools.selTournament, tournsize=3)\n",
    "\n",
    "# Run the genetic algorithm\n",
    "population = toolbox.population(n=50)\n",
    "algorithms.eaSimple(population, toolbox, cxpb=0.5, mutpb=0.2, ngen=5)\n"
   ]
  },
  {
   "cell_type": "code",
   "execution_count": 43,
   "id": "44a0435e-3242-43be-bf96-9d1d0ab2b160",
   "metadata": {
    "tags": []
   },
   "outputs": [],
   "source": [
    "# Select the best individual\n",
    "best_individual = tools.selBest(population, k=1)[0]\n",
    "n_estimators, max_depth, max_features, min_samples_split, min_samples_leaf = best_individual"
   ]
  },
  {
   "cell_type": "code",
   "execution_count": 44,
   "id": "0adad660-0472-4275-8adc-fc29fbad09ae",
   "metadata": {
    "tags": []
   },
   "outputs": [
    {
     "name": "stdout",
     "output_type": "stream",
     "text": [
      "Mean squared error with optimized hyperparameters:  0.24824540757130545\n"
     ]
    }
   ],
   "source": [
    "# Train the model with the best hyperparameters\n",
    "rf = RandomForestRegressor(n_estimators=n_estimators, max_depth=max_depth, max_features=max_features,min_samples_split=min_samples_split,min_samples_leaf=min_samples_leaf, random_state=42)\n",
    "rf.fit(X_train, y_train)\n",
    "Y_pred = rf.predict(X_test)\n",
    "mse = mean_squared_error(y_test, Y_pred)\n",
    "print(\"Mean squared error with optimized hyperparameters: \", mse)"
   ]
  },
  {
   "cell_type": "code",
   "execution_count": 45,
   "id": "b9120b81-4577-4de3-bdaf-1b980b8a3672",
   "metadata": {
    "tags": []
   },
   "outputs": [
    {
     "data": {
      "text/plain": [
       "['model.joblib']"
      ]
     },
     "execution_count": 45,
     "metadata": {},
     "output_type": "execute_result"
    }
   ],
   "source": [
    "import joblib\n",
    "\n",
    "# Save the model to a file\n",
    "joblib.dump(rf, 'model.joblib')"
   ]
  },
  {
   "cell_type": "code",
   "execution_count": 58,
   "id": "e6738e13-88d0-41b4-8adf-77f918d3afd2",
   "metadata": {
    "tags": []
   },
   "outputs": [
    {
     "name": "stdout",
     "output_type": "stream",
     "text": [
      "Mean squared error with optimized hyperparameters:  477494868911663.8\n",
      "[14020181.23418191]\n"
     ]
    },
    {
     "name": "stderr",
     "output_type": "stream",
     "text": [
      "/Users/user/Desktop/predicode/fastapi-backend/my_venv/lib/python3.11/site-packages/sklearn/base.py:439: UserWarning: X does not have valid feature names, but RandomForestRegressor was fitted with feature names\n",
      "  warnings.warn(\n"
     ]
    }
   ],
   "source": [
    "y_install = df[['Size']]\n",
    "x_install = df[['Installs']]\n",
    "x_install_train, x_install_test, y_install_train, y_install_test = train_test_split(x_install, y_install, random_state=1)\n",
    "# Train the model with the best hyperparameters\n",
    "rf_install = RandomForestRegressor(n_estimators=n_estimators, max_depth=max_depth, max_features=max_features,min_samples_split=min_samples_split,min_samples_leaf=min_samples_leaf, random_state=42)\n",
    "rf_install.fit(x_install_train, y_install_train)\n",
    "y_install_pred = rf_install.predict(x_install_test)\n",
    "mse = mean_squared_error(y_install_test, y_install_pred)\n",
    "print(\"Mean squared error with optimized hyperparameters: \", mse)\n",
    "print(rf_install.predict([[300]]))"
   ]
  },
  {
   "cell_type": "code",
   "execution_count": 59,
   "id": "ca4ee392-add0-4443-8c4c-57b2da6d1090",
   "metadata": {
    "tags": []
   },
   "outputs": [],
   "source": [
    "# Create a fitness function that measures the performance of the model\n",
    "def evaluate_install(individual):\n",
    "    # Convert the individual into a list of hyperparameters\n",
    "    n_estimators = individual[0]\n",
    "    max_depth = individual[1]\n",
    "    max_features = individual[2]\n",
    "    min_samples_split = individual[3]\n",
    "    min_samples_leaf = individual[4]\n",
    "    \n",
    "    # Create a random forest model with the given hyperparameters\n",
    "    rf_install = RandomForestRegressor(n_estimators=n_estimators, max_depth=max_depth, max_features=max_features, min_samples_split=min_samples_split, min_samples_leaf=min_samples_leaf,random_state=42)\n",
    "    \n",
    "    # Train the model on the training data\n",
    "    rf_install.fit(x_install_train, y_install_train)\n",
    "    \n",
    "    # Evaluate the model on the test data\n",
    "    y_pred = rf_install.predict(x_install_test)\n",
    "    mse = mean_squared_error(y_install_test, y_install_pred)\n",
    "    print(mse)\n",
    "    # Return the mean squared error as the fitness value\n",
    "    return mse,"
   ]
  },
  {
   "cell_type": "code",
   "execution_count": 60,
   "id": "c5e7185e-c084-4531-977e-6c583a7da706",
   "metadata": {
    "tags": []
   },
   "outputs": [
    {
     "name": "stderr",
     "output_type": "stream",
     "text": [
      "/Users/user/Desktop/predicode/fastapi-backend/my_venv/lib/python3.11/site-packages/deap/creator.py:138: RuntimeWarning: A class named 'FitnessMin' has already been created and it will be overwritten. Consider deleting previous creation of that class or rename it.\n",
      "  warnings.warn(\"A class named '{0}' has already been created and it \"\n",
      "/Users/user/Desktop/predicode/fastapi-backend/my_venv/lib/python3.11/site-packages/deap/creator.py:138: RuntimeWarning: A class named 'Individual' has already been created and it will be overwritten. Consider deleting previous creation of that class or rename it.\n",
      "  warnings.warn(\"A class named '{0}' has already been created and it \"\n"
     ]
    },
    {
     "name": "stdout",
     "output_type": "stream",
     "text": [
      "477494868911663.8\n",
      "477494868911663.8\n",
      "477494868911663.8\n",
      "477494868911663.8\n",
      "477494868911663.8\n",
      "477494868911663.8\n",
      "477494868911663.8\n",
      "477494868911663.8\n",
      "477494868911663.8\n",
      "477494868911663.8\n",
      "477494868911663.8\n",
      "477494868911663.8\n",
      "477494868911663.8\n",
      "477494868911663.8\n",
      "477494868911663.8\n",
      "477494868911663.8\n",
      "477494868911663.8\n",
      "477494868911663.8\n",
      "477494868911663.8\n",
      "477494868911663.8\n",
      "477494868911663.8\n",
      "477494868911663.8\n",
      "477494868911663.8\n",
      "477494868911663.8\n",
      "477494868911663.8\n",
      "477494868911663.8\n",
      "477494868911663.8\n",
      "477494868911663.8\n",
      "477494868911663.8\n",
      "477494868911663.8\n",
      "477494868911663.8\n",
      "477494868911663.8\n",
      "477494868911663.8\n",
      "477494868911663.8\n",
      "477494868911663.8\n",
      "477494868911663.8\n",
      "477494868911663.8\n",
      "477494868911663.8\n",
      "477494868911663.8\n",
      "477494868911663.8\n",
      "477494868911663.8\n",
      "477494868911663.8\n",
      "477494868911663.8\n",
      "477494868911663.8\n",
      "477494868911663.8\n",
      "477494868911663.8\n",
      "477494868911663.8\n",
      "477494868911663.8\n",
      "477494868911663.8\n",
      "477494868911663.8\n",
      "gen\tnevals\n",
      "0  \t50    \n",
      "477494868911663.8\n",
      "477494868911663.8\n",
      "477494868911663.8\n",
      "477494868911663.8\n",
      "477494868911663.8\n",
      "477494868911663.8\n",
      "477494868911663.8\n",
      "477494868911663.8\n",
      "477494868911663.8\n",
      "477494868911663.8\n",
      "477494868911663.8\n",
      "477494868911663.8\n",
      "477494868911663.8\n",
      "477494868911663.8\n",
      "477494868911663.8\n",
      "477494868911663.8\n",
      "477494868911663.8\n",
      "477494868911663.8\n",
      "477494868911663.8\n",
      "477494868911663.8\n",
      "477494868911663.8\n",
      "477494868911663.8\n",
      "477494868911663.8\n",
      "477494868911663.8\n",
      "477494868911663.8\n",
      "477494868911663.8\n",
      "477494868911663.8\n",
      "477494868911663.8\n",
      "477494868911663.8\n",
      "477494868911663.8\n",
      "477494868911663.8\n",
      "477494868911663.8\n",
      "477494868911663.8\n",
      "477494868911663.8\n",
      "1  \t34    \n",
      "477494868911663.8\n",
      "477494868911663.8\n",
      "477494868911663.8\n",
      "477494868911663.8\n",
      "477494868911663.8\n",
      "477494868911663.8\n",
      "477494868911663.8\n",
      "477494868911663.8\n",
      "477494868911663.8\n",
      "477494868911663.8\n",
      "477494868911663.8\n",
      "477494868911663.8\n",
      "477494868911663.8\n",
      "477494868911663.8\n",
      "477494868911663.8\n",
      "477494868911663.8\n",
      "477494868911663.8\n",
      "477494868911663.8\n",
      "477494868911663.8\n",
      "477494868911663.8\n",
      "477494868911663.8\n",
      "477494868911663.8\n",
      "477494868911663.8\n",
      "2  \t23    \n",
      "477494868911663.8\n",
      "477494868911663.8\n",
      "477494868911663.8\n",
      "477494868911663.8\n",
      "477494868911663.8\n",
      "477494868911663.8\n",
      "477494868911663.8\n",
      "477494868911663.8\n",
      "477494868911663.8\n",
      "477494868911663.8\n",
      "477494868911663.8\n",
      "477494868911663.8\n",
      "477494868911663.8\n",
      "477494868911663.8\n",
      "477494868911663.8\n",
      "477494868911663.8\n",
      "477494868911663.8\n",
      "477494868911663.8\n",
      "477494868911663.8\n",
      "477494868911663.8\n",
      "477494868911663.8\n",
      "477494868911663.8\n",
      "477494868911663.8\n",
      "477494868911663.8\n",
      "477494868911663.8\n",
      "477494868911663.8\n",
      "477494868911663.8\n",
      "477494868911663.8\n",
      "477494868911663.8\n",
      "477494868911663.8\n",
      "477494868911663.8\n",
      "477494868911663.8\n",
      "477494868911663.8\n",
      "3  \t33    \n",
      "477494868911663.8\n",
      "477494868911663.8\n",
      "477494868911663.8\n",
      "477494868911663.8\n",
      "477494868911663.8\n",
      "477494868911663.8\n",
      "477494868911663.8\n",
      "477494868911663.8\n",
      "477494868911663.8\n",
      "477494868911663.8\n",
      "477494868911663.8\n",
      "477494868911663.8\n",
      "477494868911663.8\n",
      "477494868911663.8\n",
      "477494868911663.8\n",
      "477494868911663.8\n",
      "477494868911663.8\n",
      "477494868911663.8\n",
      "477494868911663.8\n",
      "477494868911663.8\n",
      "477494868911663.8\n",
      "477494868911663.8\n",
      "477494868911663.8\n",
      "477494868911663.8\n",
      "477494868911663.8\n",
      "477494868911663.8\n",
      "477494868911663.8\n",
      "477494868911663.8\n",
      "477494868911663.8\n",
      "477494868911663.8\n",
      "477494868911663.8\n",
      "477494868911663.8\n",
      "477494868911663.8\n",
      "477494868911663.8\n",
      "477494868911663.8\n",
      "477494868911663.8\n",
      "477494868911663.8\n",
      "4  \t37    \n",
      "477494868911663.8\n",
      "477494868911663.8\n",
      "477494868911663.8\n",
      "477494868911663.8\n",
      "477494868911663.8\n",
      "477494868911663.8\n",
      "477494868911663.8\n",
      "477494868911663.8\n",
      "477494868911663.8\n",
      "477494868911663.8\n",
      "477494868911663.8\n",
      "477494868911663.8\n",
      "477494868911663.8\n",
      "477494868911663.8\n",
      "477494868911663.8\n",
      "477494868911663.8\n",
      "477494868911663.8\n",
      "477494868911663.8\n",
      "477494868911663.8\n",
      "477494868911663.8\n",
      "477494868911663.8\n",
      "477494868911663.8\n",
      "477494868911663.8\n",
      "477494868911663.8\n",
      "477494868911663.8\n",
      "477494868911663.8\n",
      "477494868911663.8\n",
      "477494868911663.8\n",
      "477494868911663.8\n",
      "477494868911663.8\n",
      "477494868911663.8\n",
      "477494868911663.8\n",
      "5  \t32    \n"
     ]
    },
    {
     "data": {
      "text/plain": [
       "([[878, 10, 23, 8, 45],\n",
       "  [841, 45, 11, 29, 37],\n",
       "  [805, 38, 35, 42, 48],\n",
       "  [95, 41, 5, 29, 11],\n",
       "  [448, 4, 36, 42, 9],\n",
       "  [5, 10, 25, 21, 25],\n",
       "  [729, 21, 36, 29, 24],\n",
       "  [729, 41, 29, 50, 7],\n",
       "  [729, 41, 36, 42, 39],\n",
       "  [500, 16, 5, 6, 16],\n",
       "  [19, 3, 10, 26, 49],\n",
       "  [841, 45, 11, 29, 37],\n",
       "  [805, 30, 13, 10, 31],\n",
       "  [729, 4, 27, 21, 28],\n",
       "  [422, 46, 41, 31, 36],\n",
       "  [16, 41, 36, 17, 12],\n",
       "  [19, 3, 10, 26, 49],\n",
       "  [320, 30, 21, 10, 31],\n",
       "  [95, 38, 35, 42, 48],\n",
       "  [95, 38, 11, 29, 37],\n",
       "  [320, 30, 13, 4, 18],\n",
       "  [331, 33, 41, 36, 31],\n",
       "  [422, 38, 35, 42, 48],\n",
       "  [95, 47, 25, 21, 25],\n",
       "  [841, 3, 19, 21, 25],\n",
       "  [729, 21, 29, 50, 7],\n",
       "  [917, 16, 5, 6, 16],\n",
       "  [776, 3, 21, 27, 28],\n",
       "  [500, 35, 41, 16, 37],\n",
       "  [841, 45, 11, 29, 11],\n",
       "  [729, 41, 36, 17, 11],\n",
       "  [841, 45, 35, 42, 48],\n",
       "  [320, 30, 13, 10, 31],\n",
       "  [500, 35, 41, 16, 11],\n",
       "  [729, 30, 13, 29, 34],\n",
       "  [878, 10, 23, 10, 31],\n",
       "  [573, 47, 23, 29, 9],\n",
       "  [448, 4, 36, 42, 34],\n",
       "  [320, 41, 36, 17, 11],\n",
       "  [805, 41, 5, 21, 28],\n",
       "  [729, 30, 13, 50, 7],\n",
       "  [729, 21, 29, 10, 31],\n",
       "  [805, 8, 27, 17, 48],\n",
       "  [841, 45, 35, 42, 11],\n",
       "  [776, 16, 5, 6, 16],\n",
       "  [805, 4, 10, 21, 28],\n",
       "  [500, 35, 41, 16, 37],\n",
       "  [841, 45, 11, 29, 11],\n",
       "  [19, 45, 11, 29, 37],\n",
       "  [95, 38, 11, 29, 37]],\n",
       " [{'gen': 0, 'nevals': 50},\n",
       "  {'gen': 1, 'nevals': 34},\n",
       "  {'gen': 2, 'nevals': 23},\n",
       "  {'gen': 3, 'nevals': 33},\n",
       "  {'gen': 4, 'nevals': 37},\n",
       "  {'gen': 5, 'nevals': 32}])"
      ]
     },
     "execution_count": 60,
     "metadata": {},
     "output_type": "execute_result"
    }
   ],
   "source": [
    "\n",
    "# Define the genetic algorithm parameters\n",
    "toolbox = base.Toolbox()\n",
    "creator.create(\"FitnessMin\", base.Fitness, weights=(-1.0,))\n",
    "creator.create(\"Individual\", list, fitness=creator.FitnessMin)\n",
    "toolbox.register(\"attr_n_estimators\", random.randint, 1, 1000)\n",
    "toolbox.register(\"attr_max_depth\", random.randint, 1, 50)\n",
    "toolbox.register(\"attr_max_features\", random.randint, 1, len(x.columns))\n",
    "toolbox.register(\"attr_min_samples_split\", random.randint, 2,50)\n",
    "toolbox.register(\"attr_min_samples_leaf\", random.randint, 1,50)\n",
    "toolbox.register(\"individual\", tools.initCycle, creator.Individual, (toolbox.attr_n_estimators, toolbox.attr_max_depth, toolbox.attr_max_features, toolbox.attr_min_samples_split, toolbox.attr_min_samples_leaf), n=1)\n",
    "toolbox.register(\"population\", tools.initRepeat, list, toolbox.individual)\n",
    "toolbox.register(\"evaluate\", evaluate_install)\n",
    "toolbox.register(\"mate\", tools.cxOnePoint)\n",
    "toolbox.register(\"mutate\", tools.mutUniformInt, low=2, up=len(x.columns), indpb=0.1)\n",
    "toolbox.register(\"select\", tools.selTournament, tournsize=3)\n",
    "\n",
    "# Run the genetic algorithm\n",
    "population = toolbox.population(n=50)\n",
    "algorithms.eaSimple(population, toolbox, cxpb=0.5, mutpb=0.2, ngen=5)"
   ]
  },
  {
   "cell_type": "code",
   "execution_count": 61,
   "id": "c9ca20c0-2f4c-419a-9fe9-b7238da6e199",
   "metadata": {},
   "outputs": [],
   "source": [
    "# Select the best individual\n",
    "best_install_individual = tools.selBest(population, k=1)[0]\n",
    "n_estimators, max_depth, max_features, min_samples_split, min_samples_leaf = best_install_individual"
   ]
  },
  {
   "cell_type": "code",
   "execution_count": 62,
   "id": "5aae4e3d-2fb0-4ff9-b4be-8bd977034706",
   "metadata": {},
   "outputs": [
    {
     "name": "stdout",
     "output_type": "stream",
     "text": [
      "Mean squared error with optimized hyperparameters:  477380202111908.25\n"
     ]
    }
   ],
   "source": [
    "# Train the model with the best hyperparameters\n",
    "rf_install = RandomForestRegressor(n_estimators=n_estimators, max_depth=max_depth, max_features=max_features,min_samples_split=min_samples_split,min_samples_leaf=min_samples_leaf, random_state=42)\n",
    "rf_install.fit(x_install_train, y_install_train)\n",
    "y_install_pred = rf_install.predict(x_install_test)\n",
    "mse = mean_squared_error(y_install_test, y_install_pred)\n",
    "print(\"Mean squared error with optimized hyperparameters: \", mse)"
   ]
  },
  {
   "cell_type": "code",
   "execution_count": 63,
   "id": "81539111-1190-46b3-a8e4-8f1ad0a6dc84",
   "metadata": {},
   "outputs": [
    {
     "data": {
      "text/plain": [
       "['install_model.joblib']"
      ]
     },
     "execution_count": 63,
     "metadata": {},
     "output_type": "execute_result"
    }
   ],
   "source": [
    "joblib.dump(rf_install, 'install_model.joblib')"
   ]
  },
  {
   "cell_type": "code",
   "execution_count": null,
   "id": "8e0e51a6-b88b-41d9-9475-be44c9261c93",
   "metadata": {},
   "outputs": [],
   "source": []
  },
  {
   "cell_type": "code",
   "execution_count": 64,
   "id": "0fcb7840-aa88-4965-974b-7dd3e93cf60d",
   "metadata": {
    "tags": []
   },
   "outputs": [
    {
     "name": "stdout",
     "output_type": "stream",
     "text": [
      "Mean squared error with optimized hyperparameters:  462481062073656.4\n",
      "[18173042.625218]\n"
     ]
    },
    {
     "name": "stderr",
     "output_type": "stream",
     "text": [
      "/Users/user/Desktop/predicode/fastapi-backend/my_venv/lib/python3.11/site-packages/sklearn/base.py:439: UserWarning: X does not have valid feature names, but RandomForestRegressor was fitted with feature names\n",
      "  warnings.warn(\n"
     ]
    }
   ],
   "source": [
    "y_review = df[['Size']]\n",
    "x_review = df[['Reviews']]\n",
    "x_review_train, x_review_test, y_review_train, y_review_test = train_test_split(x_review, y_review, random_state=1)\n",
    "# Train the model with the best hyperparameters\n",
    "rf_review = RandomForestRegressor(n_estimators=n_estimators, max_depth=max_depth, max_features=max_features,min_samples_split=min_samples_split,min_samples_leaf=min_samples_leaf, random_state=42)\n",
    "rf_review.fit(x_review_train, y_review_train)\n",
    "y_review_pred = rf_review.predict(x_review_test)\n",
    "mse = mean_squared_error(y_review_test, y_review_pred)\n",
    "print(\"Mean squared error with optimized hyperparameters: \", mse)\n",
    "print(rf_review.predict([[300]]))"
   ]
  },
  {
   "cell_type": "code",
   "execution_count": 65,
   "id": "3ed09735-8191-4e67-a8b9-7b89212404c8",
   "metadata": {
    "tags": []
   },
   "outputs": [],
   "source": [
    "# Create a fitness function that measures the performance of the model\n",
    "def evaluate_review(individual):\n",
    "    # Convert the individual into a list of hyperparameters\n",
    "    n_estimators = individual[0]\n",
    "    max_depth = individual[1]\n",
    "    max_features = individual[2]\n",
    "    min_samples_split = individual[3]\n",
    "    min_samples_leaf = individual[4]\n",
    "    \n",
    "    # Create a random forest model with the given hyperparameters\n",
    "    rf_review = RandomForestRegressor(n_estimators=n_estimators, max_depth=max_depth, max_features=max_features, min_samples_split=min_samples_split, min_samples_leaf=min_samples_leaf,random_state=42)\n",
    "    \n",
    "    # Train the model on the training data\n",
    "    rf_review.fit(x_review_train, y_review_train)\n",
    "    \n",
    "    # Evaluate the model on the test data\n",
    "    y_pred = rf_review.predict(x_review_test)\n",
    "    mse = mean_squared_error(y_review_test, y_review_pred)\n",
    "    print(mse)\n",
    "    # Return the mean squared error as the fitness value\n",
    "    return mse,"
   ]
  },
  {
   "cell_type": "code",
   "execution_count": 66,
   "id": "e16f9a50-6b2a-43c9-8bf2-3c888d490c7a",
   "metadata": {
    "tags": []
   },
   "outputs": [
    {
     "name": "stderr",
     "output_type": "stream",
     "text": [
      "/Users/user/Desktop/predicode/fastapi-backend/my_venv/lib/python3.11/site-packages/deap/creator.py:138: RuntimeWarning: A class named 'FitnessMin' has already been created and it will be overwritten. Consider deleting previous creation of that class or rename it.\n",
      "  warnings.warn(\"A class named '{0}' has already been created and it \"\n",
      "/Users/user/Desktop/predicode/fastapi-backend/my_venv/lib/python3.11/site-packages/deap/creator.py:138: RuntimeWarning: A class named 'Individual' has already been created and it will be overwritten. Consider deleting previous creation of that class or rename it.\n",
      "  warnings.warn(\"A class named '{0}' has already been created and it \"\n"
     ]
    },
    {
     "name": "stdout",
     "output_type": "stream",
     "text": [
      "462481062073656.4\n",
      "462481062073656.4\n",
      "462481062073656.4\n",
      "462481062073656.4\n",
      "462481062073656.4\n",
      "462481062073656.4\n",
      "462481062073656.4\n",
      "462481062073656.4\n",
      "462481062073656.4\n",
      "462481062073656.4\n",
      "462481062073656.4\n",
      "462481062073656.4\n",
      "462481062073656.4\n",
      "462481062073656.4\n",
      "462481062073656.4\n",
      "462481062073656.4\n",
      "462481062073656.4\n",
      "462481062073656.4\n",
      "462481062073656.4\n",
      "462481062073656.4\n",
      "462481062073656.4\n",
      "462481062073656.4\n",
      "462481062073656.4\n",
      "462481062073656.4\n",
      "462481062073656.4\n",
      "462481062073656.4\n",
      "462481062073656.4\n",
      "462481062073656.4\n",
      "462481062073656.4\n",
      "462481062073656.4\n",
      "462481062073656.4\n",
      "462481062073656.4\n",
      "462481062073656.4\n",
      "462481062073656.4\n",
      "462481062073656.4\n",
      "462481062073656.4\n",
      "462481062073656.4\n",
      "462481062073656.4\n",
      "462481062073656.4\n",
      "462481062073656.4\n",
      "462481062073656.4\n",
      "462481062073656.4\n",
      "462481062073656.4\n",
      "462481062073656.4\n",
      "462481062073656.4\n",
      "462481062073656.4\n",
      "462481062073656.4\n",
      "462481062073656.4\n",
      "462481062073656.4\n",
      "462481062073656.4\n",
      "gen\tnevals\n",
      "0  \t50    \n",
      "462481062073656.4\n",
      "462481062073656.4\n",
      "462481062073656.4\n",
      "462481062073656.4\n",
      "462481062073656.4\n",
      "462481062073656.4\n",
      "462481062073656.4\n",
      "462481062073656.4\n",
      "462481062073656.4\n",
      "462481062073656.4\n",
      "462481062073656.4\n",
      "462481062073656.4\n",
      "462481062073656.4\n",
      "462481062073656.4\n",
      "462481062073656.4\n",
      "462481062073656.4\n",
      "462481062073656.4\n",
      "462481062073656.4\n",
      "462481062073656.4\n",
      "462481062073656.4\n",
      "462481062073656.4\n",
      "462481062073656.4\n",
      "462481062073656.4\n",
      "462481062073656.4\n",
      "462481062073656.4\n",
      "462481062073656.4\n",
      "462481062073656.4\n",
      "462481062073656.4\n",
      "1  \t28    \n",
      "462481062073656.4\n",
      "462481062073656.4\n",
      "462481062073656.4\n",
      "462481062073656.4\n",
      "462481062073656.4\n",
      "462481062073656.4\n",
      "462481062073656.4\n",
      "462481062073656.4\n",
      "462481062073656.4\n",
      "462481062073656.4\n",
      "462481062073656.4\n",
      "462481062073656.4\n",
      "462481062073656.4\n",
      "462481062073656.4\n",
      "462481062073656.4\n",
      "462481062073656.4\n",
      "462481062073656.4\n",
      "462481062073656.4\n",
      "462481062073656.4\n",
      "462481062073656.4\n",
      "462481062073656.4\n",
      "462481062073656.4\n",
      "462481062073656.4\n",
      "462481062073656.4\n",
      "462481062073656.4\n",
      "462481062073656.4\n",
      "462481062073656.4\n",
      "462481062073656.4\n",
      "462481062073656.4\n",
      "2  \t29    \n",
      "462481062073656.4\n",
      "462481062073656.4\n",
      "462481062073656.4\n",
      "462481062073656.4\n",
      "462481062073656.4\n",
      "462481062073656.4\n",
      "462481062073656.4\n",
      "462481062073656.4\n",
      "462481062073656.4\n",
      "462481062073656.4\n",
      "462481062073656.4\n",
      "462481062073656.4\n",
      "462481062073656.4\n",
      "462481062073656.4\n",
      "462481062073656.4\n",
      "462481062073656.4\n",
      "462481062073656.4\n",
      "462481062073656.4\n",
      "462481062073656.4\n",
      "462481062073656.4\n",
      "462481062073656.4\n",
      "462481062073656.4\n",
      "462481062073656.4\n",
      "462481062073656.4\n",
      "462481062073656.4\n",
      "462481062073656.4\n",
      "462481062073656.4\n",
      "462481062073656.4\n",
      "462481062073656.4\n",
      "462481062073656.4\n",
      "3  \t30    \n",
      "462481062073656.4\n",
      "462481062073656.4\n",
      "462481062073656.4\n",
      "462481062073656.4\n",
      "462481062073656.4\n",
      "462481062073656.4\n",
      "462481062073656.4\n",
      "462481062073656.4\n",
      "462481062073656.4\n",
      "462481062073656.4\n",
      "462481062073656.4\n",
      "462481062073656.4\n",
      "462481062073656.4\n",
      "462481062073656.4\n",
      "462481062073656.4\n",
      "462481062073656.4\n",
      "462481062073656.4\n",
      "462481062073656.4\n",
      "462481062073656.4\n",
      "462481062073656.4\n",
      "462481062073656.4\n",
      "462481062073656.4\n",
      "462481062073656.4\n",
      "462481062073656.4\n",
      "462481062073656.4\n",
      "462481062073656.4\n",
      "462481062073656.4\n",
      "462481062073656.4\n",
      "462481062073656.4\n",
      "4  \t29    \n",
      "462481062073656.4\n",
      "462481062073656.4\n",
      "462481062073656.4\n",
      "462481062073656.4\n",
      "462481062073656.4\n",
      "462481062073656.4\n",
      "462481062073656.4\n",
      "462481062073656.4\n",
      "462481062073656.4\n",
      "462481062073656.4\n",
      "462481062073656.4\n",
      "462481062073656.4\n",
      "462481062073656.4\n",
      "462481062073656.4\n",
      "462481062073656.4\n",
      "462481062073656.4\n",
      "462481062073656.4\n",
      "462481062073656.4\n",
      "462481062073656.4\n",
      "462481062073656.4\n",
      "462481062073656.4\n",
      "462481062073656.4\n",
      "462481062073656.4\n",
      "462481062073656.4\n",
      "462481062073656.4\n",
      "462481062073656.4\n",
      "462481062073656.4\n",
      "462481062073656.4\n",
      "462481062073656.4\n",
      "462481062073656.4\n",
      "462481062073656.4\n",
      "462481062073656.4\n",
      "462481062073656.4\n",
      "462481062073656.4\n",
      "462481062073656.4\n",
      "5  \t35    \n"
     ]
    },
    {
     "data": {
      "text/plain": [
       "([[770, 21, 41, 23, 3],\n",
       "  [770, 34, 7, 47, 11],\n",
       "  [28, 21, 7, 47, 11],\n",
       "  [770, 35, 41, 37, 1],\n",
       "  [770, 35, 36, 38, 12],\n",
       "  [942, 17, 41, 23, 3],\n",
       "  [625, 31, 36, 21, 2],\n",
       "  [942, 44, 29, 49, 15],\n",
       "  [28, 21, 6, 28, 27],\n",
       "  [28, 35, 41, 23, 2],\n",
       "  [558, 6, 29, 48, 19],\n",
       "  [6, 49, 33, 35, 23],\n",
       "  [942, 20, 41, 23, 3],\n",
       "  [28, 35, 36, 48, 15],\n",
       "  [28, 35, 41, 37, 1],\n",
       "  [942, 20, 36, 48, 15],\n",
       "  [770, 21, 7, 47, 11],\n",
       "  [33, 49, 7, 47, 11],\n",
       "  [682, 47, 15, 38, 23],\n",
       "  [770, 35, 41, 23, 3],\n",
       "  [942, 17, 36, 38, 12],\n",
       "  [625, 31, 36, 48, 15],\n",
       "  [625, 31, 41, 23, 34],\n",
       "  [167, 35, 15, 38, 3],\n",
       "  [942, 44, 29, 49, 19],\n",
       "  [958, 6, 29, 48, 2],\n",
       "  [167, 35, 41, 23, 34],\n",
       "  [942, 44, 29, 49, 2],\n",
       "  [558, 1, 20, 36, 2],\n",
       "  [253, 49, 33, 35, 23],\n",
       "  [167, 13, 41, 19, 27],\n",
       "  [958, 5, 36, 41, 3],\n",
       "  [28, 35, 29, 49, 2],\n",
       "  [942, 44, 41, 30, 3],\n",
       "  [204, 13, 8, 37, 1],\n",
       "  [28, 35, 41, 23, 3],\n",
       "  [682, 31, 15, 37, 1],\n",
       "  [28, 35, 41, 38, 2],\n",
       "  [682, 47, 36, 30, 12],\n",
       "  [411, 17, 14, 36, 10],\n",
       "  [167, 13, 29, 49, 30],\n",
       "  [942, 44, 29, 49, 2],\n",
       "  [397, 17, 29, 49, 2],\n",
       "  [28, 3, 41, 23, 3],\n",
       "  [942, 44, 29, 37, 1],\n",
       "  [204, 13, 8, 49, 4],\n",
       "  [224, 44, 15, 38, 2],\n",
       "  [682, 31, 12, 26, 30],\n",
       "  [942, 31, 36, 48, 15],\n",
       "  [625, 44, 29, 49, 4]],\n",
       " [{'gen': 0, 'nevals': 50},\n",
       "  {'gen': 1, 'nevals': 28},\n",
       "  {'gen': 2, 'nevals': 29},\n",
       "  {'gen': 3, 'nevals': 30},\n",
       "  {'gen': 4, 'nevals': 29},\n",
       "  {'gen': 5, 'nevals': 35}])"
      ]
     },
     "execution_count": 66,
     "metadata": {},
     "output_type": "execute_result"
    }
   ],
   "source": [
    "\n",
    "# Define the genetic algorithm parameters\n",
    "toolbox = base.Toolbox()\n",
    "creator.create(\"FitnessMin\", base.Fitness, weights=(-1.0,))\n",
    "creator.create(\"Individual\", list, fitness=creator.FitnessMin)\n",
    "toolbox.register(\"attr_n_estimators\", random.randint, 1, 1000)\n",
    "toolbox.register(\"attr_max_depth\", random.randint, 1, 50)\n",
    "toolbox.register(\"attr_max_features\", random.randint, 1, len(x.columns))\n",
    "toolbox.register(\"attr_min_samples_split\", random.randint, 2,50)\n",
    "toolbox.register(\"attr_min_samples_leaf\", random.randint, 1,50)\n",
    "toolbox.register(\"individual\", tools.initCycle, creator.Individual, (toolbox.attr_n_estimators, toolbox.attr_max_depth, toolbox.attr_max_features, toolbox.attr_min_samples_split, toolbox.attr_min_samples_leaf), n=1)\n",
    "toolbox.register(\"population\", tools.initRepeat, list, toolbox.individual)\n",
    "toolbox.register(\"evaluate\", evaluate_review)\n",
    "toolbox.register(\"mate\", tools.cxOnePoint)\n",
    "toolbox.register(\"mutate\", tools.mutUniformInt, low=2, up=len(x.columns), indpb=0.1)\n",
    "toolbox.register(\"select\", tools.selTournament, tournsize=3)\n",
    "\n",
    "# Run the genetic algorithm\n",
    "population = toolbox.population(n=50)\n",
    "algorithms.eaSimple(population, toolbox, cxpb=0.5, mutpb=0.2, ngen=5)"
   ]
  },
  {
   "cell_type": "code",
   "execution_count": null,
   "id": "94c4518d-425a-4961-a942-76336d92d8f6",
   "metadata": {},
   "outputs": [],
   "source": [
    "# Select the best individual\n",
    "best_review_individual = tools.selBest(population, k=1)[0]\n",
    "n_estimators, max_depth, max_features, min_samples_split, min_samples_leaf = best_review_individual"
   ]
  },
  {
   "cell_type": "code",
   "execution_count": null,
   "id": "269918a0-46c0-4e20-873d-fb75e9eefb1d",
   "metadata": {},
   "outputs": [],
   "source": [
    "# Train the model with the best hyperparameters\n",
    "rf_review = RandomForestRegressor(n_estimators=n_estimators, max_depth=max_depth, max_features=max_features,min_samples_split=min_samples_split,min_samples_leaf=min_samples_leaf, random_state=42)\n",
    "rf_review.fit(x_review_train, y_review_train)\n",
    "y_review_pred = rf_review.predict(x_review_test)\n",
    "mse = mean_squared_error(y_review_test, y_review_pred)\n",
    "print(\"Mean squared error with optimized hyperparameters: \", mse)"
   ]
  },
  {
   "cell_type": "code",
   "execution_count": null,
   "id": "132bcb22-e1f6-4c0e-ba0e-4a6fa206af25",
   "metadata": {},
   "outputs": [],
   "source": [
    "joblib.dump(rf_review, 'review_model.joblib')"
   ]
  }
 ],
 "metadata": {
  "kernelspec": {
   "display_name": "Python 3 (ipykernel)",
   "language": "python",
   "name": "python3"
  },
  "language_info": {
   "codemirror_mode": {
    "name": "ipython",
    "version": 3
   },
   "file_extension": ".py",
   "mimetype": "text/x-python",
   "name": "python",
   "nbconvert_exporter": "python",
   "pygments_lexer": "ipython3",
   "version": "3.11.3"
  },
  "toc-autonumbering": false,
  "toc-showcode": true,
  "toc-showmarkdowntxt": true
 },
 "nbformat": 4,
 "nbformat_minor": 5
}
