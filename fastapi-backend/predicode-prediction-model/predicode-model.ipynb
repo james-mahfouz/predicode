{
 "cells": [
  {
   "cell_type": "code",
   "execution_count": 1,
   "id": "9d0ce1ad-45de-4774-9f8f-ea4c9900585e",
   "metadata": {},
   "outputs": [],
   "source": [
    "import pandas as pd\n",
    "import numpy as np\n",
    "\n",
    "from sklearn import preprocessing\n",
    "from sklearn.metrics import mean_squared_error\n",
    "from sklearn.model_selection import train_test_split\n",
    "from sklearn.ensemble import RandomForestRegressor\n"
   ]
  },
  {
   "cell_type": "code",
   "execution_count": 2,
   "id": "c9bdb67b-c148-4a4f-8fd5-ea208a4bd0f2",
   "metadata": {
    "tags": []
   },
   "outputs": [],
   "source": [
    "df = pd.read_csv(\"dataset/googleplaystore.csv\")"
   ]
  },
  {
   "cell_type": "code",
   "execution_count": 3,
   "id": "14d77346-f4d3-4028-86af-8ec40df21c8a",
   "metadata": {
    "tags": []
   },
   "outputs": [
    {
     "data": {
      "text/html": [
       "<div>\n",
       "<style scoped>\n",
       "    .dataframe tbody tr th:only-of-type {\n",
       "        vertical-align: middle;\n",
       "    }\n",
       "\n",
       "    .dataframe tbody tr th {\n",
       "        vertical-align: top;\n",
       "    }\n",
       "\n",
       "    .dataframe thead th {\n",
       "        text-align: right;\n",
       "    }\n",
       "</style>\n",
       "<table border=\"1\" class=\"dataframe\">\n",
       "  <thead>\n",
       "    <tr style=\"text-align: right;\">\n",
       "      <th></th>\n",
       "      <th>App</th>\n",
       "      <th>Category</th>\n",
       "      <th>Rating</th>\n",
       "      <th>Reviews</th>\n",
       "      <th>Size</th>\n",
       "      <th>Installs</th>\n",
       "      <th>Type</th>\n",
       "      <th>Price</th>\n",
       "      <th>Content Rating</th>\n",
       "      <th>Genres</th>\n",
       "      <th>Last Updated</th>\n",
       "      <th>Current Ver</th>\n",
       "      <th>Android Ver</th>\n",
       "    </tr>\n",
       "  </thead>\n",
       "  <tbody>\n",
       "    <tr>\n",
       "      <th>0</th>\n",
       "      <td>Photo Editor &amp; Candy Camera &amp; Grid &amp; ScrapBook</td>\n",
       "      <td>ART_AND_DESIGN</td>\n",
       "      <td>4.1</td>\n",
       "      <td>159</td>\n",
       "      <td>19M</td>\n",
       "      <td>10,000+</td>\n",
       "      <td>Free</td>\n",
       "      <td>0</td>\n",
       "      <td>Everyone</td>\n",
       "      <td>Art &amp; Design</td>\n",
       "      <td>January 7, 2018</td>\n",
       "      <td>1.0.0</td>\n",
       "      <td>4.0.3 and up</td>\n",
       "    </tr>\n",
       "    <tr>\n",
       "      <th>1</th>\n",
       "      <td>Coloring book moana</td>\n",
       "      <td>ART_AND_DESIGN</td>\n",
       "      <td>3.9</td>\n",
       "      <td>967</td>\n",
       "      <td>14M</td>\n",
       "      <td>500,000+</td>\n",
       "      <td>Free</td>\n",
       "      <td>0</td>\n",
       "      <td>Everyone</td>\n",
       "      <td>Art &amp; Design;Pretend Play</td>\n",
       "      <td>January 15, 2018</td>\n",
       "      <td>2.0.0</td>\n",
       "      <td>4.0.3 and up</td>\n",
       "    </tr>\n",
       "    <tr>\n",
       "      <th>2</th>\n",
       "      <td>U Launcher Lite – FREE Live Cool Themes, Hide ...</td>\n",
       "      <td>ART_AND_DESIGN</td>\n",
       "      <td>4.7</td>\n",
       "      <td>87510</td>\n",
       "      <td>8.7M</td>\n",
       "      <td>5,000,000+</td>\n",
       "      <td>Free</td>\n",
       "      <td>0</td>\n",
       "      <td>Everyone</td>\n",
       "      <td>Art &amp; Design</td>\n",
       "      <td>August 1, 2018</td>\n",
       "      <td>1.2.4</td>\n",
       "      <td>4.0.3 and up</td>\n",
       "    </tr>\n",
       "    <tr>\n",
       "      <th>3</th>\n",
       "      <td>Sketch - Draw &amp; Paint</td>\n",
       "      <td>ART_AND_DESIGN</td>\n",
       "      <td>4.5</td>\n",
       "      <td>215644</td>\n",
       "      <td>25M</td>\n",
       "      <td>50,000,000+</td>\n",
       "      <td>Free</td>\n",
       "      <td>0</td>\n",
       "      <td>Teen</td>\n",
       "      <td>Art &amp; Design</td>\n",
       "      <td>June 8, 2018</td>\n",
       "      <td>Varies with device</td>\n",
       "      <td>4.2 and up</td>\n",
       "    </tr>\n",
       "    <tr>\n",
       "      <th>4</th>\n",
       "      <td>Pixel Draw - Number Art Coloring Book</td>\n",
       "      <td>ART_AND_DESIGN</td>\n",
       "      <td>4.3</td>\n",
       "      <td>967</td>\n",
       "      <td>2.8M</td>\n",
       "      <td>100,000+</td>\n",
       "      <td>Free</td>\n",
       "      <td>0</td>\n",
       "      <td>Everyone</td>\n",
       "      <td>Art &amp; Design;Creativity</td>\n",
       "      <td>June 20, 2018</td>\n",
       "      <td>1.1</td>\n",
       "      <td>4.4 and up</td>\n",
       "    </tr>\n",
       "  </tbody>\n",
       "</table>\n",
       "</div>"
      ],
      "text/plain": [
       "                                                 App        Category  Rating   \n",
       "0     Photo Editor & Candy Camera & Grid & ScrapBook  ART_AND_DESIGN     4.1  \\\n",
       "1                                Coloring book moana  ART_AND_DESIGN     3.9   \n",
       "2  U Launcher Lite – FREE Live Cool Themes, Hide ...  ART_AND_DESIGN     4.7   \n",
       "3                              Sketch - Draw & Paint  ART_AND_DESIGN     4.5   \n",
       "4              Pixel Draw - Number Art Coloring Book  ART_AND_DESIGN     4.3   \n",
       "\n",
       "  Reviews  Size     Installs  Type Price Content Rating   \n",
       "0     159   19M      10,000+  Free     0       Everyone  \\\n",
       "1     967   14M     500,000+  Free     0       Everyone   \n",
       "2   87510  8.7M   5,000,000+  Free     0       Everyone   \n",
       "3  215644   25M  50,000,000+  Free     0           Teen   \n",
       "4     967  2.8M     100,000+  Free     0       Everyone   \n",
       "\n",
       "                      Genres      Last Updated         Current Ver   \n",
       "0               Art & Design   January 7, 2018               1.0.0  \\\n",
       "1  Art & Design;Pretend Play  January 15, 2018               2.0.0   \n",
       "2               Art & Design    August 1, 2018               1.2.4   \n",
       "3               Art & Design      June 8, 2018  Varies with device   \n",
       "4    Art & Design;Creativity     June 20, 2018                 1.1   \n",
       "\n",
       "    Android Ver  \n",
       "0  4.0.3 and up  \n",
       "1  4.0.3 and up  \n",
       "2  4.0.3 and up  \n",
       "3    4.2 and up  \n",
       "4    4.4 and up  "
      ]
     },
     "execution_count": 3,
     "metadata": {},
     "output_type": "execute_result"
    }
   ],
   "source": [
    "df.head()"
   ]
  },
  {
   "cell_type": "code",
   "execution_count": 4,
   "id": "8cab98cf-db56-4c06-b27d-1648e0f268e0",
   "metadata": {
    "tags": []
   },
   "outputs": [
    {
     "data": {
      "text/plain": [
       "(10841, 13)"
      ]
     },
     "execution_count": 4,
     "metadata": {},
     "output_type": "execute_result"
    }
   ],
   "source": [
    "df.shape"
   ]
  },
  {
   "cell_type": "code",
   "execution_count": 5,
   "id": "5a1bb6d8-631c-4d70-a4fe-abe64b357ace",
   "metadata": {
    "tags": []
   },
   "outputs": [
    {
     "name": "stdout",
     "output_type": "stream",
     "text": [
      "<class 'pandas.core.frame.DataFrame'>\n",
      "RangeIndex: 10841 entries, 0 to 10840\n",
      "Data columns (total 13 columns):\n",
      " #   Column          Non-Null Count  Dtype  \n",
      "---  ------          --------------  -----  \n",
      " 0   App             10841 non-null  object \n",
      " 1   Category        10841 non-null  object \n",
      " 2   Rating          9367 non-null   float64\n",
      " 3   Reviews         10841 non-null  object \n",
      " 4   Size            10841 non-null  object \n",
      " 5   Installs        10841 non-null  object \n",
      " 6   Type            10840 non-null  object \n",
      " 7   Price           10841 non-null  object \n",
      " 8   Content Rating  10840 non-null  object \n",
      " 9   Genres          10841 non-null  object \n",
      " 10  Last Updated    10841 non-null  object \n",
      " 11  Current Ver     10833 non-null  object \n",
      " 12  Android Ver     10838 non-null  object \n",
      "dtypes: float64(1), object(12)\n",
      "memory usage: 1.1+ MB\n"
     ]
    }
   ],
   "source": [
    "df.info()"
   ]
  },
  {
   "cell_type": "code",
   "execution_count": 6,
   "id": "2139ee3b-950a-4da4-953e-d7078847a981",
   "metadata": {
    "tags": []
   },
   "outputs": [
    {
     "data": {
      "text/plain": [
       "App                  0\n",
       "Category             0\n",
       "Rating            1474\n",
       "Reviews              0\n",
       "Size                 0\n",
       "Installs             0\n",
       "Type                 1\n",
       "Price                0\n",
       "Content Rating       1\n",
       "Genres               0\n",
       "Last Updated         0\n",
       "Current Ver          8\n",
       "Android Ver          3\n",
       "dtype: int64"
      ]
     },
     "execution_count": 6,
     "metadata": {},
     "output_type": "execute_result"
    }
   ],
   "source": [
    "df.isnull().sum()"
   ]
  },
  {
   "cell_type": "code",
   "execution_count": 7,
   "id": "3aa181ee-ffa7-4515-81a7-3546d9cb781b",
   "metadata": {
    "tags": []
   },
   "outputs": [],
   "source": [
    "def value_to_float(x):\n",
    "    # Convert the string feature into float/Integer\n",
    "    #If there is 'K' or 'M' in the string, convert it to the corresponding number (1000 or 1000000)\n",
    "    \n",
    "    if type(x) == float or type(x) == int:\n",
    "        return x\n",
    "    if 'K' in x:\n",
    "        if len(x) > 1:\n",
    "            return float(x.replace('K', '')) * 10**3\n",
    "        return 1000.0\n",
    "    if 'M' in x:\n",
    "        if len(x) > 1:\n",
    "            return float(x.replace('M', '')) * 10**6\n",
    "        return 1000000.0\n",
    "    \n",
    "    # If the string cannot be converted, return 0 instead\n",
    "    try:\n",
    "        parsed_val = float(x)\n",
    "    except ValueError:\n",
    "        parsed_val = 0.0\n",
    "    return parsed_val"
   ]
  },
  {
   "cell_type": "code",
   "execution_count": 8,
   "id": "f7fdf969-7a96-41e9-83a7-c357a3f88f8d",
   "metadata": {
    "tags": []
   },
   "outputs": [],
   "source": [
    "df = df.loc[df[\"Rating\"].notnull()]\n",
    "df = df.loc[df[\"Rating\"] <= 5]\n",
    "\n",
    "df[\"Price\"] = df[\"Price\"].apply(lambda x: x.replace('$', ''))\n",
    "df[\"Installs\"] = df[\"Installs\"].apply(lambda x: x.replace('+', ''))\n",
    "df['Installs'] = df['Installs'].apply(lambda a: str(a).replace(',', '') if ',' in str(a) else a)\n",
    "df['Installs'] = df['Installs'].apply(lambda a : int(a))\n",
    "df['Reviews'] = df['Reviews'].apply(lambda a : int(a))\n",
    "\n",
    "genres = df[\"Genres\"].value_counts().head().index\n",
    "\n",
    "str_cols = [\"Size\", \"Price\"]\n",
    "\n",
    "for col in str_cols:\n",
    "    df[[col]] = df[[col]].fillna(value=\"\")\n",
    "    df[col] = df[col].apply(value_to_float)"
   ]
  },
  {
   "cell_type": "code",
   "execution_count": 9,
   "id": "329feadb-a1de-43f2-b532-8f54b74892d2",
   "metadata": {
    "tags": []
   },
   "outputs": [],
   "source": [
    "df.dropna(inplace=True)"
   ]
  },
  {
   "cell_type": "code",
   "execution_count": 10,
   "id": "c172106e-addf-4290-8fb2-cdf3deeeb655",
   "metadata": {
    "tags": []
   },
   "outputs": [
    {
     "data": {
      "text/plain": [
       "App               0\n",
       "Category          0\n",
       "Rating            0\n",
       "Reviews           0\n",
       "Size              0\n",
       "Installs          0\n",
       "Type              0\n",
       "Price             0\n",
       "Content Rating    0\n",
       "Genres            0\n",
       "Last Updated      0\n",
       "Current Ver       0\n",
       "Android Ver       0\n",
       "dtype: int64"
      ]
     },
     "execution_count": 10,
     "metadata": {},
     "output_type": "execute_result"
    }
   ],
   "source": [
    "df.isnull().sum()"
   ]
  },
  {
   "cell_type": "code",
   "execution_count": 11,
   "id": "e77edb28-6bad-414d-a983-f094a9eda0e3",
   "metadata": {
    "tags": []
   },
   "outputs": [
    {
     "data": {
      "text/plain": [
       "(9360, 13)"
      ]
     },
     "execution_count": 11,
     "metadata": {},
     "output_type": "execute_result"
    }
   ],
   "source": [
    "df.shape"
   ]
  },
  {
   "cell_type": "code",
   "execution_count": 12,
   "id": "cef7a419-47dc-4575-a97c-ffcd87c8f2d6",
   "metadata": {
    "tags": []
   },
   "outputs": [
    {
     "data": {
      "text/html": [
       "<div>\n",
       "<style scoped>\n",
       "    .dataframe tbody tr th:only-of-type {\n",
       "        vertical-align: middle;\n",
       "    }\n",
       "\n",
       "    .dataframe tbody tr th {\n",
       "        vertical-align: top;\n",
       "    }\n",
       "\n",
       "    .dataframe thead th {\n",
       "        text-align: right;\n",
       "    }\n",
       "</style>\n",
       "<table border=\"1\" class=\"dataframe\">\n",
       "  <thead>\n",
       "    <tr style=\"text-align: right;\">\n",
       "      <th></th>\n",
       "      <th>Rating</th>\n",
       "      <th>Reviews</th>\n",
       "      <th>Size</th>\n",
       "      <th>Installs</th>\n",
       "      <th>Price</th>\n",
       "    </tr>\n",
       "  </thead>\n",
       "  <tbody>\n",
       "    <tr>\n",
       "      <th>count</th>\n",
       "      <td>9360.000000</td>\n",
       "      <td>9.360000e+03</td>\n",
       "      <td>9.360000e+03</td>\n",
       "      <td>9.360000e+03</td>\n",
       "      <td>9360.000000</td>\n",
       "    </tr>\n",
       "    <tr>\n",
       "      <th>mean</th>\n",
       "      <td>4.191838</td>\n",
       "      <td>5.143767e+05</td>\n",
       "      <td>1.894124e+07</td>\n",
       "      <td>1.790875e+07</td>\n",
       "      <td>0.961279</td>\n",
       "    </tr>\n",
       "    <tr>\n",
       "      <th>std</th>\n",
       "      <td>0.515263</td>\n",
       "      <td>3.145023e+06</td>\n",
       "      <td>2.302813e+07</td>\n",
       "      <td>9.126637e+07</td>\n",
       "      <td>15.821640</td>\n",
       "    </tr>\n",
       "    <tr>\n",
       "      <th>min</th>\n",
       "      <td>1.000000</td>\n",
       "      <td>1.000000e+00</td>\n",
       "      <td>0.000000e+00</td>\n",
       "      <td>1.000000e+00</td>\n",
       "      <td>0.000000</td>\n",
       "    </tr>\n",
       "    <tr>\n",
       "      <th>25%</th>\n",
       "      <td>4.000000</td>\n",
       "      <td>1.867500e+02</td>\n",
       "      <td>2.400000e+06</td>\n",
       "      <td>1.000000e+04</td>\n",
       "      <td>0.000000</td>\n",
       "    </tr>\n",
       "    <tr>\n",
       "      <th>50%</th>\n",
       "      <td>4.300000</td>\n",
       "      <td>5.955000e+03</td>\n",
       "      <td>9.500000e+06</td>\n",
       "      <td>5.000000e+05</td>\n",
       "      <td>0.000000</td>\n",
       "    </tr>\n",
       "    <tr>\n",
       "      <th>75%</th>\n",
       "      <td>4.500000</td>\n",
       "      <td>8.162750e+04</td>\n",
       "      <td>2.700000e+07</td>\n",
       "      <td>5.000000e+06</td>\n",
       "      <td>0.000000</td>\n",
       "    </tr>\n",
       "    <tr>\n",
       "      <th>max</th>\n",
       "      <td>5.000000</td>\n",
       "      <td>7.815831e+07</td>\n",
       "      <td>1.000000e+08</td>\n",
       "      <td>1.000000e+09</td>\n",
       "      <td>400.000000</td>\n",
       "    </tr>\n",
       "  </tbody>\n",
       "</table>\n",
       "</div>"
      ],
      "text/plain": [
       "            Rating       Reviews          Size      Installs        Price\n",
       "count  9360.000000  9.360000e+03  9.360000e+03  9.360000e+03  9360.000000\n",
       "mean      4.191838  5.143767e+05  1.894124e+07  1.790875e+07     0.961279\n",
       "std       0.515263  3.145023e+06  2.302813e+07  9.126637e+07    15.821640\n",
       "min       1.000000  1.000000e+00  0.000000e+00  1.000000e+00     0.000000\n",
       "25%       4.000000  1.867500e+02  2.400000e+06  1.000000e+04     0.000000\n",
       "50%       4.300000  5.955000e+03  9.500000e+06  5.000000e+05     0.000000\n",
       "75%       4.500000  8.162750e+04  2.700000e+07  5.000000e+06     0.000000\n",
       "max       5.000000  7.815831e+07  1.000000e+08  1.000000e+09   400.000000"
      ]
     },
     "execution_count": 12,
     "metadata": {},
     "output_type": "execute_result"
    }
   ],
   "source": [
    "df.describe()"
   ]
  },
  {
   "cell_type": "code",
   "execution_count": 13,
   "id": "548900c2-4ed1-4f0b-a971-b76291f6b346",
   "metadata": {
    "tags": []
   },
   "outputs": [
    {
     "name": "stdout",
     "output_type": "stream",
     "text": [
      "<class 'pandas.core.frame.DataFrame'>\n",
      "Index: 9360 entries, 0 to 10840\n",
      "Data columns (total 13 columns):\n",
      " #   Column          Non-Null Count  Dtype  \n",
      "---  ------          --------------  -----  \n",
      " 0   App             9360 non-null   object \n",
      " 1   Category        9360 non-null   object \n",
      " 2   Rating          9360 non-null   float64\n",
      " 3   Reviews         9360 non-null   int64  \n",
      " 4   Size            9360 non-null   float64\n",
      " 5   Installs        9360 non-null   int64  \n",
      " 6   Type            9360 non-null   object \n",
      " 7   Price           9360 non-null   float64\n",
      " 8   Content Rating  9360 non-null   object \n",
      " 9   Genres          9360 non-null   object \n",
      " 10  Last Updated    9360 non-null   object \n",
      " 11  Current Ver     9360 non-null   object \n",
      " 12  Android Ver     9360 non-null   object \n",
      "dtypes: float64(3), int64(2), object(8)\n",
      "memory usage: 1023.8+ KB\n"
     ]
    }
   ],
   "source": [
    "df.info()"
   ]
  },
  {
   "cell_type": "code",
   "execution_count": 14,
   "id": "d8b45e17-91bb-4e3b-b805-3e582481f654",
   "metadata": {
    "tags": []
   },
   "outputs": [
    {
     "data": {
      "text/plain": [
       "(7, 13)"
      ]
     },
     "execution_count": 14,
     "metadata": {},
     "output_type": "execute_result"
    }
   ],
   "source": [
    "# There are 7 records where Reviews are greater than Installs \n",
    "df[df['Reviews'] > df['Installs']].shape"
   ]
  },
  {
   "cell_type": "code",
   "execution_count": 15,
   "id": "45510ac6-87b9-45c4-b6c0-ab49459300bc",
   "metadata": {
    "tags": []
   },
   "outputs": [
    {
     "data": {
      "text/plain": [
       "(0, 13)"
      ]
     },
     "execution_count": 15,
     "metadata": {},
     "output_type": "execute_result"
    }
   ],
   "source": [
    "# Dropping 7 records that have greater Reviews than Installs\n",
    "df.drop(df[df['Reviews'] > df['Installs']].index,inplace=True)\n",
    "df[df['Reviews'] > df['Installs']].shape"
   ]
  },
  {
   "cell_type": "code",
   "execution_count": 16,
   "id": "b0b4373e-ece5-4d6b-9f83-b713e6801359",
   "metadata": {
    "tags": []
   },
   "outputs": [],
   "source": [
    "# Dropping rows that have Price > 200\n",
    "df.drop(df[df['Price'] > 200].index,inplace=True)"
   ]
  },
  {
   "cell_type": "code",
   "execution_count": 17,
   "id": "0c4dab8a-7d26-4ebc-8743-7e81417e7d98",
   "metadata": {
    "tags": []
   },
   "outputs": [
    {
     "name": "stdout",
     "output_type": "stream",
     "text": [
      "<class 'pandas.core.frame.DataFrame'>\n",
      "Index: 9338 entries, 0 to 10840\n",
      "Data columns (total 13 columns):\n",
      " #   Column          Non-Null Count  Dtype  \n",
      "---  ------          --------------  -----  \n",
      " 0   App             9338 non-null   object \n",
      " 1   Category        9338 non-null   object \n",
      " 2   Rating          9338 non-null   float64\n",
      " 3   Reviews         9338 non-null   int64  \n",
      " 4   Size            9338 non-null   float64\n",
      " 5   Installs        9338 non-null   int64  \n",
      " 6   Type            9338 non-null   object \n",
      " 7   Price           9338 non-null   float64\n",
      " 8   Content Rating  9338 non-null   object \n",
      " 9   Genres          9338 non-null   object \n",
      " 10  Last Updated    9338 non-null   object \n",
      " 11  Current Ver     9338 non-null   object \n",
      " 12  Android Ver     9338 non-null   object \n",
      "dtypes: float64(3), int64(2), object(8)\n",
      "memory usage: 1021.3+ KB\n"
     ]
    }
   ],
   "source": [
    "df.info()"
   ]
  },
  {
   "cell_type": "code",
   "execution_count": 18,
   "id": "4a59e0f6-2930-474a-9256-7d2a9e07fcbb",
   "metadata": {
    "tags": []
   },
   "outputs": [
    {
     "name": "stdout",
     "output_type": "stream",
     "text": [
      "Category\n",
      "FAMILY                 1742\n",
      "GAME                   1093\n",
      "TOOLS                   733\n",
      "PRODUCTIVITY            351\n",
      "MEDICAL                 349\n",
      "COMMUNICATION           328\n",
      "SPORTS                  319\n",
      "FINANCE                 317\n",
      "PHOTOGRAPHY             317\n",
      "PERSONALIZATION         312\n",
      "LIFESTYLE               308\n",
      "BUSINESS                303\n",
      "HEALTH_AND_FITNESS      297\n",
      "SOCIAL                  258\n",
      "SHOPPING                238\n",
      "NEWS_AND_MAGAZINES      233\n",
      "TRAVEL_AND_LOCAL        226\n",
      "DATING                  195\n",
      "BOOKS_AND_REFERENCE     178\n",
      "VIDEO_PLAYERS           160\n",
      "EDUCATION               155\n",
      "ENTERTAINMENT           149\n",
      "MAPS_AND_NAVIGATION     124\n",
      "FOOD_AND_DRINK          109\n",
      "HOUSE_AND_HOME           76\n",
      "WEATHER                  75\n",
      "AUTO_AND_VEHICLES        73\n",
      "LIBRARIES_AND_DEMO       64\n",
      "ART_AND_DESIGN           61\n",
      "COMICS                   58\n",
      "PARENTING                50\n",
      "EVENTS                   45\n",
      "BEAUTY                   42\n",
      "Name: count, dtype: int64\n"
     ]
    }
   ],
   "source": [
    "df = df[df['Category'] != '1.9']\n",
    "value_counts = df['Category'].value_counts()\n",
    "print(value_counts)"
   ]
  },
  {
   "cell_type": "code",
   "execution_count": 19,
   "id": "ba656578-c305-44f4-9ce6-ce1f64842b23",
   "metadata": {},
   "outputs": [],
   "source": [
    "category = pd.get_dummies(df['Category'], dtype='uint8')\n",
    "df = pd.concat([df, category], axis=1)\n"
   ]
  },
  {
   "cell_type": "code",
   "execution_count": 20,
   "id": "eb3080c4-1e92-44f9-be6d-37c2fe757a05",
   "metadata": {
    "tags": []
   },
   "outputs": [],
   "source": [
    "df.drop('Category', axis=1, inplace=True)"
   ]
  },
  {
   "cell_type": "code",
   "execution_count": 21,
   "id": "72b994ce-e61e-4183-a218-6156566158bf",
   "metadata": {
    "tags": []
   },
   "outputs": [
    {
     "data": {
      "text/plain": [
       "Rating\n",
       "4.4    1107\n",
       "4.3    1074\n",
       "4.5    1037\n",
       "4.2     951\n",
       "4.6     823\n",
       "4.1     705\n",
       "4.0     565\n",
       "4.7     499\n",
       "3.9     386\n",
       "3.8     299\n",
       "5.0     268\n",
       "3.7     239\n",
       "4.8     233\n",
       "3.6     172\n",
       "3.5     162\n",
       "3.4     128\n",
       "3.3     102\n",
       "4.9      87\n",
       "3.0      83\n",
       "3.1      69\n",
       "3.2      63\n",
       "2.9      44\n",
       "2.8      42\n",
       "2.7      25\n",
       "2.6      25\n",
       "2.5      21\n",
       "2.3      20\n",
       "2.4      19\n",
       "1.0      16\n",
       "2.2      14\n",
       "1.9      13\n",
       "2.0      12\n",
       "1.7       8\n",
       "1.8       8\n",
       "2.1       8\n",
       "1.6       4\n",
       "1.4       3\n",
       "1.5       3\n",
       "1.2       1\n",
       "Name: count, dtype: int64"
      ]
     },
     "execution_count": 21,
     "metadata": {},
     "output_type": "execute_result"
    }
   ],
   "source": [
    "df['Rating'].value_counts()"
   ]
  },
  {
   "cell_type": "code",
   "execution_count": 22,
   "id": "17014b20-d4f3-4792-b451-f86725f5cca8",
   "metadata": {
    "tags": []
   },
   "outputs": [
    {
     "name": "stdout",
     "output_type": "stream",
     "text": [
      "Content Rating\n",
      "Everyone           7394\n",
      "Teen               1082\n",
      "Mature 17+          461\n",
      "Everyone 10+        397\n",
      "Adults only 18+       3\n",
      "Unrated               1\n",
      "Name: count, dtype: int64\n"
     ]
    }
   ],
   "source": [
    "print(df['Content Rating'].value_counts())"
   ]
  },
  {
   "cell_type": "code",
   "execution_count": 23,
   "id": "be51e41f-6e33-4aa7-9bfb-181e237b1450",
   "metadata": {
    "tags": []
   },
   "outputs": [],
   "source": [
    "df = df[df['Content Rating'] != 'Unrated']\n"
   ]
  },
  {
   "cell_type": "code",
   "execution_count": 24,
   "id": "33813149-5b18-4524-9526-c0b5036d22d7",
   "metadata": {
    "tags": []
   },
   "outputs": [],
   "source": [
    "content_rating = pd.get_dummies(df['Content Rating'], dtype='uint8')\n",
    "\n",
    "df = pd.concat([df, content_rating], axis=1)\n",
    "\n",
    "df.drop('Content Rating', axis=1, inplace=True)\n"
   ]
  },
  {
   "cell_type": "code",
   "execution_count": 25,
   "id": "3aea4689-76e0-4df0-9936-cf6ef1dea0c9",
   "metadata": {
    "tags": []
   },
   "outputs": [
    {
     "data": {
      "text/html": [
       "<div>\n",
       "<style scoped>\n",
       "    .dataframe tbody tr th:only-of-type {\n",
       "        vertical-align: middle;\n",
       "    }\n",
       "\n",
       "    .dataframe tbody tr th {\n",
       "        vertical-align: top;\n",
       "    }\n",
       "\n",
       "    .dataframe thead th {\n",
       "        text-align: right;\n",
       "    }\n",
       "</style>\n",
       "<table border=\"1\" class=\"dataframe\">\n",
       "  <thead>\n",
       "    <tr style=\"text-align: right;\">\n",
       "      <th></th>\n",
       "      <th>App</th>\n",
       "      <th>Rating</th>\n",
       "      <th>Reviews</th>\n",
       "      <th>Size</th>\n",
       "      <th>Installs</th>\n",
       "      <th>Type</th>\n",
       "      <th>Price</th>\n",
       "      <th>Genres</th>\n",
       "      <th>Last Updated</th>\n",
       "      <th>Current Ver</th>\n",
       "      <th>...</th>\n",
       "      <th>SPORTS</th>\n",
       "      <th>TOOLS</th>\n",
       "      <th>TRAVEL_AND_LOCAL</th>\n",
       "      <th>VIDEO_PLAYERS</th>\n",
       "      <th>WEATHER</th>\n",
       "      <th>Adults only 18+</th>\n",
       "      <th>Everyone</th>\n",
       "      <th>Everyone 10+</th>\n",
       "      <th>Mature 17+</th>\n",
       "      <th>Teen</th>\n",
       "    </tr>\n",
       "  </thead>\n",
       "  <tbody>\n",
       "    <tr>\n",
       "      <th>0</th>\n",
       "      <td>Photo Editor &amp; Candy Camera &amp; Grid &amp; ScrapBook</td>\n",
       "      <td>4.1</td>\n",
       "      <td>159</td>\n",
       "      <td>19000000.0</td>\n",
       "      <td>10000</td>\n",
       "      <td>Free</td>\n",
       "      <td>0.0</td>\n",
       "      <td>Art &amp; Design</td>\n",
       "      <td>January 7, 2018</td>\n",
       "      <td>1.0.0</td>\n",
       "      <td>...</td>\n",
       "      <td>0</td>\n",
       "      <td>0</td>\n",
       "      <td>0</td>\n",
       "      <td>0</td>\n",
       "      <td>0</td>\n",
       "      <td>0</td>\n",
       "      <td>1</td>\n",
       "      <td>0</td>\n",
       "      <td>0</td>\n",
       "      <td>0</td>\n",
       "    </tr>\n",
       "    <tr>\n",
       "      <th>1</th>\n",
       "      <td>Coloring book moana</td>\n",
       "      <td>3.9</td>\n",
       "      <td>967</td>\n",
       "      <td>14000000.0</td>\n",
       "      <td>500000</td>\n",
       "      <td>Free</td>\n",
       "      <td>0.0</td>\n",
       "      <td>Art &amp; Design;Pretend Play</td>\n",
       "      <td>January 15, 2018</td>\n",
       "      <td>2.0.0</td>\n",
       "      <td>...</td>\n",
       "      <td>0</td>\n",
       "      <td>0</td>\n",
       "      <td>0</td>\n",
       "      <td>0</td>\n",
       "      <td>0</td>\n",
       "      <td>0</td>\n",
       "      <td>1</td>\n",
       "      <td>0</td>\n",
       "      <td>0</td>\n",
       "      <td>0</td>\n",
       "    </tr>\n",
       "    <tr>\n",
       "      <th>2</th>\n",
       "      <td>U Launcher Lite – FREE Live Cool Themes, Hide ...</td>\n",
       "      <td>4.7</td>\n",
       "      <td>87510</td>\n",
       "      <td>8700000.0</td>\n",
       "      <td>5000000</td>\n",
       "      <td>Free</td>\n",
       "      <td>0.0</td>\n",
       "      <td>Art &amp; Design</td>\n",
       "      <td>August 1, 2018</td>\n",
       "      <td>1.2.4</td>\n",
       "      <td>...</td>\n",
       "      <td>0</td>\n",
       "      <td>0</td>\n",
       "      <td>0</td>\n",
       "      <td>0</td>\n",
       "      <td>0</td>\n",
       "      <td>0</td>\n",
       "      <td>1</td>\n",
       "      <td>0</td>\n",
       "      <td>0</td>\n",
       "      <td>0</td>\n",
       "    </tr>\n",
       "    <tr>\n",
       "      <th>3</th>\n",
       "      <td>Sketch - Draw &amp; Paint</td>\n",
       "      <td>4.5</td>\n",
       "      <td>215644</td>\n",
       "      <td>25000000.0</td>\n",
       "      <td>50000000</td>\n",
       "      <td>Free</td>\n",
       "      <td>0.0</td>\n",
       "      <td>Art &amp; Design</td>\n",
       "      <td>June 8, 2018</td>\n",
       "      <td>Varies with device</td>\n",
       "      <td>...</td>\n",
       "      <td>0</td>\n",
       "      <td>0</td>\n",
       "      <td>0</td>\n",
       "      <td>0</td>\n",
       "      <td>0</td>\n",
       "      <td>0</td>\n",
       "      <td>0</td>\n",
       "      <td>0</td>\n",
       "      <td>0</td>\n",
       "      <td>1</td>\n",
       "    </tr>\n",
       "    <tr>\n",
       "      <th>4</th>\n",
       "      <td>Pixel Draw - Number Art Coloring Book</td>\n",
       "      <td>4.3</td>\n",
       "      <td>967</td>\n",
       "      <td>2800000.0</td>\n",
       "      <td>100000</td>\n",
       "      <td>Free</td>\n",
       "      <td>0.0</td>\n",
       "      <td>Art &amp; Design;Creativity</td>\n",
       "      <td>June 20, 2018</td>\n",
       "      <td>1.1</td>\n",
       "      <td>...</td>\n",
       "      <td>0</td>\n",
       "      <td>0</td>\n",
       "      <td>0</td>\n",
       "      <td>0</td>\n",
       "      <td>0</td>\n",
       "      <td>0</td>\n",
       "      <td>1</td>\n",
       "      <td>0</td>\n",
       "      <td>0</td>\n",
       "      <td>0</td>\n",
       "    </tr>\n",
       "    <tr>\n",
       "      <th>5</th>\n",
       "      <td>Paper flowers instructions</td>\n",
       "      <td>4.4</td>\n",
       "      <td>167</td>\n",
       "      <td>5600000.0</td>\n",
       "      <td>50000</td>\n",
       "      <td>Free</td>\n",
       "      <td>0.0</td>\n",
       "      <td>Art &amp; Design</td>\n",
       "      <td>March 26, 2017</td>\n",
       "      <td>1.0</td>\n",
       "      <td>...</td>\n",
       "      <td>0</td>\n",
       "      <td>0</td>\n",
       "      <td>0</td>\n",
       "      <td>0</td>\n",
       "      <td>0</td>\n",
       "      <td>0</td>\n",
       "      <td>1</td>\n",
       "      <td>0</td>\n",
       "      <td>0</td>\n",
       "      <td>0</td>\n",
       "    </tr>\n",
       "  </tbody>\n",
       "</table>\n",
       "<p>6 rows × 49 columns</p>\n",
       "</div>"
      ],
      "text/plain": [
       "                                                 App  Rating  Reviews   \n",
       "0     Photo Editor & Candy Camera & Grid & ScrapBook     4.1      159  \\\n",
       "1                                Coloring book moana     3.9      967   \n",
       "2  U Launcher Lite – FREE Live Cool Themes, Hide ...     4.7    87510   \n",
       "3                              Sketch - Draw & Paint     4.5   215644   \n",
       "4              Pixel Draw - Number Art Coloring Book     4.3      967   \n",
       "5                         Paper flowers instructions     4.4      167   \n",
       "\n",
       "         Size  Installs  Type  Price                     Genres   \n",
       "0  19000000.0     10000  Free    0.0               Art & Design  \\\n",
       "1  14000000.0    500000  Free    0.0  Art & Design;Pretend Play   \n",
       "2   8700000.0   5000000  Free    0.0               Art & Design   \n",
       "3  25000000.0  50000000  Free    0.0               Art & Design   \n",
       "4   2800000.0    100000  Free    0.0    Art & Design;Creativity   \n",
       "5   5600000.0     50000  Free    0.0               Art & Design   \n",
       "\n",
       "       Last Updated         Current Ver  ... SPORTS  TOOLS  TRAVEL_AND_LOCAL   \n",
       "0   January 7, 2018               1.0.0  ...      0      0                 0  \\\n",
       "1  January 15, 2018               2.0.0  ...      0      0                 0   \n",
       "2    August 1, 2018               1.2.4  ...      0      0                 0   \n",
       "3      June 8, 2018  Varies with device  ...      0      0                 0   \n",
       "4     June 20, 2018                 1.1  ...      0      0                 0   \n",
       "5    March 26, 2017                 1.0  ...      0      0                 0   \n",
       "\n",
       "   VIDEO_PLAYERS  WEATHER  Adults only 18+  Everyone  Everyone 10+   \n",
       "0              0        0                0         1             0  \\\n",
       "1              0        0                0         1             0   \n",
       "2              0        0                0         1             0   \n",
       "3              0        0                0         0             0   \n",
       "4              0        0                0         1             0   \n",
       "5              0        0                0         1             0   \n",
       "\n",
       "   Mature 17+  Teen  \n",
       "0           0     0  \n",
       "1           0     0  \n",
       "2           0     0  \n",
       "3           0     1  \n",
       "4           0     0  \n",
       "5           0     0  \n",
       "\n",
       "[6 rows x 49 columns]"
      ]
     },
     "execution_count": 25,
     "metadata": {},
     "output_type": "execute_result"
    }
   ],
   "source": [
    "df.head(6)"
   ]
  },
  {
   "cell_type": "code",
   "execution_count": 26,
   "id": "66cfebcc-4b49-4e9d-ade1-7c15b5d22216",
   "metadata": {
    "tags": []
   },
   "outputs": [],
   "source": [
    "df = df.drop(['Last Updated', 'Current Ver', 'Android Ver','Type','App','Reviews', 'Installs','Genres'], axis=1)\n",
    "# df = df.drop(['Last Updated', 'Current Ver', 'Android Ver','Type','App','Genres'], axis=1)\n"
   ]
  },
  {
   "cell_type": "code",
   "execution_count": 27,
   "id": "9f5d1644-504a-4d91-b9e6-6ea99835a390",
   "metadata": {
    "tags": []
   },
   "outputs": [
    {
     "name": "stdout",
     "output_type": "stream",
     "text": [
      "<class 'pandas.core.frame.DataFrame'>\n",
      "Index: 9337 entries, 0 to 10840\n",
      "Data columns (total 41 columns):\n",
      " #   Column               Non-Null Count  Dtype  \n",
      "---  ------               --------------  -----  \n",
      " 0   Rating               9337 non-null   float64\n",
      " 1   Size                 9337 non-null   float64\n",
      " 2   Price                9337 non-null   float64\n",
      " 3   ART_AND_DESIGN       9337 non-null   uint8  \n",
      " 4   AUTO_AND_VEHICLES    9337 non-null   uint8  \n",
      " 5   BEAUTY               9337 non-null   uint8  \n",
      " 6   BOOKS_AND_REFERENCE  9337 non-null   uint8  \n",
      " 7   BUSINESS             9337 non-null   uint8  \n",
      " 8   COMICS               9337 non-null   uint8  \n",
      " 9   COMMUNICATION        9337 non-null   uint8  \n",
      " 10  DATING               9337 non-null   uint8  \n",
      " 11  EDUCATION            9337 non-null   uint8  \n",
      " 12  ENTERTAINMENT        9337 non-null   uint8  \n",
      " 13  EVENTS               9337 non-null   uint8  \n",
      " 14  FAMILY               9337 non-null   uint8  \n",
      " 15  FINANCE              9337 non-null   uint8  \n",
      " 16  FOOD_AND_DRINK       9337 non-null   uint8  \n",
      " 17  GAME                 9337 non-null   uint8  \n",
      " 18  HEALTH_AND_FITNESS   9337 non-null   uint8  \n",
      " 19  HOUSE_AND_HOME       9337 non-null   uint8  \n",
      " 20  LIBRARIES_AND_DEMO   9337 non-null   uint8  \n",
      " 21  LIFESTYLE            9337 non-null   uint8  \n",
      " 22  MAPS_AND_NAVIGATION  9337 non-null   uint8  \n",
      " 23  MEDICAL              9337 non-null   uint8  \n",
      " 24  NEWS_AND_MAGAZINES   9337 non-null   uint8  \n",
      " 25  PARENTING            9337 non-null   uint8  \n",
      " 26  PERSONALIZATION      9337 non-null   uint8  \n",
      " 27  PHOTOGRAPHY          9337 non-null   uint8  \n",
      " 28  PRODUCTIVITY         9337 non-null   uint8  \n",
      " 29  SHOPPING             9337 non-null   uint8  \n",
      " 30  SOCIAL               9337 non-null   uint8  \n",
      " 31  SPORTS               9337 non-null   uint8  \n",
      " 32  TOOLS                9337 non-null   uint8  \n",
      " 33  TRAVEL_AND_LOCAL     9337 non-null   uint8  \n",
      " 34  VIDEO_PLAYERS        9337 non-null   uint8  \n",
      " 35  WEATHER              9337 non-null   uint8  \n",
      " 36  Adults only 18+      9337 non-null   uint8  \n",
      " 37  Everyone             9337 non-null   uint8  \n",
      " 38  Everyone 10+         9337 non-null   uint8  \n",
      " 39  Mature 17+           9337 non-null   uint8  \n",
      " 40  Teen                 9337 non-null   uint8  \n",
      "dtypes: float64(3), uint8(38)\n",
      "memory usage: 638.3 KB\n"
     ]
    }
   ],
   "source": [
    "df.info()"
   ]
  },
  {
   "cell_type": "code",
   "execution_count": null,
   "id": "effa91cd-6bf5-4800-831c-0e56dea2a1ab",
   "metadata": {
    "tags": []
   },
   "outputs": [],
   "source": []
  },
  {
   "cell_type": "code",
   "execution_count": 28,
   "id": "763c82ac-c072-4f22-abbf-69c2f74f6322",
   "metadata": {
    "tags": []
   },
   "outputs": [],
   "source": [
    "df = df[df['Size'] != 0]"
   ]
  },
  {
   "cell_type": "code",
   "execution_count": null,
   "id": "6dbfe86f-e3a4-4c45-86a9-7297cf1db5db",
   "metadata": {},
   "outputs": [],
   "source": []
  },
  {
   "cell_type": "code",
   "execution_count": 30,
   "id": "ee7f6964-190a-4f6d-adb9-8f47d418627d",
   "metadata": {
    "tags": []
   },
   "outputs": [],
   "source": [
    "y = df[['Rating']]\n",
    "x = df.drop('Rating',axis=1)"
   ]
  },
  {
   "cell_type": "code",
   "execution_count": 31,
   "id": "aceedced-7151-494b-a60f-3699ade23a27",
   "metadata": {
    "tags": []
   },
   "outputs": [
    {
     "name": "stdout",
     "output_type": "stream",
     "text": [
      "<class 'pandas.core.frame.DataFrame'>\n",
      "Index: 7445 entries, 0 to 10840\n",
      "Data columns (total 40 columns):\n",
      " #   Column               Non-Null Count  Dtype  \n",
      "---  ------               --------------  -----  \n",
      " 0   Size                 7445 non-null   float64\n",
      " 1   Price                7445 non-null   float64\n",
      " 2   ART_AND_DESIGN       7445 non-null   uint8  \n",
      " 3   AUTO_AND_VEHICLES    7445 non-null   uint8  \n",
      " 4   BEAUTY               7445 non-null   uint8  \n",
      " 5   BOOKS_AND_REFERENCE  7445 non-null   uint8  \n",
      " 6   BUSINESS             7445 non-null   uint8  \n",
      " 7   COMICS               7445 non-null   uint8  \n",
      " 8   COMMUNICATION        7445 non-null   uint8  \n",
      " 9   DATING               7445 non-null   uint8  \n",
      " 10  EDUCATION            7445 non-null   uint8  \n",
      " 11  ENTERTAINMENT        7445 non-null   uint8  \n",
      " 12  EVENTS               7445 non-null   uint8  \n",
      " 13  FAMILY               7445 non-null   uint8  \n",
      " 14  FINANCE              7445 non-null   uint8  \n",
      " 15  FOOD_AND_DRINK       7445 non-null   uint8  \n",
      " 16  GAME                 7445 non-null   uint8  \n",
      " 17  HEALTH_AND_FITNESS   7445 non-null   uint8  \n",
      " 18  HOUSE_AND_HOME       7445 non-null   uint8  \n",
      " 19  LIBRARIES_AND_DEMO   7445 non-null   uint8  \n",
      " 20  LIFESTYLE            7445 non-null   uint8  \n",
      " 21  MAPS_AND_NAVIGATION  7445 non-null   uint8  \n",
      " 22  MEDICAL              7445 non-null   uint8  \n",
      " 23  NEWS_AND_MAGAZINES   7445 non-null   uint8  \n",
      " 24  PARENTING            7445 non-null   uint8  \n",
      " 25  PERSONALIZATION      7445 non-null   uint8  \n",
      " 26  PHOTOGRAPHY          7445 non-null   uint8  \n",
      " 27  PRODUCTIVITY         7445 non-null   uint8  \n",
      " 28  SHOPPING             7445 non-null   uint8  \n",
      " 29  SOCIAL               7445 non-null   uint8  \n",
      " 30  SPORTS               7445 non-null   uint8  \n",
      " 31  TOOLS                7445 non-null   uint8  \n",
      " 32  TRAVEL_AND_LOCAL     7445 non-null   uint8  \n",
      " 33  VIDEO_PLAYERS        7445 non-null   uint8  \n",
      " 34  WEATHER              7445 non-null   uint8  \n",
      " 35  Adults only 18+      7445 non-null   uint8  \n",
      " 36  Everyone             7445 non-null   uint8  \n",
      " 37  Everyone 10+         7445 non-null   uint8  \n",
      " 38  Mature 17+           7445 non-null   uint8  \n",
      " 39  Teen                 7445 non-null   uint8  \n",
      "dtypes: float64(2), uint8(38)\n",
      "memory usage: 450.8 KB\n"
     ]
    }
   ],
   "source": [
    "x.info()"
   ]
  },
  {
   "cell_type": "code",
   "execution_count": 32,
   "id": "7a1a67f2-9017-4387-98c2-5f672c1d43cd",
   "metadata": {
    "tags": []
   },
   "outputs": [
    {
     "data": {
      "text/plain": [
       "((7445, 40), (7445, 1))"
      ]
     },
     "execution_count": 32,
     "metadata": {},
     "output_type": "execute_result"
    }
   ],
   "source": [
    "x.shape, y.shape"
   ]
  },
  {
   "cell_type": "code",
   "execution_count": 33,
   "id": "528eecbd-fe7e-4e22-b360-158ea71f3676",
   "metadata": {
    "tags": []
   },
   "outputs": [],
   "source": [
    "X_train, X_test, y_train, y_test = train_test_split(x, y, random_state=1)"
   ]
  },
  {
   "cell_type": "code",
   "execution_count": 34,
   "id": "ce7caadf-48b4-4d3a-a857-e3cb2908843d",
   "metadata": {
    "tags": []
   },
   "outputs": [],
   "source": [
    "import random\n",
    "from deap import base, creator, tools, algorithms\n",
    "import warnings\n",
    "from sklearn.exceptions import DataConversionWarning\n",
    "warnings.filterwarnings(\"ignore\", category=DataConversionWarning)\n"
   ]
  },
  {
   "cell_type": "code",
   "execution_count": 35,
   "id": "9ea2929f-295d-472f-ac71-7a35753118da",
   "metadata": {
    "tags": []
   },
   "outputs": [
    {
     "name": "stdout",
     "output_type": "stream",
     "text": [
      "Mean squared error:  0.3458750919662488\n"
     ]
    }
   ],
   "source": [
    "rf = RandomForestRegressor(n_estimators=100, random_state=42)\n",
    "rf.fit(X_train, y_train)\n",
    "\n",
    "# Make predictions on the test data\n",
    "Y_pred = rf.predict(X_test)\n",
    "\n",
    "mse = mean_squared_error(y_test, Y_pred)\n",
    "print(\"Mean squared error: \", mse)"
   ]
  },
  {
   "cell_type": "code",
   "execution_count": 36,
   "id": "1473c8f7-a6ff-4c1a-8935-4deb4528a13f",
   "metadata": {
    "tags": []
   },
   "outputs": [],
   "source": [
    "# Create a fitness function that measures the performance of the model\n",
    "def evaluate(individual):\n",
    "    # Convert the individual into a list of hyperparameters\n",
    "    n_estimators = individual[0]\n",
    "    max_depth = individual[1]\n",
    "    max_features = individual[2]\n",
    "    min_samples_split = individual[3]\n",
    "    min_samples_leaf = individual[4]\n",
    "    \n",
    "    # Create a random forest model with the given hyperparameters\n",
    "    rf = RandomForestRegressor(n_estimators=n_estimators, max_depth=max_depth, max_features=max_features, min_samples_split=min_samples_split, min_samples_leaf=min_samples_leaf,random_state=42)\n",
    "    \n",
    "    # Train the model on the training data\n",
    "    rf.fit(X_train, y_train)\n",
    "    \n",
    "    # Evaluate the model on the test data\n",
    "    Y_pred = rf.predict(X_test)\n",
    "    mse = mean_squared_error(y_test, Y_pred)\n",
    "    print(mse)\n",
    "    # Return the mean squared error as the fitness value\n",
    "    return mse,"
   ]
  },
  {
   "cell_type": "code",
   "execution_count": 37,
   "id": "9ac1c336-1ea9-4bdf-9e69-1def27f58ee5",
   "metadata": {
    "tags": []
   },
   "outputs": [
    {
     "name": "stdout",
     "output_type": "stream",
     "text": [
      "0.2999999664679508\n",
      "0.30781149684807785\n",
      "0.2985477918204254\n",
      "0.301119879368353\n",
      "0.30368963075309524\n",
      "0.30141179950183333\n",
      "0.29863550069339323\n",
      "0.30698512741518436\n",
      "0.3022703928205034\n",
      "0.30160500130423595\n",
      "0.3006636484265317\n",
      "0.3026083432666426\n",
      "0.30526453939333087\n",
      "0.30328997984838485\n",
      "0.3021127622451867\n",
      "0.30535561536853956\n",
      "0.3022189650611677\n",
      "0.30150430150697477\n",
      "0.2980838760285282\n",
      "0.30299988930176486\n",
      "0.3001922013798117\n",
      "0.30272803633625117\n",
      "0.2996450865934044\n",
      "0.29973309036692797\n",
      "0.3018459989866075\n",
      "0.3111590004936193\n",
      "0.3012163657947178\n",
      "0.30038097585380164\n",
      "0.3012697544314487\n",
      "0.3036520011822015\n",
      "0.3026620198641408\n",
      "0.2989322857171076\n",
      "0.30084816680018106\n",
      "0.300656161895447\n",
      "0.30932765176142235\n",
      "0.30221520268910357\n",
      "0.29954230411740085\n",
      "0.3010182285588563\n",
      "0.31087176767466623\n",
      "0.3016248062803557\n",
      "0.3006944979971489\n",
      "0.30426751378271494\n",
      "0.30820463762594824\n",
      "0.30021997997610067\n",
      "0.3017899191631166\n",
      "0.30151680360041055\n",
      "0.3009642790798173\n",
      "0.30182222688660226\n",
      "0.30121306589937824\n",
      "0.3080698324371469\n",
      "gen\tnevals\n",
      "0  \t50    \n",
      "0.3012372959805398\n",
      "0.29864594303654707\n",
      "0.2983904153028943\n",
      "0.29957679488679523\n",
      "0.30060277146983966\n",
      "0.3005546465762415\n",
      "0.3001257163173974\n",
      "0.2999999664679508\n",
      "0.3001922013798117\n",
      "0.30021997997610067\n",
      "0.30021997997610067\n",
      "0.30262560162617314\n",
      "0.30085525444393557\n",
      "0.29903854377123357\n",
      "0.30274411208749397\n",
      "0.3013681501529766\n",
      "0.30031942084864266\n",
      "0.3011510142156757\n",
      "0.2997033460982925\n",
      "0.30063426845650276\n",
      "0.3013767542524244\n",
      "0.29934438460573104\n",
      "0.3009639438238956\n",
      "0.2983061613669695\n",
      "0.30096566923613205\n",
      "1  \t25    \n",
      "0.2996636959732984\n",
      "0.30044580765687107\n",
      "0.2993832238167636\n",
      "0.3016377564667248\n",
      "0.2991384512922362\n",
      "0.2981486793638229\n",
      "0.3006010646018083\n",
      "0.30008436937422334\n",
      "0.3006842101670349\n",
      "0.29929868738258075\n",
      "0.2992939612784499\n",
      "0.30092466169347776\n",
      "0.30013807883362903\n",
      "0.29821494168108303\n",
      "0.30188225943470554\n",
      "0.2993683718571578\n",
      "0.29863550069339323\n",
      "0.29877559939318976\n",
      "0.2994690087043121\n",
      "0.29837507576769173\n",
      "0.29965930195117413\n",
      "0.3015722206210754\n",
      "0.29949016993935385\n",
      "0.2999930292800009\n",
      "0.2991486431810071\n",
      "0.3000103146058877\n",
      "0.29859553527978466\n",
      "0.2983422860828202\n",
      "0.2996135832605655\n",
      "2  \t29    \n",
      "0.2985347301909325\n",
      "0.298994667038988\n",
      "0.2982158800427026\n",
      "0.2983789184139274\n",
      "0.2981486793638229\n",
      "0.2988358292918348\n",
      "0.2988995174997227\n",
      "0.3007585550966548\n",
      "0.2986358206004317\n",
      "0.2987658307371973\n",
      "0.29986516495934745\n",
      "0.2982341250303889\n",
      "0.2980838760285282\n",
      "0.2980838760285282\n",
      "0.2991266643527322\n",
      "0.298139813838692\n",
      "0.29807873006253427\n",
      "0.3003110438895423\n",
      "0.2993832238167636\n",
      "0.29837507576769173\n",
      "0.2986925926198723\n",
      "0.3049168800006986\n",
      "0.30014433019756026\n",
      "0.29943322660323535\n",
      "0.29807873006253427\n",
      "0.29843795975087345\n",
      "0.2983168695955145\n",
      "0.29971102390327187\n",
      "0.2984780742579572\n",
      "0.2985617756064487\n",
      "0.2985784824161327\n",
      "0.29910989039331276\n",
      "0.2983681661792857\n",
      "3  \t33    \n",
      "0.2988358292918348\n",
      "0.2980838760285282\n",
      "0.29821494168108303\n",
      "0.2982341250303889\n",
      "0.2983422860828202\n",
      "0.2980838760285282\n",
      "0.2981487665445758\n",
      "0.30894953492513644\n",
      "0.2980838760285282\n",
      "0.2983422860828202\n",
      "0.3009410530515368\n",
      "0.2983681661792857\n",
      "0.298139813838692\n",
      "0.2985347301909325\n",
      "0.2980838760285282\n",
      "0.29824779921203654\n",
      "0.2980838760285282\n",
      "0.2982884655409366\n",
      "0.29824779921203654\n",
      "0.2983463418786711\n",
      "0.2985428662866199\n",
      "0.29864594303654707\n",
      "0.2981486793638229\n",
      "0.29864594303654707\n",
      "0.2981486793638229\n",
      "0.29821494168108303\n",
      "4  \t26    \n",
      "0.2981486793638229\n",
      "0.2981486793638229\n",
      "0.2983370942899337\n",
      "0.2981121963180307\n",
      "0.2981486793638229\n",
      "0.2981486793638229\n",
      "0.2983422860828202\n",
      "0.30281648296773944\n",
      "0.2999213420730183\n",
      "0.2980838760285282\n",
      "0.2981486793638229\n",
      "0.2980838760285282\n",
      "0.2983681661792857\n",
      "0.2979807686468165\n",
      "0.2981486793638229\n",
      "0.2983990938254599\n",
      "0.2983990938254599\n",
      "0.2980838760285282\n",
      "0.2981486793638229\n",
      "0.2980838760285282\n",
      "0.2983681661792857\n",
      "0.298139813838692\n",
      "0.2980838760285282\n",
      "0.29807873006253427\n",
      "0.2985462813283412\n",
      "0.29807873006253427\n",
      "0.2981121963180307\n",
      "0.29810857134188207\n",
      "0.2983681661792857\n",
      "0.2980838760285282\n",
      "0.2981486793638229\n",
      "0.2983422860828202\n",
      "0.2981486793638229\n",
      "5  \t33    \n"
     ]
    },
    {
     "data": {
      "text/plain": [
       "([[950, 41, 6, 6, 10],\n",
       "  [226, 33, 6, 15, 10],\n",
       "  [226, 33, 6, 15, 10],\n",
       "  [144, 33, 6, 6, 10],\n",
       "  [226, 33, 6, 15, 10],\n",
       "  [628, 33, 6, 15, 10],\n",
       "  [888, 33, 6, 15, 10],\n",
       "  [888, 33, 6, 15, 10],\n",
       "  [628, 41, 6, 15, 10],\n",
       "  [950, 33, 6, 15, 10],\n",
       "  [888, 33, 6, 6, 10],\n",
       "  [888, 33, 6, 15, 10],\n",
       "  [40, 33, 6, 15, 10],\n",
       "  [144, 33, 6, 6, 10],\n",
       "  [888, 33, 6, 16, 9],\n",
       "  [888, 33, 6, 6, 10],\n",
       "  [950, 41, 6, 15, 10],\n",
       "  [226, 33, 6, 15, 2],\n",
       "  [18, 33, 6, 6, 7],\n",
       "  [226, 33, 6, 15, 10],\n",
       "  [888, 33, 6, 15, 10],\n",
       "  [226, 33, 6, 15, 10],\n",
       "  [226, 33, 6, 15, 10],\n",
       "  [226, 33, 6, 16, 9],\n",
       "  [40, 33, 6, 15, 10],\n",
       "  [888, 33, 6, 15, 10],\n",
       "  [950, 41, 6, 15, 10],\n",
       "  [888, 33, 6, 15, 10],\n",
       "  [226, 33, 6, 6, 10],\n",
       "  [226, 30, 6, 15, 10],\n",
       "  [888, 33, 6, 16, 10],\n",
       "  [628, 33, 6, 15, 9],\n",
       "  [628, 33, 6, 15, 9],\n",
       "  [226, 33, 6, 16, 10],\n",
       "  [888, 33, 6, 15, 10],\n",
       "  [226, 33, 6, 15, 10],\n",
       "  [40, 33, 6, 15, 10],\n",
       "  [888, 26, 6, 15, 10],\n",
       "  [226, 33, 6, 16, 10],\n",
       "  [226, 33, 6, 6, 9],\n",
       "  [144, 33, 8, 13, 10],\n",
       "  [226, 33, 6, 15, 9],\n",
       "  [950, 33, 6, 15, 10],\n",
       "  [226, 41, 6, 15, 10],\n",
       "  [40, 33, 6, 15, 10],\n",
       "  [226, 33, 6, 15, 10],\n",
       "  [888, 33, 6, 15, 10],\n",
       "  [226, 33, 6, 6, 10],\n",
       "  [144, 33, 6, 15, 10],\n",
       "  [888, 33, 6, 15, 10]],\n",
       " [{'gen': 0, 'nevals': 50},\n",
       "  {'gen': 1, 'nevals': 25},\n",
       "  {'gen': 2, 'nevals': 29},\n",
       "  {'gen': 3, 'nevals': 33},\n",
       "  {'gen': 4, 'nevals': 26},\n",
       "  {'gen': 5, 'nevals': 33}])"
      ]
     },
     "execution_count": 37,
     "metadata": {},
     "output_type": "execute_result"
    }
   ],
   "source": [
    "\n",
    "# Define the genetic algorithm parameters\n",
    "toolbox = base.Toolbox()\n",
    "creator.create(\"FitnessMin\", base.Fitness, weights=(-1.0,))\n",
    "creator.create(\"Individual\", list, fitness=creator.FitnessMin)\n",
    "toolbox.register(\"attr_n_estimators\", random.randint, 1, 1000)\n",
    "toolbox.register(\"attr_max_depth\", random.randint, 1, 50)\n",
    "toolbox.register(\"attr_max_features\", random.randint, 1, len(x.columns))\n",
    "toolbox.register(\"attr_min_samples_split\", random.randint, 2,50)\n",
    "toolbox.register(\"attr_min_samples_leaf\", random.randint, 1,50)\n",
    "toolbox.register(\"individual\", tools.initCycle, creator.Individual, (toolbox.attr_n_estimators, toolbox.attr_max_depth, toolbox.attr_max_features, toolbox.attr_min_samples_split, toolbox.attr_min_samples_leaf), n=1)\n",
    "toolbox.register(\"population\", tools.initRepeat, list, toolbox.individual)\n",
    "toolbox.register(\"evaluate\", evaluate)\n",
    "toolbox.register(\"mate\", tools.cxOnePoint)\n",
    "toolbox.register(\"mutate\", tools.mutUniformInt, low=2, up=len(x.columns), indpb=0.1)\n",
    "toolbox.register(\"select\", tools.selTournament, tournsize=3)\n",
    "\n",
    "# Run the genetic algorithm\n",
    "population = toolbox.population(n=50)\n",
    "algorithms.eaSimple(population, toolbox, cxpb=0.5, mutpb=0.2, ngen=5)\n"
   ]
  },
  {
   "cell_type": "code",
   "execution_count": 38,
   "id": "44a0435e-3242-43be-bf96-9d1d0ab2b160",
   "metadata": {
    "tags": []
   },
   "outputs": [],
   "source": [
    "# Select the best individual\n",
    "best_individual = tools.selBest(population, k=1)[0]\n",
    "n_estimators, max_depth, max_features, min_samples_split, min_samples_leaf = best_individual"
   ]
  },
  {
   "cell_type": "code",
   "execution_count": 39,
   "id": "0adad660-0472-4275-8adc-fc29fbad09ae",
   "metadata": {
    "tags": []
   },
   "outputs": [
    {
     "name": "stdout",
     "output_type": "stream",
     "text": [
      "Mean squared error with optimized hyperparameters:  0.2979807686468165\n"
     ]
    }
   ],
   "source": [
    "# Train the model with the best hyperparameters\n",
    "rf = RandomForestRegressor(n_estimators=n_estimators, max_depth=max_depth, max_features=max_features,min_samples_split=min_samples_split,min_samples_leaf=min_samples_leaf, random_state=42)\n",
    "rf.fit(X_train, y_train)\n",
    "Y_pred = rf.predict(X_test)\n",
    "mse = mean_squared_error(y_test, Y_pred)\n",
    "print(\"Mean squared error with optimized hyperparameters: \", mse)"
   ]
  },
  {
   "cell_type": "code",
   "execution_count": 40,
   "id": "b9120b81-4577-4de3-bdaf-1b980b8a3672",
   "metadata": {
    "tags": []
   },
   "outputs": [
    {
     "data": {
      "text/plain": [
       "['model.joblib']"
      ]
     },
     "execution_count": 40,
     "metadata": {},
     "output_type": "execute_result"
    }
   ],
   "source": [
    "import joblib\n",
    "\n",
    "# Save the model to a file\n",
    "joblib.dump(rf, 'model.joblib')"
   ]
  },
  {
   "cell_type": "code",
   "execution_count": 58,
   "id": "e6738e13-88d0-41b4-8adf-77f918d3afd2",
   "metadata": {
    "tags": []
   },
   "outputs": [
    {
     "name": "stdout",
     "output_type": "stream",
     "text": [
      "Mean squared error with optimized hyperparameters:  477494868911663.8\n",
      "[14020181.23418191]\n"
     ]
    },
    {
     "name": "stderr",
     "output_type": "stream",
     "text": [
      "/Users/user/Desktop/predicode/fastapi-backend/my_venv/lib/python3.11/site-packages/sklearn/base.py:439: UserWarning: X does not have valid feature names, but RandomForestRegressor was fitted with feature names\n",
      "  warnings.warn(\n"
     ]
    }
   ],
   "source": [
    "# y_install = df[['Size']]\n",
    "# x_install = df[['Installs']]\n",
    "# x_install_train, x_install_test, y_install_train, y_install_test = train_test_split(x_install, y_install, random_state=1)\n",
    "# # Train the model with the best hyperparameters\n",
    "# rf_install = RandomForestRegressor(n_estimators=n_estimators, max_depth=max_depth, max_features=max_features,min_samples_split=min_samples_split,min_samples_leaf=min_samples_leaf, random_state=42)\n",
    "# rf_install.fit(x_install_train, y_install_train)\n",
    "# y_install_pred = rf_install.predict(x_install_test)\n",
    "# mse = mean_squared_error(y_install_test, y_install_pred)\n",
    "# print(\"Mean squared error with optimized hyperparameters: \", mse)\n",
    "# print(rf_install.predict([[300]]))"
   ]
  },
  {
   "cell_type": "code",
   "execution_count": 59,
   "id": "ca4ee392-add0-4443-8c4c-57b2da6d1090",
   "metadata": {
    "tags": []
   },
   "outputs": [],
   "source": [
    "# # Create a fitness function that measures the performance of the model\n",
    "# def evaluate_install(individual):\n",
    "#     # Convert the individual into a list of hyperparameters\n",
    "#     n_estimators = individual[0]\n",
    "#     max_depth = individual[1]\n",
    "#     max_features = individual[2]\n",
    "#     min_samples_split = individual[3]\n",
    "#     min_samples_leaf = individual[4]\n",
    "    \n",
    "#     # Create a random forest model with the given hyperparameters\n",
    "#     rf_install = RandomForestRegressor(n_estimators=n_estimators, max_depth=max_depth, max_features=max_features, min_samples_split=min_samples_split, min_samples_leaf=min_samples_leaf,random_state=42)\n",
    "    \n",
    "#     # Train the model on the training data\n",
    "#     rf_install.fit(x_install_train, y_install_train)\n",
    "    \n",
    "#     # Evaluate the model on the test data\n",
    "#     y_pred = rf_install.predict(x_install_test)\n",
    "#     mse = mean_squared_error(y_install_test, y_install_pred)\n",
    "#     print(mse)\n",
    "#     # Return the mean squared error as the fitness value\n",
    "#     return mse,"
   ]
  },
  {
   "cell_type": "code",
   "execution_count": 60,
   "id": "c5e7185e-c084-4531-977e-6c583a7da706",
   "metadata": {
    "tags": []
   },
   "outputs": [
    {
     "name": "stderr",
     "output_type": "stream",
     "text": [
      "/Users/user/Desktop/predicode/fastapi-backend/my_venv/lib/python3.11/site-packages/deap/creator.py:138: RuntimeWarning: A class named 'FitnessMin' has already been created and it will be overwritten. Consider deleting previous creation of that class or rename it.\n",
      "  warnings.warn(\"A class named '{0}' has already been created and it \"\n",
      "/Users/user/Desktop/predicode/fastapi-backend/my_venv/lib/python3.11/site-packages/deap/creator.py:138: RuntimeWarning: A class named 'Individual' has already been created and it will be overwritten. Consider deleting previous creation of that class or rename it.\n",
      "  warnings.warn(\"A class named '{0}' has already been created and it \"\n"
     ]
    },
    {
     "name": "stdout",
     "output_type": "stream",
     "text": [
      "477494868911663.8\n",
      "477494868911663.8\n",
      "477494868911663.8\n",
      "477494868911663.8\n",
      "477494868911663.8\n",
      "477494868911663.8\n",
      "477494868911663.8\n",
      "477494868911663.8\n",
      "477494868911663.8\n",
      "477494868911663.8\n",
      "477494868911663.8\n",
      "477494868911663.8\n",
      "477494868911663.8\n",
      "477494868911663.8\n",
      "477494868911663.8\n",
      "477494868911663.8\n",
      "477494868911663.8\n",
      "477494868911663.8\n",
      "477494868911663.8\n",
      "477494868911663.8\n",
      "477494868911663.8\n",
      "477494868911663.8\n",
      "477494868911663.8\n",
      "477494868911663.8\n",
      "477494868911663.8\n",
      "477494868911663.8\n",
      "477494868911663.8\n",
      "477494868911663.8\n",
      "477494868911663.8\n",
      "477494868911663.8\n",
      "477494868911663.8\n",
      "477494868911663.8\n",
      "477494868911663.8\n",
      "477494868911663.8\n",
      "477494868911663.8\n",
      "477494868911663.8\n",
      "477494868911663.8\n",
      "477494868911663.8\n",
      "477494868911663.8\n",
      "477494868911663.8\n",
      "477494868911663.8\n",
      "477494868911663.8\n",
      "477494868911663.8\n",
      "477494868911663.8\n",
      "477494868911663.8\n",
      "477494868911663.8\n",
      "477494868911663.8\n",
      "477494868911663.8\n",
      "477494868911663.8\n",
      "477494868911663.8\n",
      "gen\tnevals\n",
      "0  \t50    \n",
      "477494868911663.8\n",
      "477494868911663.8\n",
      "477494868911663.8\n",
      "477494868911663.8\n",
      "477494868911663.8\n",
      "477494868911663.8\n",
      "477494868911663.8\n",
      "477494868911663.8\n",
      "477494868911663.8\n",
      "477494868911663.8\n",
      "477494868911663.8\n",
      "477494868911663.8\n",
      "477494868911663.8\n",
      "477494868911663.8\n",
      "477494868911663.8\n",
      "477494868911663.8\n",
      "477494868911663.8\n",
      "477494868911663.8\n",
      "477494868911663.8\n",
      "477494868911663.8\n",
      "477494868911663.8\n",
      "477494868911663.8\n",
      "477494868911663.8\n",
      "477494868911663.8\n",
      "477494868911663.8\n",
      "477494868911663.8\n",
      "477494868911663.8\n",
      "477494868911663.8\n",
      "477494868911663.8\n",
      "477494868911663.8\n",
      "477494868911663.8\n",
      "477494868911663.8\n",
      "477494868911663.8\n",
      "477494868911663.8\n",
      "1  \t34    \n",
      "477494868911663.8\n",
      "477494868911663.8\n",
      "477494868911663.8\n",
      "477494868911663.8\n",
      "477494868911663.8\n",
      "477494868911663.8\n",
      "477494868911663.8\n",
      "477494868911663.8\n",
      "477494868911663.8\n",
      "477494868911663.8\n",
      "477494868911663.8\n",
      "477494868911663.8\n",
      "477494868911663.8\n",
      "477494868911663.8\n",
      "477494868911663.8\n",
      "477494868911663.8\n",
      "477494868911663.8\n",
      "477494868911663.8\n",
      "477494868911663.8\n",
      "477494868911663.8\n",
      "477494868911663.8\n",
      "477494868911663.8\n",
      "477494868911663.8\n",
      "2  \t23    \n",
      "477494868911663.8\n",
      "477494868911663.8\n",
      "477494868911663.8\n",
      "477494868911663.8\n",
      "477494868911663.8\n",
      "477494868911663.8\n",
      "477494868911663.8\n",
      "477494868911663.8\n",
      "477494868911663.8\n",
      "477494868911663.8\n",
      "477494868911663.8\n",
      "477494868911663.8\n",
      "477494868911663.8\n",
      "477494868911663.8\n",
      "477494868911663.8\n",
      "477494868911663.8\n",
      "477494868911663.8\n",
      "477494868911663.8\n",
      "477494868911663.8\n",
      "477494868911663.8\n",
      "477494868911663.8\n",
      "477494868911663.8\n",
      "477494868911663.8\n",
      "477494868911663.8\n",
      "477494868911663.8\n",
      "477494868911663.8\n",
      "477494868911663.8\n",
      "477494868911663.8\n",
      "477494868911663.8\n",
      "477494868911663.8\n",
      "477494868911663.8\n",
      "477494868911663.8\n",
      "477494868911663.8\n",
      "3  \t33    \n",
      "477494868911663.8\n",
      "477494868911663.8\n",
      "477494868911663.8\n",
      "477494868911663.8\n",
      "477494868911663.8\n",
      "477494868911663.8\n",
      "477494868911663.8\n",
      "477494868911663.8\n",
      "477494868911663.8\n",
      "477494868911663.8\n",
      "477494868911663.8\n",
      "477494868911663.8\n",
      "477494868911663.8\n",
      "477494868911663.8\n",
      "477494868911663.8\n",
      "477494868911663.8\n",
      "477494868911663.8\n",
      "477494868911663.8\n",
      "477494868911663.8\n",
      "477494868911663.8\n",
      "477494868911663.8\n",
      "477494868911663.8\n",
      "477494868911663.8\n",
      "477494868911663.8\n",
      "477494868911663.8\n",
      "477494868911663.8\n",
      "477494868911663.8\n",
      "477494868911663.8\n",
      "477494868911663.8\n",
      "477494868911663.8\n",
      "477494868911663.8\n",
      "477494868911663.8\n",
      "477494868911663.8\n",
      "477494868911663.8\n",
      "477494868911663.8\n",
      "477494868911663.8\n",
      "477494868911663.8\n",
      "4  \t37    \n",
      "477494868911663.8\n",
      "477494868911663.8\n",
      "477494868911663.8\n",
      "477494868911663.8\n",
      "477494868911663.8\n",
      "477494868911663.8\n",
      "477494868911663.8\n",
      "477494868911663.8\n",
      "477494868911663.8\n",
      "477494868911663.8\n",
      "477494868911663.8\n",
      "477494868911663.8\n",
      "477494868911663.8\n",
      "477494868911663.8\n",
      "477494868911663.8\n",
      "477494868911663.8\n",
      "477494868911663.8\n",
      "477494868911663.8\n",
      "477494868911663.8\n",
      "477494868911663.8\n",
      "477494868911663.8\n",
      "477494868911663.8\n",
      "477494868911663.8\n",
      "477494868911663.8\n",
      "477494868911663.8\n",
      "477494868911663.8\n",
      "477494868911663.8\n",
      "477494868911663.8\n",
      "477494868911663.8\n",
      "477494868911663.8\n",
      "477494868911663.8\n",
      "477494868911663.8\n",
      "5  \t32    \n"
     ]
    },
    {
     "data": {
      "text/plain": [
       "([[878, 10, 23, 8, 45],\n",
       "  [841, 45, 11, 29, 37],\n",
       "  [805, 38, 35, 42, 48],\n",
       "  [95, 41, 5, 29, 11],\n",
       "  [448, 4, 36, 42, 9],\n",
       "  [5, 10, 25, 21, 25],\n",
       "  [729, 21, 36, 29, 24],\n",
       "  [729, 41, 29, 50, 7],\n",
       "  [729, 41, 36, 42, 39],\n",
       "  [500, 16, 5, 6, 16],\n",
       "  [19, 3, 10, 26, 49],\n",
       "  [841, 45, 11, 29, 37],\n",
       "  [805, 30, 13, 10, 31],\n",
       "  [729, 4, 27, 21, 28],\n",
       "  [422, 46, 41, 31, 36],\n",
       "  [16, 41, 36, 17, 12],\n",
       "  [19, 3, 10, 26, 49],\n",
       "  [320, 30, 21, 10, 31],\n",
       "  [95, 38, 35, 42, 48],\n",
       "  [95, 38, 11, 29, 37],\n",
       "  [320, 30, 13, 4, 18],\n",
       "  [331, 33, 41, 36, 31],\n",
       "  [422, 38, 35, 42, 48],\n",
       "  [95, 47, 25, 21, 25],\n",
       "  [841, 3, 19, 21, 25],\n",
       "  [729, 21, 29, 50, 7],\n",
       "  [917, 16, 5, 6, 16],\n",
       "  [776, 3, 21, 27, 28],\n",
       "  [500, 35, 41, 16, 37],\n",
       "  [841, 45, 11, 29, 11],\n",
       "  [729, 41, 36, 17, 11],\n",
       "  [841, 45, 35, 42, 48],\n",
       "  [320, 30, 13, 10, 31],\n",
       "  [500, 35, 41, 16, 11],\n",
       "  [729, 30, 13, 29, 34],\n",
       "  [878, 10, 23, 10, 31],\n",
       "  [573, 47, 23, 29, 9],\n",
       "  [448, 4, 36, 42, 34],\n",
       "  [320, 41, 36, 17, 11],\n",
       "  [805, 41, 5, 21, 28],\n",
       "  [729, 30, 13, 50, 7],\n",
       "  [729, 21, 29, 10, 31],\n",
       "  [805, 8, 27, 17, 48],\n",
       "  [841, 45, 35, 42, 11],\n",
       "  [776, 16, 5, 6, 16],\n",
       "  [805, 4, 10, 21, 28],\n",
       "  [500, 35, 41, 16, 37],\n",
       "  [841, 45, 11, 29, 11],\n",
       "  [19, 45, 11, 29, 37],\n",
       "  [95, 38, 11, 29, 37]],\n",
       " [{'gen': 0, 'nevals': 50},\n",
       "  {'gen': 1, 'nevals': 34},\n",
       "  {'gen': 2, 'nevals': 23},\n",
       "  {'gen': 3, 'nevals': 33},\n",
       "  {'gen': 4, 'nevals': 37},\n",
       "  {'gen': 5, 'nevals': 32}])"
      ]
     },
     "execution_count": 60,
     "metadata": {},
     "output_type": "execute_result"
    }
   ],
   "source": [
    "\n",
    "# # Define the genetic algorithm parameters\n",
    "# toolbox = base.Toolbox()\n",
    "# creator.create(\"FitnessMin\", base.Fitness, weights=(-1.0,))\n",
    "# creator.create(\"Individual\", list, fitness=creator.FitnessMin)\n",
    "# toolbox.register(\"attr_n_estimators\", random.randint, 1, 1000)\n",
    "# toolbox.register(\"attr_max_depth\", random.randint, 1, 50)\n",
    "# toolbox.register(\"attr_max_features\", random.randint, 1, len(x.columns))\n",
    "# toolbox.register(\"attr_min_samples_split\", random.randint, 2,50)\n",
    "# toolbox.register(\"attr_min_samples_leaf\", random.randint, 1,50)\n",
    "# toolbox.register(\"individual\", tools.initCycle, creator.Individual, (toolbox.attr_n_estimators, toolbox.attr_max_depth, toolbox.attr_max_features, toolbox.attr_min_samples_split, toolbox.attr_min_samples_leaf), n=1)\n",
    "# toolbox.register(\"population\", tools.initRepeat, list, toolbox.individual)\n",
    "# toolbox.register(\"evaluate\", evaluate_install)\n",
    "# toolbox.register(\"mate\", tools.cxOnePoint)\n",
    "# toolbox.register(\"mutate\", tools.mutUniformInt, low=2, up=len(x.columns), indpb=0.1)\n",
    "# toolbox.register(\"select\", tools.selTournament, tournsize=3)\n",
    "\n",
    "# # Run the genetic algorithm\n",
    "# population = toolbox.population(n=50)\n",
    "# algorithms.eaSimple(population, toolbox, cxpb=0.5, mutpb=0.2, ngen=5)"
   ]
  },
  {
   "cell_type": "code",
   "execution_count": 61,
   "id": "c9ca20c0-2f4c-419a-9fe9-b7238da6e199",
   "metadata": {},
   "outputs": [],
   "source": [
    "# # Select the best individual\n",
    "# best_install_individual = tools.selBest(population, k=1)[0]\n",
    "# n_estimators, max_depth, max_features, min_samples_split, min_samples_leaf = best_install_individual"
   ]
  },
  {
   "cell_type": "code",
   "execution_count": 62,
   "id": "5aae4e3d-2fb0-4ff9-b4be-8bd977034706",
   "metadata": {},
   "outputs": [
    {
     "name": "stdout",
     "output_type": "stream",
     "text": [
      "Mean squared error with optimized hyperparameters:  477380202111908.25\n"
     ]
    }
   ],
   "source": [
    "# # Train the model with the best hyperparameters\n",
    "# rf_install = RandomForestRegressor(n_estimators=n_estimators, max_depth=max_depth, max_features=max_features,min_samples_split=min_samples_split,min_samples_leaf=min_samples_leaf, random_state=42)\n",
    "# rf_install.fit(x_install_train, y_install_train)\n",
    "# y_install_pred = rf_install.predict(x_install_test)\n",
    "# mse = mean_squared_error(y_install_test, y_install_pred)\n",
    "# print(\"Mean squared error with optimized hyperparameters: \", mse)"
   ]
  },
  {
   "cell_type": "code",
   "execution_count": 63,
   "id": "81539111-1190-46b3-a8e4-8f1ad0a6dc84",
   "metadata": {},
   "outputs": [
    {
     "data": {
      "text/plain": [
       "['install_model.joblib']"
      ]
     },
     "execution_count": 63,
     "metadata": {},
     "output_type": "execute_result"
    }
   ],
   "source": [
    "# joblib.dump(rf_install, 'install_model.joblib')"
   ]
  },
  {
   "cell_type": "code",
   "execution_count": null,
   "id": "8e0e51a6-b88b-41d9-9475-be44c9261c93",
   "metadata": {},
   "outputs": [],
   "source": []
  },
  {
   "cell_type": "code",
   "execution_count": 64,
   "id": "0fcb7840-aa88-4965-974b-7dd3e93cf60d",
   "metadata": {
    "tags": []
   },
   "outputs": [
    {
     "name": "stdout",
     "output_type": "stream",
     "text": [
      "Mean squared error with optimized hyperparameters:  462481062073656.4\n",
      "[18173042.625218]\n"
     ]
    },
    {
     "name": "stderr",
     "output_type": "stream",
     "text": [
      "/Users/user/Desktop/predicode/fastapi-backend/my_venv/lib/python3.11/site-packages/sklearn/base.py:439: UserWarning: X does not have valid feature names, but RandomForestRegressor was fitted with feature names\n",
      "  warnings.warn(\n"
     ]
    }
   ],
   "source": [
    "# y_review = df[['Size']]\n",
    "# x_review = df[['Reviews']]\n",
    "# x_review_train, x_review_test, y_review_train, y_review_test = train_test_split(x_review, y_review, random_state=1)\n",
    "# # Train the model with the best hyperparameters\n",
    "# rf_review = RandomForestRegressor(n_estimators=n_estimators, max_depth=max_depth, max_features=max_features,min_samples_split=min_samples_split,min_samples_leaf=min_samples_leaf, random_state=42)\n",
    "# rf_review.fit(x_review_train, y_review_train)\n",
    "# y_review_pred = rf_review.predict(x_review_test)\n",
    "# mse = mean_squared_error(y_review_test, y_review_pred)\n",
    "# print(\"Mean squared error with optimized hyperparameters: \", mse)\n",
    "# print(rf_review.predict([[300]]))"
   ]
  },
  {
   "cell_type": "code",
   "execution_count": 65,
   "id": "3ed09735-8191-4e67-a8b9-7b89212404c8",
   "metadata": {
    "tags": []
   },
   "outputs": [],
   "source": [
    "# # Create a fitness function that measures the performance of the model\n",
    "# def evaluate_review(individual):\n",
    "#     # Convert the individual into a list of hyperparameters\n",
    "#     n_estimators = individual[0]\n",
    "#     max_depth = individual[1]\n",
    "#     max_features = individual[2]\n",
    "#     min_samples_split = individual[3]\n",
    "#     min_samples_leaf = individual[4]\n",
    "    \n",
    "#     # Create a random forest model with the given hyperparameters\n",
    "#     rf_review = RandomForestRegressor(n_estimators=n_estimators, max_depth=max_depth, max_features=max_features, min_samples_split=min_samples_split, min_samples_leaf=min_samples_leaf,random_state=42)\n",
    "    \n",
    "#     # Train the model on the training data\n",
    "#     rf_review.fit(x_review_train, y_review_train)\n",
    "    \n",
    "#     # Evaluate the model on the test data\n",
    "#     y_pred = rf_review.predict(x_review_test)\n",
    "#     mse = mean_squared_error(y_review_test, y_review_pred)\n",
    "#     print(mse)\n",
    "#     # Return the mean squared error as the fitness value\n",
    "#     return mse,"
   ]
  },
  {
   "cell_type": "code",
   "execution_count": 66,
   "id": "e16f9a50-6b2a-43c9-8bf2-3c888d490c7a",
   "metadata": {
    "tags": []
   },
   "outputs": [
    {
     "name": "stderr",
     "output_type": "stream",
     "text": [
      "/Users/user/Desktop/predicode/fastapi-backend/my_venv/lib/python3.11/site-packages/deap/creator.py:138: RuntimeWarning: A class named 'FitnessMin' has already been created and it will be overwritten. Consider deleting previous creation of that class or rename it.\n",
      "  warnings.warn(\"A class named '{0}' has already been created and it \"\n",
      "/Users/user/Desktop/predicode/fastapi-backend/my_venv/lib/python3.11/site-packages/deap/creator.py:138: RuntimeWarning: A class named 'Individual' has already been created and it will be overwritten. Consider deleting previous creation of that class or rename it.\n",
      "  warnings.warn(\"A class named '{0}' has already been created and it \"\n"
     ]
    },
    {
     "name": "stdout",
     "output_type": "stream",
     "text": [
      "462481062073656.4\n",
      "462481062073656.4\n",
      "462481062073656.4\n",
      "462481062073656.4\n",
      "462481062073656.4\n",
      "462481062073656.4\n",
      "462481062073656.4\n",
      "462481062073656.4\n",
      "462481062073656.4\n",
      "462481062073656.4\n",
      "462481062073656.4\n",
      "462481062073656.4\n",
      "462481062073656.4\n",
      "462481062073656.4\n",
      "462481062073656.4\n",
      "462481062073656.4\n",
      "462481062073656.4\n",
      "462481062073656.4\n",
      "462481062073656.4\n",
      "462481062073656.4\n",
      "462481062073656.4\n",
      "462481062073656.4\n",
      "462481062073656.4\n",
      "462481062073656.4\n",
      "462481062073656.4\n",
      "462481062073656.4\n",
      "462481062073656.4\n",
      "462481062073656.4\n",
      "462481062073656.4\n",
      "462481062073656.4\n",
      "462481062073656.4\n",
      "462481062073656.4\n",
      "462481062073656.4\n",
      "462481062073656.4\n",
      "462481062073656.4\n",
      "462481062073656.4\n",
      "462481062073656.4\n",
      "462481062073656.4\n",
      "462481062073656.4\n",
      "462481062073656.4\n",
      "462481062073656.4\n",
      "462481062073656.4\n",
      "462481062073656.4\n",
      "462481062073656.4\n",
      "462481062073656.4\n",
      "462481062073656.4\n",
      "462481062073656.4\n",
      "462481062073656.4\n",
      "462481062073656.4\n",
      "462481062073656.4\n",
      "gen\tnevals\n",
      "0  \t50    \n",
      "462481062073656.4\n",
      "462481062073656.4\n",
      "462481062073656.4\n",
      "462481062073656.4\n",
      "462481062073656.4\n",
      "462481062073656.4\n",
      "462481062073656.4\n",
      "462481062073656.4\n",
      "462481062073656.4\n",
      "462481062073656.4\n",
      "462481062073656.4\n",
      "462481062073656.4\n",
      "462481062073656.4\n",
      "462481062073656.4\n",
      "462481062073656.4\n",
      "462481062073656.4\n",
      "462481062073656.4\n",
      "462481062073656.4\n",
      "462481062073656.4\n",
      "462481062073656.4\n",
      "462481062073656.4\n",
      "462481062073656.4\n",
      "462481062073656.4\n",
      "462481062073656.4\n",
      "462481062073656.4\n",
      "462481062073656.4\n",
      "462481062073656.4\n",
      "462481062073656.4\n",
      "1  \t28    \n",
      "462481062073656.4\n",
      "462481062073656.4\n",
      "462481062073656.4\n",
      "462481062073656.4\n",
      "462481062073656.4\n",
      "462481062073656.4\n",
      "462481062073656.4\n",
      "462481062073656.4\n",
      "462481062073656.4\n",
      "462481062073656.4\n",
      "462481062073656.4\n",
      "462481062073656.4\n",
      "462481062073656.4\n",
      "462481062073656.4\n",
      "462481062073656.4\n",
      "462481062073656.4\n",
      "462481062073656.4\n",
      "462481062073656.4\n",
      "462481062073656.4\n",
      "462481062073656.4\n",
      "462481062073656.4\n",
      "462481062073656.4\n",
      "462481062073656.4\n",
      "462481062073656.4\n",
      "462481062073656.4\n",
      "462481062073656.4\n",
      "462481062073656.4\n",
      "462481062073656.4\n",
      "462481062073656.4\n",
      "2  \t29    \n",
      "462481062073656.4\n",
      "462481062073656.4\n",
      "462481062073656.4\n",
      "462481062073656.4\n",
      "462481062073656.4\n",
      "462481062073656.4\n",
      "462481062073656.4\n",
      "462481062073656.4\n",
      "462481062073656.4\n",
      "462481062073656.4\n",
      "462481062073656.4\n",
      "462481062073656.4\n",
      "462481062073656.4\n",
      "462481062073656.4\n",
      "462481062073656.4\n",
      "462481062073656.4\n",
      "462481062073656.4\n",
      "462481062073656.4\n",
      "462481062073656.4\n",
      "462481062073656.4\n",
      "462481062073656.4\n",
      "462481062073656.4\n",
      "462481062073656.4\n",
      "462481062073656.4\n",
      "462481062073656.4\n",
      "462481062073656.4\n",
      "462481062073656.4\n",
      "462481062073656.4\n",
      "462481062073656.4\n",
      "462481062073656.4\n",
      "3  \t30    \n",
      "462481062073656.4\n",
      "462481062073656.4\n",
      "462481062073656.4\n",
      "462481062073656.4\n",
      "462481062073656.4\n",
      "462481062073656.4\n",
      "462481062073656.4\n",
      "462481062073656.4\n",
      "462481062073656.4\n",
      "462481062073656.4\n",
      "462481062073656.4\n",
      "462481062073656.4\n",
      "462481062073656.4\n",
      "462481062073656.4\n",
      "462481062073656.4\n",
      "462481062073656.4\n",
      "462481062073656.4\n",
      "462481062073656.4\n",
      "462481062073656.4\n",
      "462481062073656.4\n",
      "462481062073656.4\n",
      "462481062073656.4\n",
      "462481062073656.4\n",
      "462481062073656.4\n",
      "462481062073656.4\n",
      "462481062073656.4\n",
      "462481062073656.4\n",
      "462481062073656.4\n",
      "462481062073656.4\n",
      "4  \t29    \n",
      "462481062073656.4\n",
      "462481062073656.4\n",
      "462481062073656.4\n",
      "462481062073656.4\n",
      "462481062073656.4\n",
      "462481062073656.4\n",
      "462481062073656.4\n",
      "462481062073656.4\n",
      "462481062073656.4\n",
      "462481062073656.4\n",
      "462481062073656.4\n",
      "462481062073656.4\n",
      "462481062073656.4\n",
      "462481062073656.4\n",
      "462481062073656.4\n",
      "462481062073656.4\n",
      "462481062073656.4\n",
      "462481062073656.4\n",
      "462481062073656.4\n",
      "462481062073656.4\n",
      "462481062073656.4\n",
      "462481062073656.4\n",
      "462481062073656.4\n",
      "462481062073656.4\n",
      "462481062073656.4\n",
      "462481062073656.4\n",
      "462481062073656.4\n",
      "462481062073656.4\n",
      "462481062073656.4\n",
      "462481062073656.4\n",
      "462481062073656.4\n",
      "462481062073656.4\n",
      "462481062073656.4\n",
      "462481062073656.4\n",
      "462481062073656.4\n",
      "5  \t35    \n"
     ]
    },
    {
     "data": {
      "text/plain": [
       "([[770, 21, 41, 23, 3],\n",
       "  [770, 34, 7, 47, 11],\n",
       "  [28, 21, 7, 47, 11],\n",
       "  [770, 35, 41, 37, 1],\n",
       "  [770, 35, 36, 38, 12],\n",
       "  [942, 17, 41, 23, 3],\n",
       "  [625, 31, 36, 21, 2],\n",
       "  [942, 44, 29, 49, 15],\n",
       "  [28, 21, 6, 28, 27],\n",
       "  [28, 35, 41, 23, 2],\n",
       "  [558, 6, 29, 48, 19],\n",
       "  [6, 49, 33, 35, 23],\n",
       "  [942, 20, 41, 23, 3],\n",
       "  [28, 35, 36, 48, 15],\n",
       "  [28, 35, 41, 37, 1],\n",
       "  [942, 20, 36, 48, 15],\n",
       "  [770, 21, 7, 47, 11],\n",
       "  [33, 49, 7, 47, 11],\n",
       "  [682, 47, 15, 38, 23],\n",
       "  [770, 35, 41, 23, 3],\n",
       "  [942, 17, 36, 38, 12],\n",
       "  [625, 31, 36, 48, 15],\n",
       "  [625, 31, 41, 23, 34],\n",
       "  [167, 35, 15, 38, 3],\n",
       "  [942, 44, 29, 49, 19],\n",
       "  [958, 6, 29, 48, 2],\n",
       "  [167, 35, 41, 23, 34],\n",
       "  [942, 44, 29, 49, 2],\n",
       "  [558, 1, 20, 36, 2],\n",
       "  [253, 49, 33, 35, 23],\n",
       "  [167, 13, 41, 19, 27],\n",
       "  [958, 5, 36, 41, 3],\n",
       "  [28, 35, 29, 49, 2],\n",
       "  [942, 44, 41, 30, 3],\n",
       "  [204, 13, 8, 37, 1],\n",
       "  [28, 35, 41, 23, 3],\n",
       "  [682, 31, 15, 37, 1],\n",
       "  [28, 35, 41, 38, 2],\n",
       "  [682, 47, 36, 30, 12],\n",
       "  [411, 17, 14, 36, 10],\n",
       "  [167, 13, 29, 49, 30],\n",
       "  [942, 44, 29, 49, 2],\n",
       "  [397, 17, 29, 49, 2],\n",
       "  [28, 3, 41, 23, 3],\n",
       "  [942, 44, 29, 37, 1],\n",
       "  [204, 13, 8, 49, 4],\n",
       "  [224, 44, 15, 38, 2],\n",
       "  [682, 31, 12, 26, 30],\n",
       "  [942, 31, 36, 48, 15],\n",
       "  [625, 44, 29, 49, 4]],\n",
       " [{'gen': 0, 'nevals': 50},\n",
       "  {'gen': 1, 'nevals': 28},\n",
       "  {'gen': 2, 'nevals': 29},\n",
       "  {'gen': 3, 'nevals': 30},\n",
       "  {'gen': 4, 'nevals': 29},\n",
       "  {'gen': 5, 'nevals': 35}])"
      ]
     },
     "execution_count": 66,
     "metadata": {},
     "output_type": "execute_result"
    }
   ],
   "source": [
    "\n",
    "# # Define the genetic algorithm parameters\n",
    "# toolbox = base.Toolbox()\n",
    "# creator.create(\"FitnessMin\", base.Fitness, weights=(-1.0,))\n",
    "# creator.create(\"Individual\", list, fitness=creator.FitnessMin)\n",
    "# toolbox.register(\"attr_n_estimators\", random.randint, 1, 1000)\n",
    "# toolbox.register(\"attr_max_depth\", random.randint, 1, 50)\n",
    "# toolbox.register(\"attr_max_features\", random.randint, 1, len(x.columns))\n",
    "# toolbox.register(\"attr_min_samples_split\", random.randint, 2,50)\n",
    "# toolbox.register(\"attr_min_samples_leaf\", random.randint, 1,50)\n",
    "# toolbox.register(\"individual\", tools.initCycle, creator.Individual, (toolbox.attr_n_estimators, toolbox.attr_max_depth, toolbox.attr_max_features, toolbox.attr_min_samples_split, toolbox.attr_min_samples_leaf), n=1)\n",
    "# toolbox.register(\"population\", tools.initRepeat, list, toolbox.individual)\n",
    "# toolbox.register(\"evaluate\", evaluate_review)\n",
    "# toolbox.register(\"mate\", tools.cxOnePoint)\n",
    "# toolbox.register(\"mutate\", tools.mutUniformInt, low=2, up=len(x.columns), indpb=0.1)\n",
    "# toolbox.register(\"select\", tools.selTournament, tournsize=3)\n",
    "\n",
    "# # Run the genetic algorithm\n",
    "# population = toolbox.population(n=50)\n",
    "# algorithms.eaSimple(population, toolbox, cxpb=0.5, mutpb=0.2, ngen=5)"
   ]
  },
  {
   "cell_type": "code",
   "execution_count": 67,
   "id": "94c4518d-425a-4961-a942-76336d92d8f6",
   "metadata": {
    "tags": []
   },
   "outputs": [],
   "source": [
    "# # Select the best individual\n",
    "# best_review_individual = tools.selBest(population, k=1)[0]\n",
    "# n_estimators, max_depth, max_features, min_samples_split, min_samples_leaf = best_review_individual"
   ]
  },
  {
   "cell_type": "code",
   "execution_count": 68,
   "id": "269918a0-46c0-4e20-873d-fb75e9eefb1d",
   "metadata": {
    "tags": []
   },
   "outputs": [
    {
     "name": "stdout",
     "output_type": "stream",
     "text": [
      "Mean squared error with optimized hyperparameters:  477333693450015.1\n"
     ]
    }
   ],
   "source": [
    "# # Train the model with the best hyperparameters\n",
    "# rf_review = RandomForestRegressor(n_estimators=n_estimators, max_depth=max_depth, max_features=max_features,min_samples_split=min_samples_split,min_samples_leaf=min_samples_leaf, random_state=42)\n",
    "# rf_review.fit(x_review_train, y_review_train)\n",
    "# y_review_pred = rf_review.predict(x_review_test)\n",
    "# mse = mean_squared_error(y_review_test, y_review_pred)\n",
    "# print(\"Mean squared error with optimized hyperparameters: \", mse)"
   ]
  },
  {
   "cell_type": "code",
   "execution_count": 69,
   "id": "132bcb22-e1f6-4c0e-ba0e-4a6fa206af25",
   "metadata": {
    "tags": []
   },
   "outputs": [
    {
     "data": {
      "text/plain": [
       "['review_model.joblib']"
      ]
     },
     "execution_count": 69,
     "metadata": {},
     "output_type": "execute_result"
    }
   ],
   "source": [
    "# joblib.dump(rf_review, 'review_model.joblib')"
   ]
  },
  {
   "cell_type": "code",
   "execution_count": null,
   "id": "e01048db-6cc9-46cc-a4bb-11408116df5d",
   "metadata": {},
   "outputs": [],
   "source": []
  }
 ],
 "metadata": {
  "kernelspec": {
   "display_name": "Python 3 (ipykernel)",
   "language": "python",
   "name": "python3"
  },
  "language_info": {
   "codemirror_mode": {
    "name": "ipython",
    "version": 3
   },
   "file_extension": ".py",
   "mimetype": "text/x-python",
   "name": "python",
   "nbconvert_exporter": "python",
   "pygments_lexer": "ipython3",
   "version": "3.11.3"
  },
  "toc-autonumbering": false,
  "toc-showcode": true,
  "toc-showmarkdowntxt": true
 },
 "nbformat": 4,
 "nbformat_minor": 5
}
