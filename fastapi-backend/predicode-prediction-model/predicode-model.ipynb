{
 "cells": [
  {
   "cell_type": "code",
   "execution_count": 1,
   "id": "9d0ce1ad-45de-4774-9f8f-ea4c9900585e",
   "metadata": {},
   "outputs": [],
   "source": [
    "import pandas as pd\n",
    "import numpy as np\n",
    "\n",
    "from sklearn import preprocessing\n",
    "from sklearn.metrics import mean_squared_error\n",
    "from sklearn.model_selection import train_test_split\n",
    "from sklearn.ensemble import RandomForestRegressor\n"
   ]
  },
  {
   "cell_type": "code",
   "execution_count": 2,
   "id": "c9bdb67b-c148-4a4f-8fd5-ea208a4bd0f2",
   "metadata": {
    "tags": []
   },
   "outputs": [],
   "source": [
    "df = pd.read_csv(\"dataset/googleplaystore.csv\")"
   ]
  },
  {
   "cell_type": "code",
   "execution_count": 3,
   "id": "14d77346-f4d3-4028-86af-8ec40df21c8a",
   "metadata": {
    "tags": []
   },
   "outputs": [
    {
     "data": {
      "text/html": [
       "<div>\n",
       "<style scoped>\n",
       "    .dataframe tbody tr th:only-of-type {\n",
       "        vertical-align: middle;\n",
       "    }\n",
       "\n",
       "    .dataframe tbody tr th {\n",
       "        vertical-align: top;\n",
       "    }\n",
       "\n",
       "    .dataframe thead th {\n",
       "        text-align: right;\n",
       "    }\n",
       "</style>\n",
       "<table border=\"1\" class=\"dataframe\">\n",
       "  <thead>\n",
       "    <tr style=\"text-align: right;\">\n",
       "      <th></th>\n",
       "      <th>App</th>\n",
       "      <th>Category</th>\n",
       "      <th>Rating</th>\n",
       "      <th>Reviews</th>\n",
       "      <th>Size</th>\n",
       "      <th>Installs</th>\n",
       "      <th>Type</th>\n",
       "      <th>Price</th>\n",
       "      <th>Content Rating</th>\n",
       "      <th>Genres</th>\n",
       "      <th>Last Updated</th>\n",
       "      <th>Current Ver</th>\n",
       "      <th>Android Ver</th>\n",
       "    </tr>\n",
       "  </thead>\n",
       "  <tbody>\n",
       "    <tr>\n",
       "      <th>0</th>\n",
       "      <td>Photo Editor &amp; Candy Camera &amp; Grid &amp; ScrapBook</td>\n",
       "      <td>ART_AND_DESIGN</td>\n",
       "      <td>4.1</td>\n",
       "      <td>159</td>\n",
       "      <td>19M</td>\n",
       "      <td>10,000+</td>\n",
       "      <td>Free</td>\n",
       "      <td>0</td>\n",
       "      <td>Everyone</td>\n",
       "      <td>Art &amp; Design</td>\n",
       "      <td>January 7, 2018</td>\n",
       "      <td>1.0.0</td>\n",
       "      <td>4.0.3 and up</td>\n",
       "    </tr>\n",
       "    <tr>\n",
       "      <th>1</th>\n",
       "      <td>Coloring book moana</td>\n",
       "      <td>ART_AND_DESIGN</td>\n",
       "      <td>3.9</td>\n",
       "      <td>967</td>\n",
       "      <td>14M</td>\n",
       "      <td>500,000+</td>\n",
       "      <td>Free</td>\n",
       "      <td>0</td>\n",
       "      <td>Everyone</td>\n",
       "      <td>Art &amp; Design;Pretend Play</td>\n",
       "      <td>January 15, 2018</td>\n",
       "      <td>2.0.0</td>\n",
       "      <td>4.0.3 and up</td>\n",
       "    </tr>\n",
       "    <tr>\n",
       "      <th>2</th>\n",
       "      <td>U Launcher Lite – FREE Live Cool Themes, Hide ...</td>\n",
       "      <td>ART_AND_DESIGN</td>\n",
       "      <td>4.7</td>\n",
       "      <td>87510</td>\n",
       "      <td>8.7M</td>\n",
       "      <td>5,000,000+</td>\n",
       "      <td>Free</td>\n",
       "      <td>0</td>\n",
       "      <td>Everyone</td>\n",
       "      <td>Art &amp; Design</td>\n",
       "      <td>August 1, 2018</td>\n",
       "      <td>1.2.4</td>\n",
       "      <td>4.0.3 and up</td>\n",
       "    </tr>\n",
       "    <tr>\n",
       "      <th>3</th>\n",
       "      <td>Sketch - Draw &amp; Paint</td>\n",
       "      <td>ART_AND_DESIGN</td>\n",
       "      <td>4.5</td>\n",
       "      <td>215644</td>\n",
       "      <td>25M</td>\n",
       "      <td>50,000,000+</td>\n",
       "      <td>Free</td>\n",
       "      <td>0</td>\n",
       "      <td>Teen</td>\n",
       "      <td>Art &amp; Design</td>\n",
       "      <td>June 8, 2018</td>\n",
       "      <td>Varies with device</td>\n",
       "      <td>4.2 and up</td>\n",
       "    </tr>\n",
       "    <tr>\n",
       "      <th>4</th>\n",
       "      <td>Pixel Draw - Number Art Coloring Book</td>\n",
       "      <td>ART_AND_DESIGN</td>\n",
       "      <td>4.3</td>\n",
       "      <td>967</td>\n",
       "      <td>2.8M</td>\n",
       "      <td>100,000+</td>\n",
       "      <td>Free</td>\n",
       "      <td>0</td>\n",
       "      <td>Everyone</td>\n",
       "      <td>Art &amp; Design;Creativity</td>\n",
       "      <td>June 20, 2018</td>\n",
       "      <td>1.1</td>\n",
       "      <td>4.4 and up</td>\n",
       "    </tr>\n",
       "  </tbody>\n",
       "</table>\n",
       "</div>"
      ],
      "text/plain": [
       "                                                 App        Category  Rating   \n",
       "0     Photo Editor & Candy Camera & Grid & ScrapBook  ART_AND_DESIGN     4.1  \\\n",
       "1                                Coloring book moana  ART_AND_DESIGN     3.9   \n",
       "2  U Launcher Lite – FREE Live Cool Themes, Hide ...  ART_AND_DESIGN     4.7   \n",
       "3                              Sketch - Draw & Paint  ART_AND_DESIGN     4.5   \n",
       "4              Pixel Draw - Number Art Coloring Book  ART_AND_DESIGN     4.3   \n",
       "\n",
       "  Reviews  Size     Installs  Type Price Content Rating   \n",
       "0     159   19M      10,000+  Free     0       Everyone  \\\n",
       "1     967   14M     500,000+  Free     0       Everyone   \n",
       "2   87510  8.7M   5,000,000+  Free     0       Everyone   \n",
       "3  215644   25M  50,000,000+  Free     0           Teen   \n",
       "4     967  2.8M     100,000+  Free     0       Everyone   \n",
       "\n",
       "                      Genres      Last Updated         Current Ver   \n",
       "0               Art & Design   January 7, 2018               1.0.0  \\\n",
       "1  Art & Design;Pretend Play  January 15, 2018               2.0.0   \n",
       "2               Art & Design    August 1, 2018               1.2.4   \n",
       "3               Art & Design      June 8, 2018  Varies with device   \n",
       "4    Art & Design;Creativity     June 20, 2018                 1.1   \n",
       "\n",
       "    Android Ver  \n",
       "0  4.0.3 and up  \n",
       "1  4.0.3 and up  \n",
       "2  4.0.3 and up  \n",
       "3    4.2 and up  \n",
       "4    4.4 and up  "
      ]
     },
     "execution_count": 3,
     "metadata": {},
     "output_type": "execute_result"
    }
   ],
   "source": [
    "df.head()"
   ]
  },
  {
   "cell_type": "code",
   "execution_count": 4,
   "id": "8cab98cf-db56-4c06-b27d-1648e0f268e0",
   "metadata": {
    "tags": []
   },
   "outputs": [
    {
     "data": {
      "text/plain": [
       "(10841, 13)"
      ]
     },
     "execution_count": 4,
     "metadata": {},
     "output_type": "execute_result"
    }
   ],
   "source": [
    "df.shape"
   ]
  },
  {
   "cell_type": "code",
   "execution_count": 5,
   "id": "5a1bb6d8-631c-4d70-a4fe-abe64b357ace",
   "metadata": {
    "tags": []
   },
   "outputs": [
    {
     "name": "stdout",
     "output_type": "stream",
     "text": [
      "<class 'pandas.core.frame.DataFrame'>\n",
      "RangeIndex: 10841 entries, 0 to 10840\n",
      "Data columns (total 13 columns):\n",
      " #   Column          Non-Null Count  Dtype  \n",
      "---  ------          --------------  -----  \n",
      " 0   App             10841 non-null  object \n",
      " 1   Category        10841 non-null  object \n",
      " 2   Rating          9367 non-null   float64\n",
      " 3   Reviews         10841 non-null  object \n",
      " 4   Size            10841 non-null  object \n",
      " 5   Installs        10841 non-null  object \n",
      " 6   Type            10840 non-null  object \n",
      " 7   Price           10841 non-null  object \n",
      " 8   Content Rating  10840 non-null  object \n",
      " 9   Genres          10841 non-null  object \n",
      " 10  Last Updated    10841 non-null  object \n",
      " 11  Current Ver     10833 non-null  object \n",
      " 12  Android Ver     10838 non-null  object \n",
      "dtypes: float64(1), object(12)\n",
      "memory usage: 1.1+ MB\n"
     ]
    }
   ],
   "source": [
    "df.info()"
   ]
  },
  {
   "cell_type": "code",
   "execution_count": 6,
   "id": "2139ee3b-950a-4da4-953e-d7078847a981",
   "metadata": {
    "tags": []
   },
   "outputs": [
    {
     "data": {
      "text/plain": [
       "App                  0\n",
       "Category             0\n",
       "Rating            1474\n",
       "Reviews              0\n",
       "Size                 0\n",
       "Installs             0\n",
       "Type                 1\n",
       "Price                0\n",
       "Content Rating       1\n",
       "Genres               0\n",
       "Last Updated         0\n",
       "Current Ver          8\n",
       "Android Ver          3\n",
       "dtype: int64"
      ]
     },
     "execution_count": 6,
     "metadata": {},
     "output_type": "execute_result"
    }
   ],
   "source": [
    "df.isnull().sum()"
   ]
  },
  {
   "cell_type": "code",
   "execution_count": 7,
   "id": "3aa181ee-ffa7-4515-81a7-3546d9cb781b",
   "metadata": {
    "tags": []
   },
   "outputs": [],
   "source": [
    "def value_to_float(x):\n",
    "    # Convert the string feature into float/Integer\n",
    "    #If there is 'K' or 'M' in the string, convert it to the corresponding number (1000 or 1000000)\n",
    "    \n",
    "    if type(x) == float or type(x) == int:\n",
    "        return x\n",
    "    if 'K' in x:\n",
    "        if len(x) > 1:\n",
    "            return float(x.replace('K', '')) * 10**3\n",
    "        return 1000.0\n",
    "    if 'M' in x:\n",
    "        if len(x) > 1:\n",
    "            return float(x.replace('M', '')) * 10**6\n",
    "        return 1000000.0\n",
    "    \n",
    "    # If the string cannot be converted, return 0 instead\n",
    "    try:\n",
    "        parsed_val = float(x)\n",
    "    except ValueError:\n",
    "        parsed_val = 0.0\n",
    "    return parsed_val"
   ]
  },
  {
   "cell_type": "code",
   "execution_count": 8,
   "id": "f7fdf969-7a96-41e9-83a7-c357a3f88f8d",
   "metadata": {
    "tags": []
   },
   "outputs": [],
   "source": [
    "df = df.loc[df[\"Rating\"].notnull()]\n",
    "df = df.loc[df[\"Rating\"] <= 5]\n",
    "\n",
    "df[\"Price\"] = df[\"Price\"].apply(lambda x: x.replace('$', ''))\n",
    "df[\"Installs\"] = df[\"Installs\"].apply(lambda x: x.replace('+', ''))\n",
    "df['Installs'] = df['Installs'].apply(lambda a: str(a).replace(',', '') if ',' in str(a) else a)\n",
    "df['Installs'] = df['Installs'].apply(lambda a : int(a))\n",
    "df['Reviews'] = df['Reviews'].apply(lambda a : int(a))\n",
    "\n",
    "genres = df[\"Genres\"].value_counts().head().index\n",
    "\n",
    "str_cols = [\"Size\", \"Price\"]\n",
    "\n",
    "for col in str_cols:\n",
    "    df[[col]] = df[[col]].fillna(value=\"\")\n",
    "    df[col] = df[col].apply(value_to_float)"
   ]
  },
  {
   "cell_type": "code",
   "execution_count": 9,
   "id": "329feadb-a1de-43f2-b532-8f54b74892d2",
   "metadata": {
    "tags": []
   },
   "outputs": [],
   "source": [
    "df.dropna(inplace=True)"
   ]
  },
  {
   "cell_type": "code",
   "execution_count": 10,
   "id": "c172106e-addf-4290-8fb2-cdf3deeeb655",
   "metadata": {
    "tags": []
   },
   "outputs": [
    {
     "data": {
      "text/plain": [
       "App               0\n",
       "Category          0\n",
       "Rating            0\n",
       "Reviews           0\n",
       "Size              0\n",
       "Installs          0\n",
       "Type              0\n",
       "Price             0\n",
       "Content Rating    0\n",
       "Genres            0\n",
       "Last Updated      0\n",
       "Current Ver       0\n",
       "Android Ver       0\n",
       "dtype: int64"
      ]
     },
     "execution_count": 10,
     "metadata": {},
     "output_type": "execute_result"
    }
   ],
   "source": [
    "df.isnull().sum()"
   ]
  },
  {
   "cell_type": "code",
   "execution_count": 11,
   "id": "e77edb28-6bad-414d-a983-f094a9eda0e3",
   "metadata": {
    "tags": []
   },
   "outputs": [
    {
     "data": {
      "text/plain": [
       "(9360, 13)"
      ]
     },
     "execution_count": 11,
     "metadata": {},
     "output_type": "execute_result"
    }
   ],
   "source": [
    "df.shape"
   ]
  },
  {
   "cell_type": "code",
   "execution_count": 12,
   "id": "cef7a419-47dc-4575-a97c-ffcd87c8f2d6",
   "metadata": {
    "tags": []
   },
   "outputs": [
    {
     "data": {
      "text/html": [
       "<div>\n",
       "<style scoped>\n",
       "    .dataframe tbody tr th:only-of-type {\n",
       "        vertical-align: middle;\n",
       "    }\n",
       "\n",
       "    .dataframe tbody tr th {\n",
       "        vertical-align: top;\n",
       "    }\n",
       "\n",
       "    .dataframe thead th {\n",
       "        text-align: right;\n",
       "    }\n",
       "</style>\n",
       "<table border=\"1\" class=\"dataframe\">\n",
       "  <thead>\n",
       "    <tr style=\"text-align: right;\">\n",
       "      <th></th>\n",
       "      <th>Rating</th>\n",
       "      <th>Reviews</th>\n",
       "      <th>Size</th>\n",
       "      <th>Installs</th>\n",
       "      <th>Price</th>\n",
       "    </tr>\n",
       "  </thead>\n",
       "  <tbody>\n",
       "    <tr>\n",
       "      <th>count</th>\n",
       "      <td>9360.000000</td>\n",
       "      <td>9.360000e+03</td>\n",
       "      <td>9.360000e+03</td>\n",
       "      <td>9.360000e+03</td>\n",
       "      <td>9360.000000</td>\n",
       "    </tr>\n",
       "    <tr>\n",
       "      <th>mean</th>\n",
       "      <td>4.191838</td>\n",
       "      <td>5.143767e+05</td>\n",
       "      <td>1.894124e+07</td>\n",
       "      <td>1.790875e+07</td>\n",
       "      <td>0.961279</td>\n",
       "    </tr>\n",
       "    <tr>\n",
       "      <th>std</th>\n",
       "      <td>0.515263</td>\n",
       "      <td>3.145023e+06</td>\n",
       "      <td>2.302813e+07</td>\n",
       "      <td>9.126637e+07</td>\n",
       "      <td>15.821640</td>\n",
       "    </tr>\n",
       "    <tr>\n",
       "      <th>min</th>\n",
       "      <td>1.000000</td>\n",
       "      <td>1.000000e+00</td>\n",
       "      <td>0.000000e+00</td>\n",
       "      <td>1.000000e+00</td>\n",
       "      <td>0.000000</td>\n",
       "    </tr>\n",
       "    <tr>\n",
       "      <th>25%</th>\n",
       "      <td>4.000000</td>\n",
       "      <td>1.867500e+02</td>\n",
       "      <td>2.400000e+06</td>\n",
       "      <td>1.000000e+04</td>\n",
       "      <td>0.000000</td>\n",
       "    </tr>\n",
       "    <tr>\n",
       "      <th>50%</th>\n",
       "      <td>4.300000</td>\n",
       "      <td>5.955000e+03</td>\n",
       "      <td>9.500000e+06</td>\n",
       "      <td>5.000000e+05</td>\n",
       "      <td>0.000000</td>\n",
       "    </tr>\n",
       "    <tr>\n",
       "      <th>75%</th>\n",
       "      <td>4.500000</td>\n",
       "      <td>8.162750e+04</td>\n",
       "      <td>2.700000e+07</td>\n",
       "      <td>5.000000e+06</td>\n",
       "      <td>0.000000</td>\n",
       "    </tr>\n",
       "    <tr>\n",
       "      <th>max</th>\n",
       "      <td>5.000000</td>\n",
       "      <td>7.815831e+07</td>\n",
       "      <td>1.000000e+08</td>\n",
       "      <td>1.000000e+09</td>\n",
       "      <td>400.000000</td>\n",
       "    </tr>\n",
       "  </tbody>\n",
       "</table>\n",
       "</div>"
      ],
      "text/plain": [
       "            Rating       Reviews          Size      Installs        Price\n",
       "count  9360.000000  9.360000e+03  9.360000e+03  9.360000e+03  9360.000000\n",
       "mean      4.191838  5.143767e+05  1.894124e+07  1.790875e+07     0.961279\n",
       "std       0.515263  3.145023e+06  2.302813e+07  9.126637e+07    15.821640\n",
       "min       1.000000  1.000000e+00  0.000000e+00  1.000000e+00     0.000000\n",
       "25%       4.000000  1.867500e+02  2.400000e+06  1.000000e+04     0.000000\n",
       "50%       4.300000  5.955000e+03  9.500000e+06  5.000000e+05     0.000000\n",
       "75%       4.500000  8.162750e+04  2.700000e+07  5.000000e+06     0.000000\n",
       "max       5.000000  7.815831e+07  1.000000e+08  1.000000e+09   400.000000"
      ]
     },
     "execution_count": 12,
     "metadata": {},
     "output_type": "execute_result"
    }
   ],
   "source": [
    "df.describe()"
   ]
  },
  {
   "cell_type": "code",
   "execution_count": 13,
   "id": "548900c2-4ed1-4f0b-a971-b76291f6b346",
   "metadata": {
    "tags": []
   },
   "outputs": [
    {
     "name": "stdout",
     "output_type": "stream",
     "text": [
      "<class 'pandas.core.frame.DataFrame'>\n",
      "Index: 9360 entries, 0 to 10840\n",
      "Data columns (total 13 columns):\n",
      " #   Column          Non-Null Count  Dtype  \n",
      "---  ------          --------------  -----  \n",
      " 0   App             9360 non-null   object \n",
      " 1   Category        9360 non-null   object \n",
      " 2   Rating          9360 non-null   float64\n",
      " 3   Reviews         9360 non-null   int64  \n",
      " 4   Size            9360 non-null   float64\n",
      " 5   Installs        9360 non-null   int64  \n",
      " 6   Type            9360 non-null   object \n",
      " 7   Price           9360 non-null   float64\n",
      " 8   Content Rating  9360 non-null   object \n",
      " 9   Genres          9360 non-null   object \n",
      " 10  Last Updated    9360 non-null   object \n",
      " 11  Current Ver     9360 non-null   object \n",
      " 12  Android Ver     9360 non-null   object \n",
      "dtypes: float64(3), int64(2), object(8)\n",
      "memory usage: 1023.8+ KB\n"
     ]
    }
   ],
   "source": [
    "df.info()"
   ]
  },
  {
   "cell_type": "code",
   "execution_count": 14,
   "id": "d8b45e17-91bb-4e3b-b805-3e582481f654",
   "metadata": {
    "tags": []
   },
   "outputs": [
    {
     "data": {
      "text/plain": [
       "(7, 13)"
      ]
     },
     "execution_count": 14,
     "metadata": {},
     "output_type": "execute_result"
    }
   ],
   "source": [
    "# There are 7 records where Reviews are greater than Installs \n",
    "df[df['Reviews'] > df['Installs']].shape"
   ]
  },
  {
   "cell_type": "code",
   "execution_count": 15,
   "id": "45510ac6-87b9-45c4-b6c0-ab49459300bc",
   "metadata": {
    "tags": []
   },
   "outputs": [
    {
     "data": {
      "text/plain": [
       "(0, 13)"
      ]
     },
     "execution_count": 15,
     "metadata": {},
     "output_type": "execute_result"
    }
   ],
   "source": [
    "# Dropping 7 records that have greater Reviews than Installs\n",
    "df.drop(df[df['Reviews'] > df['Installs']].index,inplace=True)\n",
    "df[df['Reviews'] > df['Installs']].shape"
   ]
  },
  {
   "cell_type": "code",
   "execution_count": 16,
   "id": "b0b4373e-ece5-4d6b-9f83-b713e6801359",
   "metadata": {
    "tags": []
   },
   "outputs": [],
   "source": [
    "# Dropping rows that have Price > 200\n",
    "df.drop(df[df['Price'] > 200].index,inplace=True)"
   ]
  },
  {
   "cell_type": "code",
   "execution_count": 17,
   "id": "0c4dab8a-7d26-4ebc-8743-7e81417e7d98",
   "metadata": {
    "tags": []
   },
   "outputs": [
    {
     "name": "stdout",
     "output_type": "stream",
     "text": [
      "<class 'pandas.core.frame.DataFrame'>\n",
      "Index: 9338 entries, 0 to 10840\n",
      "Data columns (total 13 columns):\n",
      " #   Column          Non-Null Count  Dtype  \n",
      "---  ------          --------------  -----  \n",
      " 0   App             9338 non-null   object \n",
      " 1   Category        9338 non-null   object \n",
      " 2   Rating          9338 non-null   float64\n",
      " 3   Reviews         9338 non-null   int64  \n",
      " 4   Size            9338 non-null   float64\n",
      " 5   Installs        9338 non-null   int64  \n",
      " 6   Type            9338 non-null   object \n",
      " 7   Price           9338 non-null   float64\n",
      " 8   Content Rating  9338 non-null   object \n",
      " 9   Genres          9338 non-null   object \n",
      " 10  Last Updated    9338 non-null   object \n",
      " 11  Current Ver     9338 non-null   object \n",
      " 12  Android Ver     9338 non-null   object \n",
      "dtypes: float64(3), int64(2), object(8)\n",
      "memory usage: 1021.3+ KB\n"
     ]
    }
   ],
   "source": [
    "df.info()"
   ]
  },
  {
   "cell_type": "code",
   "execution_count": 18,
   "id": "4a59e0f6-2930-474a-9256-7d2a9e07fcbb",
   "metadata": {
    "tags": []
   },
   "outputs": [
    {
     "name": "stdout",
     "output_type": "stream",
     "text": [
      "Category\n",
      "FAMILY                 1742\n",
      "GAME                   1093\n",
      "TOOLS                   733\n",
      "PRODUCTIVITY            351\n",
      "MEDICAL                 349\n",
      "COMMUNICATION           328\n",
      "SPORTS                  319\n",
      "FINANCE                 317\n",
      "PHOTOGRAPHY             317\n",
      "PERSONALIZATION         312\n",
      "LIFESTYLE               308\n",
      "BUSINESS                303\n",
      "HEALTH_AND_FITNESS      297\n",
      "SOCIAL                  258\n",
      "SHOPPING                238\n",
      "NEWS_AND_MAGAZINES      233\n",
      "TRAVEL_AND_LOCAL        226\n",
      "DATING                  195\n",
      "BOOKS_AND_REFERENCE     178\n",
      "VIDEO_PLAYERS           160\n",
      "EDUCATION               155\n",
      "ENTERTAINMENT           149\n",
      "MAPS_AND_NAVIGATION     124\n",
      "FOOD_AND_DRINK          109\n",
      "HOUSE_AND_HOME           76\n",
      "WEATHER                  75\n",
      "AUTO_AND_VEHICLES        73\n",
      "LIBRARIES_AND_DEMO       64\n",
      "ART_AND_DESIGN           61\n",
      "COMICS                   58\n",
      "PARENTING                50\n",
      "EVENTS                   45\n",
      "BEAUTY                   42\n",
      "Name: count, dtype: int64\n"
     ]
    }
   ],
   "source": [
    "df = df[df['Category'] != '1.9']\n",
    "value_counts = df['Category'].value_counts()\n",
    "print(value_counts)"
   ]
  },
  {
   "cell_type": "code",
   "execution_count": 19,
   "id": "ba656578-c305-44f4-9ce6-ce1f64842b23",
   "metadata": {},
   "outputs": [],
   "source": [
    "category = pd.get_dummies(df['Category'], dtype='uint8')\n",
    "df = pd.concat([df, category], axis=1)\n"
   ]
  },
  {
   "cell_type": "code",
   "execution_count": 20,
   "id": "eb3080c4-1e92-44f9-be6d-37c2fe757a05",
   "metadata": {
    "tags": []
   },
   "outputs": [],
   "source": [
    "df.drop('Category', axis=1, inplace=True)"
   ]
  },
  {
   "cell_type": "code",
   "execution_count": 21,
   "id": "72b994ce-e61e-4183-a218-6156566158bf",
   "metadata": {
    "tags": []
   },
   "outputs": [
    {
     "data": {
      "text/plain": [
       "Rating\n",
       "4.4    1107\n",
       "4.3    1074\n",
       "4.5    1037\n",
       "4.2     951\n",
       "4.6     823\n",
       "4.1     705\n",
       "4.0     565\n",
       "4.7     499\n",
       "3.9     386\n",
       "3.8     299\n",
       "5.0     268\n",
       "3.7     239\n",
       "4.8     233\n",
       "3.6     172\n",
       "3.5     162\n",
       "3.4     128\n",
       "3.3     102\n",
       "4.9      87\n",
       "3.0      83\n",
       "3.1      69\n",
       "3.2      63\n",
       "2.9      44\n",
       "2.8      42\n",
       "2.7      25\n",
       "2.6      25\n",
       "2.5      21\n",
       "2.3      20\n",
       "2.4      19\n",
       "1.0      16\n",
       "2.2      14\n",
       "1.9      13\n",
       "2.0      12\n",
       "1.7       8\n",
       "1.8       8\n",
       "2.1       8\n",
       "1.6       4\n",
       "1.4       3\n",
       "1.5       3\n",
       "1.2       1\n",
       "Name: count, dtype: int64"
      ]
     },
     "execution_count": 21,
     "metadata": {},
     "output_type": "execute_result"
    }
   ],
   "source": [
    "df['Rating'].value_counts()"
   ]
  },
  {
   "cell_type": "code",
   "execution_count": 22,
   "id": "17014b20-d4f3-4792-b451-f86725f5cca8",
   "metadata": {
    "tags": []
   },
   "outputs": [
    {
     "name": "stdout",
     "output_type": "stream",
     "text": [
      "Content Rating\n",
      "Everyone           7394\n",
      "Teen               1082\n",
      "Mature 17+          461\n",
      "Everyone 10+        397\n",
      "Adults only 18+       3\n",
      "Unrated               1\n",
      "Name: count, dtype: int64\n"
     ]
    }
   ],
   "source": [
    "print(df['Content Rating'].value_counts())"
   ]
  },
  {
   "cell_type": "code",
   "execution_count": 23,
   "id": "be51e41f-6e33-4aa7-9bfb-181e237b1450",
   "metadata": {
    "tags": []
   },
   "outputs": [],
   "source": [
    "df = df[df['Content Rating'] != 'Unrated']\n"
   ]
  },
  {
   "cell_type": "code",
   "execution_count": 24,
   "id": "33813149-5b18-4524-9526-c0b5036d22d7",
   "metadata": {
    "tags": []
   },
   "outputs": [],
   "source": [
    "content_rating = pd.get_dummies(df['Content Rating'], dtype='uint8')\n",
    "\n",
    "df = pd.concat([df, content_rating], axis=1)\n",
    "\n",
    "df.drop('Content Rating', axis=1, inplace=True)\n"
   ]
  },
  {
   "cell_type": "code",
   "execution_count": 25,
   "id": "3aea4689-76e0-4df0-9936-cf6ef1dea0c9",
   "metadata": {
    "tags": []
   },
   "outputs": [
    {
     "data": {
      "text/html": [
       "<div>\n",
       "<style scoped>\n",
       "    .dataframe tbody tr th:only-of-type {\n",
       "        vertical-align: middle;\n",
       "    }\n",
       "\n",
       "    .dataframe tbody tr th {\n",
       "        vertical-align: top;\n",
       "    }\n",
       "\n",
       "    .dataframe thead th {\n",
       "        text-align: right;\n",
       "    }\n",
       "</style>\n",
       "<table border=\"1\" class=\"dataframe\">\n",
       "  <thead>\n",
       "    <tr style=\"text-align: right;\">\n",
       "      <th></th>\n",
       "      <th>App</th>\n",
       "      <th>Rating</th>\n",
       "      <th>Reviews</th>\n",
       "      <th>Size</th>\n",
       "      <th>Installs</th>\n",
       "      <th>Type</th>\n",
       "      <th>Price</th>\n",
       "      <th>Genres</th>\n",
       "      <th>Last Updated</th>\n",
       "      <th>Current Ver</th>\n",
       "      <th>...</th>\n",
       "      <th>SPORTS</th>\n",
       "      <th>TOOLS</th>\n",
       "      <th>TRAVEL_AND_LOCAL</th>\n",
       "      <th>VIDEO_PLAYERS</th>\n",
       "      <th>WEATHER</th>\n",
       "      <th>Adults only 18+</th>\n",
       "      <th>Everyone</th>\n",
       "      <th>Everyone 10+</th>\n",
       "      <th>Mature 17+</th>\n",
       "      <th>Teen</th>\n",
       "    </tr>\n",
       "  </thead>\n",
       "  <tbody>\n",
       "    <tr>\n",
       "      <th>0</th>\n",
       "      <td>Photo Editor &amp; Candy Camera &amp; Grid &amp; ScrapBook</td>\n",
       "      <td>4.1</td>\n",
       "      <td>159</td>\n",
       "      <td>19000000.0</td>\n",
       "      <td>10000</td>\n",
       "      <td>Free</td>\n",
       "      <td>0.0</td>\n",
       "      <td>Art &amp; Design</td>\n",
       "      <td>January 7, 2018</td>\n",
       "      <td>1.0.0</td>\n",
       "      <td>...</td>\n",
       "      <td>0</td>\n",
       "      <td>0</td>\n",
       "      <td>0</td>\n",
       "      <td>0</td>\n",
       "      <td>0</td>\n",
       "      <td>0</td>\n",
       "      <td>1</td>\n",
       "      <td>0</td>\n",
       "      <td>0</td>\n",
       "      <td>0</td>\n",
       "    </tr>\n",
       "    <tr>\n",
       "      <th>1</th>\n",
       "      <td>Coloring book moana</td>\n",
       "      <td>3.9</td>\n",
       "      <td>967</td>\n",
       "      <td>14000000.0</td>\n",
       "      <td>500000</td>\n",
       "      <td>Free</td>\n",
       "      <td>0.0</td>\n",
       "      <td>Art &amp; Design;Pretend Play</td>\n",
       "      <td>January 15, 2018</td>\n",
       "      <td>2.0.0</td>\n",
       "      <td>...</td>\n",
       "      <td>0</td>\n",
       "      <td>0</td>\n",
       "      <td>0</td>\n",
       "      <td>0</td>\n",
       "      <td>0</td>\n",
       "      <td>0</td>\n",
       "      <td>1</td>\n",
       "      <td>0</td>\n",
       "      <td>0</td>\n",
       "      <td>0</td>\n",
       "    </tr>\n",
       "    <tr>\n",
       "      <th>2</th>\n",
       "      <td>U Launcher Lite – FREE Live Cool Themes, Hide ...</td>\n",
       "      <td>4.7</td>\n",
       "      <td>87510</td>\n",
       "      <td>8700000.0</td>\n",
       "      <td>5000000</td>\n",
       "      <td>Free</td>\n",
       "      <td>0.0</td>\n",
       "      <td>Art &amp; Design</td>\n",
       "      <td>August 1, 2018</td>\n",
       "      <td>1.2.4</td>\n",
       "      <td>...</td>\n",
       "      <td>0</td>\n",
       "      <td>0</td>\n",
       "      <td>0</td>\n",
       "      <td>0</td>\n",
       "      <td>0</td>\n",
       "      <td>0</td>\n",
       "      <td>1</td>\n",
       "      <td>0</td>\n",
       "      <td>0</td>\n",
       "      <td>0</td>\n",
       "    </tr>\n",
       "    <tr>\n",
       "      <th>3</th>\n",
       "      <td>Sketch - Draw &amp; Paint</td>\n",
       "      <td>4.5</td>\n",
       "      <td>215644</td>\n",
       "      <td>25000000.0</td>\n",
       "      <td>50000000</td>\n",
       "      <td>Free</td>\n",
       "      <td>0.0</td>\n",
       "      <td>Art &amp; Design</td>\n",
       "      <td>June 8, 2018</td>\n",
       "      <td>Varies with device</td>\n",
       "      <td>...</td>\n",
       "      <td>0</td>\n",
       "      <td>0</td>\n",
       "      <td>0</td>\n",
       "      <td>0</td>\n",
       "      <td>0</td>\n",
       "      <td>0</td>\n",
       "      <td>0</td>\n",
       "      <td>0</td>\n",
       "      <td>0</td>\n",
       "      <td>1</td>\n",
       "    </tr>\n",
       "    <tr>\n",
       "      <th>4</th>\n",
       "      <td>Pixel Draw - Number Art Coloring Book</td>\n",
       "      <td>4.3</td>\n",
       "      <td>967</td>\n",
       "      <td>2800000.0</td>\n",
       "      <td>100000</td>\n",
       "      <td>Free</td>\n",
       "      <td>0.0</td>\n",
       "      <td>Art &amp; Design;Creativity</td>\n",
       "      <td>June 20, 2018</td>\n",
       "      <td>1.1</td>\n",
       "      <td>...</td>\n",
       "      <td>0</td>\n",
       "      <td>0</td>\n",
       "      <td>0</td>\n",
       "      <td>0</td>\n",
       "      <td>0</td>\n",
       "      <td>0</td>\n",
       "      <td>1</td>\n",
       "      <td>0</td>\n",
       "      <td>0</td>\n",
       "      <td>0</td>\n",
       "    </tr>\n",
       "    <tr>\n",
       "      <th>5</th>\n",
       "      <td>Paper flowers instructions</td>\n",
       "      <td>4.4</td>\n",
       "      <td>167</td>\n",
       "      <td>5600000.0</td>\n",
       "      <td>50000</td>\n",
       "      <td>Free</td>\n",
       "      <td>0.0</td>\n",
       "      <td>Art &amp; Design</td>\n",
       "      <td>March 26, 2017</td>\n",
       "      <td>1.0</td>\n",
       "      <td>...</td>\n",
       "      <td>0</td>\n",
       "      <td>0</td>\n",
       "      <td>0</td>\n",
       "      <td>0</td>\n",
       "      <td>0</td>\n",
       "      <td>0</td>\n",
       "      <td>1</td>\n",
       "      <td>0</td>\n",
       "      <td>0</td>\n",
       "      <td>0</td>\n",
       "    </tr>\n",
       "  </tbody>\n",
       "</table>\n",
       "<p>6 rows × 49 columns</p>\n",
       "</div>"
      ],
      "text/plain": [
       "                                                 App  Rating  Reviews   \n",
       "0     Photo Editor & Candy Camera & Grid & ScrapBook     4.1      159  \\\n",
       "1                                Coloring book moana     3.9      967   \n",
       "2  U Launcher Lite – FREE Live Cool Themes, Hide ...     4.7    87510   \n",
       "3                              Sketch - Draw & Paint     4.5   215644   \n",
       "4              Pixel Draw - Number Art Coloring Book     4.3      967   \n",
       "5                         Paper flowers instructions     4.4      167   \n",
       "\n",
       "         Size  Installs  Type  Price                     Genres   \n",
       "0  19000000.0     10000  Free    0.0               Art & Design  \\\n",
       "1  14000000.0    500000  Free    0.0  Art & Design;Pretend Play   \n",
       "2   8700000.0   5000000  Free    0.0               Art & Design   \n",
       "3  25000000.0  50000000  Free    0.0               Art & Design   \n",
       "4   2800000.0    100000  Free    0.0    Art & Design;Creativity   \n",
       "5   5600000.0     50000  Free    0.0               Art & Design   \n",
       "\n",
       "       Last Updated         Current Ver  ... SPORTS  TOOLS  TRAVEL_AND_LOCAL   \n",
       "0   January 7, 2018               1.0.0  ...      0      0                 0  \\\n",
       "1  January 15, 2018               2.0.0  ...      0      0                 0   \n",
       "2    August 1, 2018               1.2.4  ...      0      0                 0   \n",
       "3      June 8, 2018  Varies with device  ...      0      0                 0   \n",
       "4     June 20, 2018                 1.1  ...      0      0                 0   \n",
       "5    March 26, 2017                 1.0  ...      0      0                 0   \n",
       "\n",
       "   VIDEO_PLAYERS  WEATHER  Adults only 18+  Everyone  Everyone 10+   \n",
       "0              0        0                0         1             0  \\\n",
       "1              0        0                0         1             0   \n",
       "2              0        0                0         1             0   \n",
       "3              0        0                0         0             0   \n",
       "4              0        0                0         1             0   \n",
       "5              0        0                0         1             0   \n",
       "\n",
       "   Mature 17+  Teen  \n",
       "0           0     0  \n",
       "1           0     0  \n",
       "2           0     0  \n",
       "3           0     1  \n",
       "4           0     0  \n",
       "5           0     0  \n",
       "\n",
       "[6 rows x 49 columns]"
      ]
     },
     "execution_count": 25,
     "metadata": {},
     "output_type": "execute_result"
    }
   ],
   "source": [
    "df.head(6)"
   ]
  },
  {
   "cell_type": "code",
   "execution_count": 26,
   "id": "66cfebcc-4b49-4e9d-ade1-7c15b5d22216",
   "metadata": {
    "tags": []
   },
   "outputs": [],
   "source": [
    "df = df.drop(['Last Updated', 'Current Ver', 'Android Ver','Type','App','Reviews', 'Installs','Genres'], axis=1)\n"
   ]
  },
  {
   "cell_type": "code",
   "execution_count": 27,
   "id": "9f5d1644-504a-4d91-b9e6-6ea99835a390",
   "metadata": {
    "tags": []
   },
   "outputs": [
    {
     "name": "stdout",
     "output_type": "stream",
     "text": [
      "<class 'pandas.core.frame.DataFrame'>\n",
      "Index: 9337 entries, 0 to 10840\n",
      "Data columns (total 41 columns):\n",
      " #   Column               Non-Null Count  Dtype  \n",
      "---  ------               --------------  -----  \n",
      " 0   Rating               9337 non-null   float64\n",
      " 1   Size                 9337 non-null   float64\n",
      " 2   Price                9337 non-null   float64\n",
      " 3   ART_AND_DESIGN       9337 non-null   uint8  \n",
      " 4   AUTO_AND_VEHICLES    9337 non-null   uint8  \n",
      " 5   BEAUTY               9337 non-null   uint8  \n",
      " 6   BOOKS_AND_REFERENCE  9337 non-null   uint8  \n",
      " 7   BUSINESS             9337 non-null   uint8  \n",
      " 8   COMICS               9337 non-null   uint8  \n",
      " 9   COMMUNICATION        9337 non-null   uint8  \n",
      " 10  DATING               9337 non-null   uint8  \n",
      " 11  EDUCATION            9337 non-null   uint8  \n",
      " 12  ENTERTAINMENT        9337 non-null   uint8  \n",
      " 13  EVENTS               9337 non-null   uint8  \n",
      " 14  FAMILY               9337 non-null   uint8  \n",
      " 15  FINANCE              9337 non-null   uint8  \n",
      " 16  FOOD_AND_DRINK       9337 non-null   uint8  \n",
      " 17  GAME                 9337 non-null   uint8  \n",
      " 18  HEALTH_AND_FITNESS   9337 non-null   uint8  \n",
      " 19  HOUSE_AND_HOME       9337 non-null   uint8  \n",
      " 20  LIBRARIES_AND_DEMO   9337 non-null   uint8  \n",
      " 21  LIFESTYLE            9337 non-null   uint8  \n",
      " 22  MAPS_AND_NAVIGATION  9337 non-null   uint8  \n",
      " 23  MEDICAL              9337 non-null   uint8  \n",
      " 24  NEWS_AND_MAGAZINES   9337 non-null   uint8  \n",
      " 25  PARENTING            9337 non-null   uint8  \n",
      " 26  PERSONALIZATION      9337 non-null   uint8  \n",
      " 27  PHOTOGRAPHY          9337 non-null   uint8  \n",
      " 28  PRODUCTIVITY         9337 non-null   uint8  \n",
      " 29  SHOPPING             9337 non-null   uint8  \n",
      " 30  SOCIAL               9337 non-null   uint8  \n",
      " 31  SPORTS               9337 non-null   uint8  \n",
      " 32  TOOLS                9337 non-null   uint8  \n",
      " 33  TRAVEL_AND_LOCAL     9337 non-null   uint8  \n",
      " 34  VIDEO_PLAYERS        9337 non-null   uint8  \n",
      " 35  WEATHER              9337 non-null   uint8  \n",
      " 36  Adults only 18+      9337 non-null   uint8  \n",
      " 37  Everyone             9337 non-null   uint8  \n",
      " 38  Everyone 10+         9337 non-null   uint8  \n",
      " 39  Mature 17+           9337 non-null   uint8  \n",
      " 40  Teen                 9337 non-null   uint8  \n",
      "dtypes: float64(3), uint8(38)\n",
      "memory usage: 638.3 KB\n"
     ]
    }
   ],
   "source": [
    "df.info()"
   ]
  },
  {
   "cell_type": "code",
   "execution_count": 28,
   "id": "effa91cd-6bf5-4800-831c-0e56dea2a1ab",
   "metadata": {
    "tags": []
   },
   "outputs": [
    {
     "data": {
      "text/plain": [
       "Size\n",
       "0.0           1892\n",
       "14000000.0     165\n",
       "12000000.0     161\n",
       "15000000.0     159\n",
       "11000000.0     159\n",
       "              ... \n",
       "65000000.0       9\n",
       "89000000.0       9\n",
       "86000000.0       8\n",
       "90000000.0       5\n",
       "1000000.0        4\n",
       "Name: count, Length: 182, dtype: int64"
      ]
     },
     "execution_count": 28,
     "metadata": {},
     "output_type": "execute_result"
    }
   ],
   "source": [
    "df['Size'].value_counts()"
   ]
  },
  {
   "cell_type": "code",
   "execution_count": 29,
   "id": "763c82ac-c072-4f22-abbf-69c2f74f6322",
   "metadata": {
    "tags": []
   },
   "outputs": [],
   "source": [
    "df = df[df['Size'] != 0]"
   ]
  },
  {
   "cell_type": "code",
   "execution_count": 31,
   "id": "ee7f6964-190a-4f6d-adb9-8f47d418627d",
   "metadata": {
    "tags": []
   },
   "outputs": [],
   "source": [
    "y = df[['Rating']]\n",
    "x = df.drop('Rating',axis=1)"
   ]
  },
  {
   "cell_type": "code",
   "execution_count": 41,
   "id": "aceedced-7151-494b-a60f-3699ade23a27",
   "metadata": {
    "tags": []
   },
   "outputs": [
    {
     "name": "stdout",
     "output_type": "stream",
     "text": [
      "<class 'pandas.core.frame.DataFrame'>\n",
      "Index: 7445 entries, 0 to 10840\n",
      "Data columns (total 40 columns):\n",
      " #   Column               Non-Null Count  Dtype  \n",
      "---  ------               --------------  -----  \n",
      " 0   Size                 7445 non-null   float64\n",
      " 1   Price                7445 non-null   float64\n",
      " 2   ART_AND_DESIGN       7445 non-null   uint8  \n",
      " 3   AUTO_AND_VEHICLES    7445 non-null   uint8  \n",
      " 4   BEAUTY               7445 non-null   uint8  \n",
      " 5   BOOKS_AND_REFERENCE  7445 non-null   uint8  \n",
      " 6   BUSINESS             7445 non-null   uint8  \n",
      " 7   COMICS               7445 non-null   uint8  \n",
      " 8   COMMUNICATION        7445 non-null   uint8  \n",
      " 9   DATING               7445 non-null   uint8  \n",
      " 10  EDUCATION            7445 non-null   uint8  \n",
      " 11  ENTERTAINMENT        7445 non-null   uint8  \n",
      " 12  EVENTS               7445 non-null   uint8  \n",
      " 13  FAMILY               7445 non-null   uint8  \n",
      " 14  FINANCE              7445 non-null   uint8  \n",
      " 15  FOOD_AND_DRINK       7445 non-null   uint8  \n",
      " 16  GAME                 7445 non-null   uint8  \n",
      " 17  HEALTH_AND_FITNESS   7445 non-null   uint8  \n",
      " 18  HOUSE_AND_HOME       7445 non-null   uint8  \n",
      " 19  LIBRARIES_AND_DEMO   7445 non-null   uint8  \n",
      " 20  LIFESTYLE            7445 non-null   uint8  \n",
      " 21  MAPS_AND_NAVIGATION  7445 non-null   uint8  \n",
      " 22  MEDICAL              7445 non-null   uint8  \n",
      " 23  NEWS_AND_MAGAZINES   7445 non-null   uint8  \n",
      " 24  PARENTING            7445 non-null   uint8  \n",
      " 25  PERSONALIZATION      7445 non-null   uint8  \n",
      " 26  PHOTOGRAPHY          7445 non-null   uint8  \n",
      " 27  PRODUCTIVITY         7445 non-null   uint8  \n",
      " 28  SHOPPING             7445 non-null   uint8  \n",
      " 29  SOCIAL               7445 non-null   uint8  \n",
      " 30  SPORTS               7445 non-null   uint8  \n",
      " 31  TOOLS                7445 non-null   uint8  \n",
      " 32  TRAVEL_AND_LOCAL     7445 non-null   uint8  \n",
      " 33  VIDEO_PLAYERS        7445 non-null   uint8  \n",
      " 34  WEATHER              7445 non-null   uint8  \n",
      " 35  Adults only 18+      7445 non-null   uint8  \n",
      " 36  Everyone             7445 non-null   uint8  \n",
      " 37  Everyone 10+         7445 non-null   uint8  \n",
      " 38  Mature 17+           7445 non-null   uint8  \n",
      " 39  Teen                 7445 non-null   uint8  \n",
      "dtypes: float64(2), uint8(38)\n",
      "memory usage: 450.8 KB\n"
     ]
    }
   ],
   "source": [
    "x.info()"
   ]
  },
  {
   "cell_type": "code",
   "execution_count": 32,
   "id": "7a1a67f2-9017-4387-98c2-5f672c1d43cd",
   "metadata": {
    "tags": []
   },
   "outputs": [
    {
     "data": {
      "text/plain": [
       "((7445, 40), (7445, 1))"
      ]
     },
     "execution_count": 32,
     "metadata": {},
     "output_type": "execute_result"
    }
   ],
   "source": [
    "x.shape, y.shape"
   ]
  },
  {
   "cell_type": "code",
   "execution_count": 33,
   "id": "528eecbd-fe7e-4e22-b360-158ea71f3676",
   "metadata": {
    "tags": []
   },
   "outputs": [],
   "source": [
    "X_train, X_test, y_train, y_test = train_test_split(x, y, random_state=1)"
   ]
  },
  {
   "cell_type": "code",
   "execution_count": 34,
   "id": "ce7caadf-48b4-4d3a-a857-e3cb2908843d",
   "metadata": {
    "tags": []
   },
   "outputs": [],
   "source": [
    "import random\n",
    "from deap import base, creator, tools, algorithms\n",
    "import warnings\n",
    "from sklearn.exceptions import DataConversionWarning\n",
    "warnings.filterwarnings(\"ignore\", category=DataConversionWarning)\n"
   ]
  },
  {
   "cell_type": "code",
   "execution_count": 35,
   "id": "9ea2929f-295d-472f-ac71-7a35753118da",
   "metadata": {
    "tags": []
   },
   "outputs": [
    {
     "name": "stdout",
     "output_type": "stream",
     "text": [
      "Mean squared error:  0.3458750919662488\n"
     ]
    }
   ],
   "source": [
    "rf = RandomForestRegressor(n_estimators=100, random_state=42)\n",
    "rf.fit(X_train, y_train)\n",
    "\n",
    "# Make predictions on the test data\n",
    "Y_pred = rf.predict(X_test)\n",
    "\n",
    "mse = mean_squared_error(y_test, Y_pred)\n",
    "print(\"Mean squared error: \", mse)"
   ]
  },
  {
   "cell_type": "code",
   "execution_count": 36,
   "id": "1473c8f7-a6ff-4c1a-8935-4deb4528a13f",
   "metadata": {
    "tags": []
   },
   "outputs": [],
   "source": [
    "# Create a fitness function that measures the performance of the model\n",
    "def evaluate(individual):\n",
    "    # Convert the individual into a list of hyperparameters\n",
    "    n_estimators = individual[0]\n",
    "    max_depth = individual[1]\n",
    "    max_features = individual[2]\n",
    "    min_samples_split = individual[3]\n",
    "    min_samples_leaf = individual[4]\n",
    "    \n",
    "    # Create a random forest model with the given hyperparameters\n",
    "    rf = RandomForestRegressor(n_estimators=n_estimators, max_depth=max_depth, max_features=max_features, min_samples_split=min_samples_split, min_samples_leaf=min_samples_leaf,random_state=42)\n",
    "    \n",
    "    # Train the model on the training data\n",
    "    rf.fit(X_train, y_train)\n",
    "    \n",
    "    # Evaluate the model on the test data\n",
    "    Y_pred = rf.predict(X_test)\n",
    "    mse = mean_squared_error(y_test, Y_pred)\n",
    "    print(mse)\n",
    "    # Return the mean squared error as the fitness value\n",
    "    return mse,"
   ]
  },
  {
   "cell_type": "code",
   "execution_count": 37,
   "id": "9ac1c336-1ea9-4bdf-9e69-1def27f58ee5",
   "metadata": {
    "tags": []
   },
   "outputs": [
    {
     "name": "stdout",
     "output_type": "stream",
     "text": [
      "0.2997397758978961\n",
      "0.30223796269540704\n",
      "0.30380345776160844\n",
      "0.302734397434832\n",
      "0.3024454083262892\n",
      "0.3032905403622651\n",
      "0.3014796977259702\n",
      "0.2986582836306623\n",
      "0.30610306570091955\n",
      "0.30322277150725946\n",
      "0.2992950584456513\n",
      "0.30765190013407795\n",
      "0.30091331164028795\n",
      "0.30122904067329287\n",
      "0.3021029014708448\n",
      "0.3023868070215335\n",
      "0.30091203171887637\n",
      "0.30045518298501855\n",
      "0.3018392209014482\n",
      "0.3000192968217125\n",
      "0.29948784283500635\n",
      "0.30135650799900593\n",
      "0.3019737860818858\n",
      "0.30211224119597097\n",
      "0.3260718066236097\n",
      "0.30605647023953453\n",
      "0.31097015066859857\n",
      "0.3019377704712577\n",
      "0.3017759916334929\n",
      "0.3036428706281648\n",
      "0.30497606602590066\n",
      "0.3055579649539398\n",
      "0.302280374328951\n",
      "0.3023734192845957\n",
      "0.29974719722277055\n",
      "0.30068090622419275\n",
      "0.3014498396054574\n",
      "0.3027342897694848\n",
      "0.298406610176381\n",
      "0.3196765328652874\n",
      "0.3024951886252784\n",
      "0.30910627716513617\n",
      "0.299706062803608\n",
      "0.30237341860120825\n",
      "0.30051211241575093\n",
      "0.3031577663603459\n",
      "0.3014654577346255\n",
      "0.29915968264836423\n",
      "0.30543340025846755\n",
      "0.3009422458871512\n",
      "gen\tnevals\n",
      "0  \t50    \n",
      "0.29936026005807187\n",
      "0.3005783677165212\n",
      "0.3014975991295809\n",
      "0.3013280815781461\n",
      "0.3014498396054574\n",
      "0.3024264890432399\n",
      "0.3021016211411852\n",
      "0.3011816658470266\n",
      "0.30141945487648264\n",
      "0.30080939634581144\n",
      "0.30037355061473814\n",
      "0.3006623350977685\n",
      "0.3022648208495877\n",
      "0.2986582836306623\n",
      "0.300656017825069\n",
      "0.297754972540621\n",
      "0.30099345444920045\n",
      "0.3001391951758181\n",
      "0.298406610176381\n",
      "0.2997941196797927\n",
      "0.302091727320944\n",
      "0.300487395937483\n",
      "0.30064125455753943\n",
      "0.3018392209014482\n",
      "0.3013324204289947\n",
      "0.2999247432169581\n",
      "0.2995558125907433\n",
      "0.3004807090594521\n",
      "0.30023248861099333\n",
      "0.29927031599800485\n",
      "0.30151725880260133\n",
      "0.2998472524899624\n",
      "1  \t32    \n",
      "0.29962154533232843\n",
      "0.2995743987189179\n",
      "0.2987829417091165\n",
      "0.30023248861099333\n",
      "0.2992950584456513\n",
      "0.2986143705743399\n",
      "0.2978184075570455\n",
      "0.2999247432169581\n",
      "0.2992950584456513\n",
      "0.2986582836306623\n",
      "0.2986582836306623\n",
      "0.2992950584456513\n",
      "0.298406610176381\n",
      "0.2992950584456513\n",
      "0.300816198786898\n",
      "0.29927031599800485\n",
      "0.297754972540621\n",
      "0.297754972540621\n",
      "0.3050775645556007\n",
      "0.30061541032841765\n",
      "0.2997292942121708\n",
      "0.29827880096759557\n",
      "0.2994976479323899\n",
      "0.297754972540621\n",
      "0.298406610176381\n",
      "0.29927031599800485\n",
      "0.30023248861099333\n",
      "0.30023248861099333\n",
      "0.2992950584456513\n",
      "0.30008443834217224\n",
      "0.2995557543344687\n",
      "0.30045518298501855\n",
      "0.30045518298501855\n",
      "2  \t33    \n",
      "0.298406610176381\n",
      "0.2977855835438919\n",
      "0.2977855835438919\n",
      "0.2994976479323899\n",
      "0.29927031599800485\n",
      "0.2986188117041493\n",
      "0.2986645521691408\n",
      "0.2985814207831389\n",
      "0.3004962252573861\n",
      "0.297754972540621\n",
      "0.297754972540621\n",
      "0.2988537485064059\n",
      "0.29974919460878496\n",
      "0.297754972540621\n",
      "0.297754972540621\n",
      "0.29998144198501675\n",
      "0.298406610176381\n",
      "0.298406610176381\n",
      "0.297754972540621\n",
      "0.29819953075077976\n",
      "0.29975361212584267\n",
      "0.298406610176381\n",
      "0.298406610176381\n",
      "0.29950155658728767\n",
      "0.2992328206852565\n",
      "0.3047061694657724\n",
      "0.30040281448515477\n",
      "0.297754972540621\n",
      "0.297754972540621\n",
      "0.29962154533232843\n",
      "0.2986143705743399\n",
      "0.2978184075570455\n",
      "3  \t32    \n",
      "0.2978184075570455\n",
      "0.297754972540621\n",
      "0.297754972540621\n",
      "0.297754972540621\n",
      "0.297754972540621\n",
      "0.297754972540621\n",
      "0.298406610176381\n",
      "0.29822765393210815\n",
      "0.2995579069871168\n",
      "0.2993257880444105\n",
      "0.297754972540621\n",
      "0.297754972540621\n",
      "0.297754972540621\n",
      "0.298406610176381\n",
      "0.297754972540621\n",
      "0.297754972540621\n",
      "0.2986188117041493\n",
      "0.297754972540621\n",
      "0.297754972540621\n",
      "0.297754972540621\n",
      "0.30210216467679074\n",
      "0.2977855835438919\n",
      "0.297754972540621\n",
      "0.297754972540621\n",
      "0.297754972540621\n",
      "0.297754972540621\n",
      "0.30161946564812364\n",
      "0.297754972540621\n",
      "0.297754972540621\n",
      "0.297754972540621\n",
      "0.297754972540621\n",
      "0.2996653268286694\n",
      "4  \t32    \n",
      "0.2988251898175858\n",
      "0.297754972540621\n",
      "0.297754972540621\n",
      "0.297754972540621\n",
      "0.297754972540621\n",
      "0.297754972540621\n",
      "0.297754972540621\n",
      "0.297754972540621\n",
      "0.297754972540621\n",
      "0.297754972540621\n",
      "0.297754972540621\n",
      "0.297754972540621\n",
      "0.297754972540621\n",
      "0.297754972540621\n",
      "0.297754972540621\n",
      "0.297754972540621\n",
      "0.297754972540621\n",
      "0.297754972540621\n",
      "0.297754972540621\n",
      "0.2977855835438919\n",
      "0.297754972540621\n",
      "0.297754972540621\n",
      "0.297754972540621\n",
      "0.297754972540621\n",
      "0.297754972540621\n",
      "0.297754972540621\n",
      "0.297754972540621\n",
      "0.297754972540621\n",
      "0.297754972540621\n",
      "0.297754972540621\n",
      "0.297754972540621\n",
      "0.297754972540621\n",
      "0.29882341821588226\n",
      "0.297754972540621\n",
      "0.297754972540621\n",
      "0.3012794019820996\n",
      "5  \t36    \n"
     ]
    },
    {
     "data": {
      "text/plain": [
       "([[335, 25, 6, 15, 3],\n",
       "  [548, 25, 6, 35, 3],\n",
       "  [548, 25, 6, 35, 3],\n",
       "  [548, 25, 6, 35, 3],\n",
       "  [548, 25, 6, 35, 3],\n",
       "  [548, 25, 6, 35, 3],\n",
       "  [548, 25, 6, 35, 3],\n",
       "  [548, 25, 6, 35, 3],\n",
       "  [548, 25, 6, 35, 3],\n",
       "  [548, 25, 6, 35, 3],\n",
       "  [548, 25, 6, 35, 3],\n",
       "  [548, 25, 6, 35, 3],\n",
       "  [548, 25, 6, 35, 3],\n",
       "  [548, 25, 6, 35, 3],\n",
       "  [548, 25, 6, 35, 3],\n",
       "  [548, 25, 6, 35, 3],\n",
       "  [548, 25, 6, 35, 3],\n",
       "  [548, 25, 6, 35, 3],\n",
       "  [548, 25, 6, 35, 3],\n",
       "  [548, 25, 6, 35, 3],\n",
       "  [548, 25, 6, 35, 3],\n",
       "  [548, 25, 6, 35, 3],\n",
       "  [548, 25, 6, 35, 3],\n",
       "  [548, 25, 6, 35, 3],\n",
       "  [548, 25, 6, 35, 3],\n",
       "  [548, 25, 6, 35, 3],\n",
       "  [548, 25, 6, 35, 3],\n",
       "  [335, 25, 6, 35, 3],\n",
       "  [548, 25, 6, 35, 3],\n",
       "  [548, 25, 6, 35, 3],\n",
       "  [548, 25, 6, 35, 3],\n",
       "  [548, 25, 6, 35, 3],\n",
       "  [548, 25, 6, 35, 3],\n",
       "  [548, 25, 6, 35, 3],\n",
       "  [548, 25, 6, 35, 3],\n",
       "  [548, 25, 6, 35, 3],\n",
       "  [548, 25, 6, 35, 3],\n",
       "  [548, 25, 6, 35, 3],\n",
       "  [548, 25, 6, 35, 3],\n",
       "  [548, 25, 6, 35, 3],\n",
       "  [548, 25, 6, 35, 3],\n",
       "  [548, 25, 6, 35, 3],\n",
       "  [548, 25, 6, 35, 3],\n",
       "  [548, 25, 6, 35, 3],\n",
       "  [548, 25, 6, 35, 3],\n",
       "  [548, 25, 15, 31, 3],\n",
       "  [548, 25, 6, 35, 3],\n",
       "  [548, 25, 6, 35, 3],\n",
       "  [548, 25, 6, 35, 3],\n",
       "  [548, 25, 6, 28, 31]],\n",
       " [{'gen': 0, 'nevals': 50},\n",
       "  {'gen': 1, 'nevals': 32},\n",
       "  {'gen': 2, 'nevals': 33},\n",
       "  {'gen': 3, 'nevals': 32},\n",
       "  {'gen': 4, 'nevals': 32},\n",
       "  {'gen': 5, 'nevals': 36}])"
      ]
     },
     "execution_count": 37,
     "metadata": {},
     "output_type": "execute_result"
    }
   ],
   "source": [
    "\n",
    "# Define the genetic algorithm parameters\n",
    "toolbox = base.Toolbox()\n",
    "creator.create(\"FitnessMin\", base.Fitness, weights=(-1.0,))\n",
    "creator.create(\"Individual\", list, fitness=creator.FitnessMin)\n",
    "toolbox.register(\"attr_n_estimators\", random.randint, 1, 1000)\n",
    "toolbox.register(\"attr_max_depth\", random.randint, 1, 50)\n",
    "toolbox.register(\"attr_max_features\", random.randint, 1, len(x.columns))\n",
    "toolbox.register(\"attr_min_samples_split\", random.randint, 2,50)\n",
    "toolbox.register(\"attr_min_samples_leaf\", random.randint, 1,50)\n",
    "toolbox.register(\"individual\", tools.initCycle, creator.Individual, (toolbox.attr_n_estimators, toolbox.attr_max_depth, toolbox.attr_max_features, toolbox.attr_min_samples_split, toolbox.attr_min_samples_leaf), n=1)\n",
    "toolbox.register(\"population\", tools.initRepeat, list, toolbox.individual)\n",
    "toolbox.register(\"evaluate\", evaluate)\n",
    "toolbox.register(\"mate\", tools.cxOnePoint)\n",
    "toolbox.register(\"mutate\", tools.mutUniformInt, low=2, up=len(x.columns), indpb=0.1)\n",
    "toolbox.register(\"select\", tools.selTournament, tournsize=3)\n",
    "\n",
    "# Run the genetic algorithm\n",
    "population = toolbox.population(n=50)\n",
    "algorithms.eaSimple(population, toolbox, cxpb=0.5, mutpb=0.2, ngen=5)\n"
   ]
  },
  {
   "cell_type": "code",
   "execution_count": 38,
   "id": "44a0435e-3242-43be-bf96-9d1d0ab2b160",
   "metadata": {
    "tags": []
   },
   "outputs": [],
   "source": [
    "# Select the best individual\n",
    "best_individual = tools.selBest(population, k=1)[0]\n",
    "n_estimators, max_depth, max_features, min_samples_split, min_samples_leaf = best_individual"
   ]
  },
  {
   "cell_type": "code",
   "execution_count": 39,
   "id": "0adad660-0472-4275-8adc-fc29fbad09ae",
   "metadata": {
    "tags": []
   },
   "outputs": [
    {
     "name": "stdout",
     "output_type": "stream",
     "text": [
      "Mean squared error with optimized hyperparameters:  0.297754972540621\n"
     ]
    }
   ],
   "source": [
    "# Train the model with the best hyperparameters\n",
    "rf = RandomForestRegressor(n_estimators=n_estimators, max_depth=max_depth, max_features=max_features,min_samples_split=min_samples_split,min_samples_leaf=min_samples_leaf, random_state=42)\n",
    "rf.fit(X_train, y_train)\n",
    "Y_pred = rf.predict(X_test)\n",
    "mse = mean_squared_error(y_test, Y_pred)\n",
    "print(\"Mean squared error with optimized hyperparameters: \", mse)"
   ]
  },
  {
   "cell_type": "code",
   "execution_count": 40,
   "id": "b9120b81-4577-4de3-bdaf-1b980b8a3672",
   "metadata": {
    "tags": []
   },
   "outputs": [
    {
     "data": {
      "text/plain": [
       "['model.joblib']"
      ]
     },
     "execution_count": 40,
     "metadata": {},
     "output_type": "execute_result"
    }
   ],
   "source": [
    "import joblib\n",
    "\n",
    "# Save the model to a file\n",
    "joblib.dump(rf, 'model.joblib')"
   ]
  },
  {
   "cell_type": "code",
   "execution_count": 78,
   "id": "c9ca20c0-2f4c-419a-9fe9-b7238da6e199",
   "metadata": {},
   "outputs": [
    {
     "name": "stdout",
     "output_type": "stream",
     "text": [
      "[4.39780404]\n"
     ]
    },
    {
     "name": "stderr",
     "output_type": "stream",
     "text": [
      "/Users/user/Desktop/predicode/fastapi-backend/my_venv/lib/python3.11/site-packages/sklearn/base.py:439: UserWarning: X does not have valid feature names, but RandomForestRegressor was fitted with feature names\n",
      "  warnings.warn(\n"
     ]
    }
   ],
   "source": [
    "predictions = rf.predict([[50000000550, 0, 0,0,0,0,0,0,0,0,0,0,0,0,0,0,0,0,0,0,0,0,0,0,0,0,0,0,0,0,0,0,0,0,0,0,0,0,0,0]])\n",
    "print(predictions)"
   ]
  },
  {
   "cell_type": "code",
   "execution_count": 52,
   "id": "7c76b9e2-7722-4c90-b8d4-cc6fb1100525",
   "metadata": {
    "tags": []
   },
   "outputs": [],
   "source": [
    "# import random\n",
    "# import numpy as np\n",
    "# import pygad\n",
    "# from sklearn.ensemble import RandomForestRegressor\n",
    "# from sklearn.metrics import mean_squared_error\n",
    "# import warnings\n",
    "# from sklearn.exceptions import DataConversionWarning\n",
    "# warnings.filterwarnings(\"ignore\", category=DataConversionWarning)\n"
   ]
  },
  {
   "cell_type": "code",
   "execution_count": 55,
   "id": "a085f64f-794f-4ff2-80c6-475e22749fac",
   "metadata": {
    "tags": []
   },
   "outputs": [
    {
     "name": "stderr",
     "output_type": "stream",
     "text": [
      "/Users/user/Desktop/predicode/fastapi-backend/my_venv/lib/python3.11/site-packages/pygad/pygad.py:623: UserWarning: The percentage of genes to mutate (mutation_percent_genes=10) resutled in selecting (0) genes. The number of genes to mutate is set to 1 (mutation_num_genes=1).\n",
      "If you do not want to mutate any gene, please set mutation_type=None.\n",
      "  if not self.suppress_warnings: warnings.warn(\"The percentage of genes to mutate (mutation_percent_genes={mutation_percent}) resutled in selecting ({mutation_num}) genes. The number of genes to mutate is set to 1 (mutation_num_genes=1).\\nIf you do not want to mutate any gene, please set mutation_type=None.\".format(mutation_percent=mutation_percent_genes, mutation_num=mutation_num_genes))\n"
     ]
    },
    {
     "name": "stdout",
     "output_type": "stream",
     "text": [
      "mse:  0.3445703683803924\n",
      "fitness:  2.9021563941901345\n",
      "mse:  0.34503890968842643\n",
      "fitness:  2.8982154583306245\n",
      "mse:  0.3451978577318896\n",
      "fitness:  2.8968809647008853\n",
      "mse:  0.3450779024361724\n",
      "fitness:  2.8978879697954447\n",
      "mse:  0.3447606714386467\n",
      "fitness:  2.900554449185511\n",
      "mse:  0.3451514895398358\n",
      "fitness:  2.8972701351023717\n",
      "mse:  0.34511125185168584\n",
      "fitness:  2.897607936648266\n",
      "mse:  0.34808102623702314\n",
      "fitness:  2.872886057377348\n",
      "mse:  0.3451152772564228\n",
      "fitness:  2.8975741392139436\n",
      "mse:  0.3450478975956059\n",
      "fitness:  2.8981399649970503\n",
      "mse:  0.34480494128113204\n",
      "fitness:  2.9001820452527123\n",
      "mse:  0.3446375231083332\n",
      "fitness:  2.9015908929184375\n",
      "mse:  0.3443207161243309\n",
      "fitness:  2.9042606178197334\n",
      "mse:  0.3580503378223407\n",
      "fitness:  2.7928955833037103\n",
      "mse:  0.3093234384878814\n",
      "fitness:  3.2328515809758036\n",
      "mse:  0.3445703683803924\n",
      "fitness:  2.9021563941901345\n",
      "mse:  0.4825486006473441\n",
      "fitness:  2.072325826523309\n",
      "mse:  0.3585851723859694\n",
      "fitness:  2.78872995393597\n",
      "mse:  0.30950343334895125\n",
      "fitness:  3.230971489421441\n",
      "mse:  0.3443207161243309\n",
      "fitness:  2.9042606178197334\n",
      "mse:  0.3443207161243309\n",
      "fitness:  2.9042606178197334\n",
      "mse:  0.31296344282043287\n",
      "fitness:  3.1952511633206915\n",
      "mse:  0.3446375231083332\n",
      "fitness:  2.9015908929184375\n",
      "mse:  0.3120012228349342\n",
      "fitness:  3.2051053704481247\n",
      "mse:  0.309502228107516\n",
      "fitness:  3.230984071198823\n",
      "mse:  0.3120012228349342\n",
      "fitness:  3.2051053704481247\n",
      "mse:  0.3446375231083332\n",
      "fitness:  2.9015908929184375\n",
      "mse:  0.3443207161243309\n",
      "fitness:  2.9042606178197334\n",
      "mse:  0.31296344282043287\n",
      "fitness:  3.1952511633206915\n",
      "mse:  0.3093234384878814\n",
      "fitness:  3.2328515809758036\n",
      "mse:  0.3443207161243309\n",
      "fitness:  2.9042606178197334\n",
      "mse:  0.309502228107516\n",
      "fitness:  3.230984071198823\n",
      "mse:  0.309502228107516\n",
      "fitness:  3.230984071198823\n",
      "mse:  0.309502228107516\n",
      "fitness:  3.230984071198823\n",
      "mse:  0.3093234384878814\n",
      "fitness:  3.2328515809758036\n",
      "mse:  0.3443207161243309\n",
      "fitness:  2.9042606178197334\n",
      "mse:  0.3120598691862791\n",
      "fitness:  3.204503027270196\n",
      "mse:  0.3120598691862791\n",
      "fitness:  3.204503027270196\n",
      "mse:  0.309502228107516\n",
      "fitness:  3.230984071198823\n",
      "mse:  0.3443207161243309\n",
      "fitness:  2.9042606178197334\n",
      "mse:  0.3443207161243309\n",
      "fitness:  2.9042606178197334\n",
      "mse:  0.3443207161243309\n",
      "fitness:  2.9042606178197334\n",
      "mse:  0.3120598691862791\n",
      "fitness:  3.204503027270196\n",
      "mse:  0.3120598691862791\n",
      "fitness:  3.204503027270196\n",
      "mse:  0.3443207161243309\n",
      "fitness:  2.9042606178197334\n",
      "mse:  0.31296344282043287\n",
      "fitness:  3.1952511633206915\n",
      "mse:  0.3443207161243309\n",
      "fitness:  2.9042606178197334\n",
      "mse:  0.31296344282043287\n",
      "fitness:  3.1952511633206915\n",
      "mse:  0.31199578389158494\n",
      "fitness:  3.2051612440578485\n",
      "mse:  0.31199578389158494\n",
      "fitness:  3.2051612440578485\n",
      "mse:  0.3120598691862791\n",
      "fitness:  3.204503027270196\n",
      "mse:  0.3443207161243309\n",
      "fitness:  2.9042606178197334\n",
      "mse:  0.31296344282043287\n",
      "fitness:  3.1952511633206915\n",
      "mse:  0.3446883549408667\n",
      "fitness:  2.9011629911563572\n",
      "mse:  0.3120598691862791\n",
      "fitness:  3.204503027270196\n",
      "finished\n"
     ]
    }
   ],
   "source": [
    "# Define the fitness function\n",
    "# def fitness_func(self, solution, solution_idx):\n",
    "#     if type(solution) == list:\n",
    "#         solution = np.array(solution)\n",
    "#     n_estimators = int(solution[0])\n",
    "#     max_depth = int(solution[1])\n",
    "#     max_features = int(solution[2])\n",
    "    \n",
    "#     # Create a random forest model with the given hyperparameters\n",
    "#     rf = RandomForestRegressor(n_estimators=n_estimators, max_depth=max_depth, max_features=max_features, random_state=42)\n",
    "    \n",
    "#     # Train the model on the training data\n",
    "#     rf.fit(X_train, y_train)\n",
    "    \n",
    "#     # Evaluate the model on the test data\n",
    "#     Y_pred = rf.predict(X_test)\n",
    "#     mse = mean_squared_error(y_test, Y_pred)\n",
    "\n",
    "#     print(\"mse: \", mse)\n",
    "#     # Return the mean squared error as the fitness value\n",
    "#     fitness = 1.0 / (mse + 1e-6)\n",
    "#     print(\"fitness: \",fitness)\n",
    "#     return fitness\n",
    "\n",
    "# # Define the initial population\n",
    "# num_generations = 5\n",
    "# num_parents_mating = 2\n",
    "# sol_per_pop = 10\n",
    "# num_genes = 3\n",
    "# parent_selection_type = \"rank\"\n",
    "# crossover_type = \"single_point\"\n",
    "# mutation_type = \"random\"\n",
    "\n",
    "# init_range_low = 1\n",
    "# init_range_high = 1000\n",
    "# gene_space = [(init_range_low, init_range_high), (1, 50), (1, len(x.columns))]\n",
    "\n",
    "# # initial_population = pygad.initial_population(population_size=sol_per_pop, \n",
    "# #                                               num_genes=num_genes, \n",
    "# #                                               gene_space=gene_space)\n",
    "\n",
    "# initial_population = np.random.randint(low=init_range_low, high=init_range_high+1, size=(sol_per_pop, num_genes))\n",
    "\n",
    "\n",
    "# # Create the genetic algorithm\n",
    "# ga_instance = pygad.GA(num_generations=num_generations,\n",
    "#                         num_parents_mating=num_parents_mating,\n",
    "#                         sol_per_pop=sol_per_pop,\n",
    "#                         num_genes=num_genes,\n",
    "#                         gene_space=gene_space,\n",
    "#                         parent_selection_type=parent_selection_type,\n",
    "#                         crossover_type=crossover_type,\n",
    "#                         mutation_type=mutation_type,\n",
    "#                         initial_population=initial_population,\n",
    "#                         fitness_func=fitness_func)\n",
    "\n",
    "# # Run the genetic algorithm\n",
    "# ga_instance.run()\n",
    "\n",
    "# print(\"finished\")"
   ]
  },
  {
   "cell_type": "code",
   "execution_count": 59,
   "id": "1ecbea7b-b802-4898-ad7b-735a4c0fdc88",
   "metadata": {
    "tags": []
   },
   "outputs": [
    {
     "name": "stdout",
     "output_type": "stream",
     "text": [
      "mse:  0.3443207161243309\n",
      "fitness:  2.9042606178197334\n",
      "mse:  0.31296344282043287\n",
      "fitness:  3.1952511633206915\n",
      "mse:  0.31199578389158494\n",
      "fitness:  3.2051612440578485\n",
      "mse:  0.31199578389158494\n",
      "fitness:  3.2051612440578485\n",
      "mse:  0.3120598691862791\n",
      "fitness:  3.204503027270196\n",
      "mse:  0.3443207161243309\n",
      "fitness:  2.9042606178197334\n",
      "mse:  0.31296344282043287\n",
      "fitness:  3.1952511633206915\n",
      "mse:  0.3446883549408667\n",
      "fitness:  2.9011629911563572\n",
      "mse:  0.3120598691862791\n",
      "fitness:  3.204503027270196\n",
      "best_solution (array([270.,   1.,  40.]), 3.2328515809758036, 0)\n"
     ]
    },
    {
     "ename": "TypeError",
     "evalue": "only size-1 arrays can be converted to Python scalars",
     "output_type": "error",
     "traceback": [
      "\u001b[0;31m---------------------------------------------------------------------------\u001b[0m",
      "\u001b[0;31mTypeError\u001b[0m                                 Traceback (most recent call last)",
      "Cell \u001b[0;32mIn[59], line 6\u001b[0m\n\u001b[1;32m      4\u001b[0m \u001b[38;5;66;03m# Train the model with the best hyperparameters\u001b[39;00m\n\u001b[1;32m      5\u001b[0m n_estimators, max_depth, max_features \u001b[38;5;241m=\u001b[39m best_solution\n\u001b[0;32m----> 6\u001b[0m rf \u001b[38;5;241m=\u001b[39m RandomForestRegressor(n_estimators\u001b[38;5;241m=\u001b[39m\u001b[38;5;28;43mint\u001b[39;49m\u001b[43m(\u001b[49m\u001b[43mn_estimators\u001b[49m\u001b[43m)\u001b[49m, max_depth\u001b[38;5;241m=\u001b[39m\u001b[38;5;28mint\u001b[39m(max_depth), max_features\u001b[38;5;241m=\u001b[39m\u001b[38;5;28mint\u001b[39m(max_features), random_state\u001b[38;5;241m=\u001b[39m\u001b[38;5;241m42\u001b[39m)\n\u001b[1;32m      7\u001b[0m rf\u001b[38;5;241m.\u001b[39mfit(X_train, y_train)\n\u001b[1;32m      8\u001b[0m Y_pred \u001b[38;5;241m=\u001b[39m rf\u001b[38;5;241m.\u001b[39mpredict(X_test)\n",
      "\u001b[0;31mTypeError\u001b[0m: only size-1 arrays can be converted to Python scalars"
     ]
    }
   ],
   "source": [
    "# # Get the best solution found by the genetic algorithm\n",
    "# best_solution = ga_instance.best_solution()\n",
    "# print(\"best_solution\", best_solution)\n",
    "# # Train the model with the best hyperparameters\n",
    "# n_estimators, max_depth, max_features = best_solution\n",
    "# rf = RandomForestRegressor(n_estimators=int(n_estimators), max_depth=int(max_depth), max_features=int(max_features), random_state=42)\n",
    "# rf.fit(X_train, y_train)\n",
    "# Y_pred = rf.predict(X_test)\n",
    "# mse = mean_squared_error(y_test, Y_pred)\n",
    "# print(\"Mean squared error with optimized hyperparameters: \", mse)"
   ]
  },
  {
   "cell_type": "code",
   "execution_count": null,
   "id": "5aae4e3d-2fb0-4ff9-b4be-8bd977034706",
   "metadata": {},
   "outputs": [],
   "source": []
  },
  {
   "cell_type": "code",
   "execution_count": null,
   "id": "81539111-1190-46b3-a8e4-8f1ad0a6dc84",
   "metadata": {},
   "outputs": [],
   "source": []
  },
  {
   "cell_type": "code",
   "execution_count": null,
   "id": "8e0e51a6-b88b-41d9-9475-be44c9261c93",
   "metadata": {},
   "outputs": [],
   "source": []
  }
 ],
 "metadata": {
  "kernelspec": {
   "display_name": "Python 3 (ipykernel)",
   "language": "python",
   "name": "python3"
  },
  "language_info": {
   "codemirror_mode": {
    "name": "ipython",
    "version": 3
   },
   "file_extension": ".py",
   "mimetype": "text/x-python",
   "name": "python",
   "nbconvert_exporter": "python",
   "pygments_lexer": "ipython3",
   "version": "3.11.3"
  },
  "toc-autonumbering": false,
  "toc-showcode": true,
  "toc-showmarkdowntxt": true
 },
 "nbformat": 4,
 "nbformat_minor": 5
}
