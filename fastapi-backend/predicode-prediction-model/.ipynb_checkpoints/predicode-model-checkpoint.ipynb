{
 "cells": [
  {
   "cell_type": "code",
   "execution_count": 1,
   "id": "9d0ce1ad-45de-4774-9f8f-ea4c9900585e",
   "metadata": {},
   "outputs": [],
   "source": [
    "import pandas as pd"
   ]
  },
  {
   "cell_type": "code",
   "execution_count": 2,
   "id": "c9bdb67b-c148-4a4f-8fd5-ea208a4bd0f2",
   "metadata": {
    "tags": []
   },
   "outputs": [],
   "source": [
    "df = pd.read_csv(\"dataset/googleplaystore.csv\")"
   ]
  },
  {
   "cell_type": "code",
   "execution_count": 3,
   "id": "14d77346-f4d3-4028-86af-8ec40df21c8a",
   "metadata": {
    "tags": []
   },
   "outputs": [
    {
     "data": {
      "text/html": [
       "<div>\n",
       "<style scoped>\n",
       "    .dataframe tbody tr th:only-of-type {\n",
       "        vertical-align: middle;\n",
       "    }\n",
       "\n",
       "    .dataframe tbody tr th {\n",
       "        vertical-align: top;\n",
       "    }\n",
       "\n",
       "    .dataframe thead th {\n",
       "        text-align: right;\n",
       "    }\n",
       "</style>\n",
       "<table border=\"1\" class=\"dataframe\">\n",
       "  <thead>\n",
       "    <tr style=\"text-align: right;\">\n",
       "      <th></th>\n",
       "      <th>App</th>\n",
       "      <th>Category</th>\n",
       "      <th>Rating</th>\n",
       "      <th>Reviews</th>\n",
       "      <th>Size</th>\n",
       "      <th>Installs</th>\n",
       "      <th>Type</th>\n",
       "      <th>Price</th>\n",
       "      <th>Content Rating</th>\n",
       "      <th>Genres</th>\n",
       "      <th>Last Updated</th>\n",
       "      <th>Current Ver</th>\n",
       "      <th>Android Ver</th>\n",
       "    </tr>\n",
       "  </thead>\n",
       "  <tbody>\n",
       "    <tr>\n",
       "      <th>0</th>\n",
       "      <td>Photo Editor &amp; Candy Camera &amp; Grid &amp; ScrapBook</td>\n",
       "      <td>ART_AND_DESIGN</td>\n",
       "      <td>4.1</td>\n",
       "      <td>159</td>\n",
       "      <td>19M</td>\n",
       "      <td>10,000+</td>\n",
       "      <td>Free</td>\n",
       "      <td>0</td>\n",
       "      <td>Everyone</td>\n",
       "      <td>Art &amp; Design</td>\n",
       "      <td>January 7, 2018</td>\n",
       "      <td>1.0.0</td>\n",
       "      <td>4.0.3 and up</td>\n",
       "    </tr>\n",
       "    <tr>\n",
       "      <th>1</th>\n",
       "      <td>Coloring book moana</td>\n",
       "      <td>ART_AND_DESIGN</td>\n",
       "      <td>3.9</td>\n",
       "      <td>967</td>\n",
       "      <td>14M</td>\n",
       "      <td>500,000+</td>\n",
       "      <td>Free</td>\n",
       "      <td>0</td>\n",
       "      <td>Everyone</td>\n",
       "      <td>Art &amp; Design;Pretend Play</td>\n",
       "      <td>January 15, 2018</td>\n",
       "      <td>2.0.0</td>\n",
       "      <td>4.0.3 and up</td>\n",
       "    </tr>\n",
       "    <tr>\n",
       "      <th>2</th>\n",
       "      <td>U Launcher Lite – FREE Live Cool Themes, Hide ...</td>\n",
       "      <td>ART_AND_DESIGN</td>\n",
       "      <td>4.7</td>\n",
       "      <td>87510</td>\n",
       "      <td>8.7M</td>\n",
       "      <td>5,000,000+</td>\n",
       "      <td>Free</td>\n",
       "      <td>0</td>\n",
       "      <td>Everyone</td>\n",
       "      <td>Art &amp; Design</td>\n",
       "      <td>August 1, 2018</td>\n",
       "      <td>1.2.4</td>\n",
       "      <td>4.0.3 and up</td>\n",
       "    </tr>\n",
       "    <tr>\n",
       "      <th>3</th>\n",
       "      <td>Sketch - Draw &amp; Paint</td>\n",
       "      <td>ART_AND_DESIGN</td>\n",
       "      <td>4.5</td>\n",
       "      <td>215644</td>\n",
       "      <td>25M</td>\n",
       "      <td>50,000,000+</td>\n",
       "      <td>Free</td>\n",
       "      <td>0</td>\n",
       "      <td>Teen</td>\n",
       "      <td>Art &amp; Design</td>\n",
       "      <td>June 8, 2018</td>\n",
       "      <td>Varies with device</td>\n",
       "      <td>4.2 and up</td>\n",
       "    </tr>\n",
       "    <tr>\n",
       "      <th>4</th>\n",
       "      <td>Pixel Draw - Number Art Coloring Book</td>\n",
       "      <td>ART_AND_DESIGN</td>\n",
       "      <td>4.3</td>\n",
       "      <td>967</td>\n",
       "      <td>2.8M</td>\n",
       "      <td>100,000+</td>\n",
       "      <td>Free</td>\n",
       "      <td>0</td>\n",
       "      <td>Everyone</td>\n",
       "      <td>Art &amp; Design;Creativity</td>\n",
       "      <td>June 20, 2018</td>\n",
       "      <td>1.1</td>\n",
       "      <td>4.4 and up</td>\n",
       "    </tr>\n",
       "  </tbody>\n",
       "</table>\n",
       "</div>"
      ],
      "text/plain": [
       "                                                 App        Category  Rating   \n",
       "0     Photo Editor & Candy Camera & Grid & ScrapBook  ART_AND_DESIGN     4.1  \\\n",
       "1                                Coloring book moana  ART_AND_DESIGN     3.9   \n",
       "2  U Launcher Lite – FREE Live Cool Themes, Hide ...  ART_AND_DESIGN     4.7   \n",
       "3                              Sketch - Draw & Paint  ART_AND_DESIGN     4.5   \n",
       "4              Pixel Draw - Number Art Coloring Book  ART_AND_DESIGN     4.3   \n",
       "\n",
       "  Reviews  Size     Installs  Type Price Content Rating   \n",
       "0     159   19M      10,000+  Free     0       Everyone  \\\n",
       "1     967   14M     500,000+  Free     0       Everyone   \n",
       "2   87510  8.7M   5,000,000+  Free     0       Everyone   \n",
       "3  215644   25M  50,000,000+  Free     0           Teen   \n",
       "4     967  2.8M     100,000+  Free     0       Everyone   \n",
       "\n",
       "                      Genres      Last Updated         Current Ver   \n",
       "0               Art & Design   January 7, 2018               1.0.0  \\\n",
       "1  Art & Design;Pretend Play  January 15, 2018               2.0.0   \n",
       "2               Art & Design    August 1, 2018               1.2.4   \n",
       "3               Art & Design      June 8, 2018  Varies with device   \n",
       "4    Art & Design;Creativity     June 20, 2018                 1.1   \n",
       "\n",
       "    Android Ver  \n",
       "0  4.0.3 and up  \n",
       "1  4.0.3 and up  \n",
       "2  4.0.3 and up  \n",
       "3    4.2 and up  \n",
       "4    4.4 and up  "
      ]
     },
     "execution_count": 3,
     "metadata": {},
     "output_type": "execute_result"
    }
   ],
   "source": [
    "df.head()"
   ]
  },
  {
   "cell_type": "code",
   "execution_count": 4,
   "id": "8cab98cf-db56-4c06-b27d-1648e0f268e0",
   "metadata": {
    "tags": []
   },
   "outputs": [],
   "source": [
    "df.drop(['App','Reviews', 'Installs','Type', 'Genres'], axis=1, inplace=True)"
   ]
  },
  {
   "cell_type": "code",
   "execution_count": 5,
   "id": "5a1bb6d8-631c-4d70-a4fe-abe64b357ace",
   "metadata": {
    "tags": []
   },
   "outputs": [
    {
     "data": {
      "text/html": [
       "<div>\n",
       "<style scoped>\n",
       "    .dataframe tbody tr th:only-of-type {\n",
       "        vertical-align: middle;\n",
       "    }\n",
       "\n",
       "    .dataframe tbody tr th {\n",
       "        vertical-align: top;\n",
       "    }\n",
       "\n",
       "    .dataframe thead th {\n",
       "        text-align: right;\n",
       "    }\n",
       "</style>\n",
       "<table border=\"1\" class=\"dataframe\">\n",
       "  <thead>\n",
       "    <tr style=\"text-align: right;\">\n",
       "      <th></th>\n",
       "      <th>Category</th>\n",
       "      <th>Rating</th>\n",
       "      <th>Size</th>\n",
       "      <th>Price</th>\n",
       "      <th>Content Rating</th>\n",
       "      <th>Last Updated</th>\n",
       "      <th>Current Ver</th>\n",
       "      <th>Android Ver</th>\n",
       "    </tr>\n",
       "  </thead>\n",
       "  <tbody>\n",
       "    <tr>\n",
       "      <th>0</th>\n",
       "      <td>ART_AND_DESIGN</td>\n",
       "      <td>4.1</td>\n",
       "      <td>19M</td>\n",
       "      <td>0</td>\n",
       "      <td>Everyone</td>\n",
       "      <td>January 7, 2018</td>\n",
       "      <td>1.0.0</td>\n",
       "      <td>4.0.3 and up</td>\n",
       "    </tr>\n",
       "    <tr>\n",
       "      <th>1</th>\n",
       "      <td>ART_AND_DESIGN</td>\n",
       "      <td>3.9</td>\n",
       "      <td>14M</td>\n",
       "      <td>0</td>\n",
       "      <td>Everyone</td>\n",
       "      <td>January 15, 2018</td>\n",
       "      <td>2.0.0</td>\n",
       "      <td>4.0.3 and up</td>\n",
       "    </tr>\n",
       "    <tr>\n",
       "      <th>2</th>\n",
       "      <td>ART_AND_DESIGN</td>\n",
       "      <td>4.7</td>\n",
       "      <td>8.7M</td>\n",
       "      <td>0</td>\n",
       "      <td>Everyone</td>\n",
       "      <td>August 1, 2018</td>\n",
       "      <td>1.2.4</td>\n",
       "      <td>4.0.3 and up</td>\n",
       "    </tr>\n",
       "    <tr>\n",
       "      <th>3</th>\n",
       "      <td>ART_AND_DESIGN</td>\n",
       "      <td>4.5</td>\n",
       "      <td>25M</td>\n",
       "      <td>0</td>\n",
       "      <td>Teen</td>\n",
       "      <td>June 8, 2018</td>\n",
       "      <td>Varies with device</td>\n",
       "      <td>4.2 and up</td>\n",
       "    </tr>\n",
       "    <tr>\n",
       "      <th>4</th>\n",
       "      <td>ART_AND_DESIGN</td>\n",
       "      <td>4.3</td>\n",
       "      <td>2.8M</td>\n",
       "      <td>0</td>\n",
       "      <td>Everyone</td>\n",
       "      <td>June 20, 2018</td>\n",
       "      <td>1.1</td>\n",
       "      <td>4.4 and up</td>\n",
       "    </tr>\n",
       "  </tbody>\n",
       "</table>\n",
       "</div>"
      ],
      "text/plain": [
       "         Category  Rating  Size Price Content Rating      Last Updated   \n",
       "0  ART_AND_DESIGN     4.1   19M     0       Everyone   January 7, 2018  \\\n",
       "1  ART_AND_DESIGN     3.9   14M     0       Everyone  January 15, 2018   \n",
       "2  ART_AND_DESIGN     4.7  8.7M     0       Everyone    August 1, 2018   \n",
       "3  ART_AND_DESIGN     4.5   25M     0           Teen      June 8, 2018   \n",
       "4  ART_AND_DESIGN     4.3  2.8M     0       Everyone     June 20, 2018   \n",
       "\n",
       "          Current Ver   Android Ver  \n",
       "0               1.0.0  4.0.3 and up  \n",
       "1               2.0.0  4.0.3 and up  \n",
       "2               1.2.4  4.0.3 and up  \n",
       "3  Varies with device    4.2 and up  \n",
       "4                 1.1    4.4 and up  "
      ]
     },
     "execution_count": 5,
     "metadata": {},
     "output_type": "execute_result"
    }
   ],
   "source": [
    "df.head()"
   ]
  },
  {
   "cell_type": "code",
   "execution_count": 6,
   "id": "7b5f475f-a65a-4901-b678-ce488d1f42df",
   "metadata": {
    "tags": []
   },
   "outputs": [
    {
     "name": "stdout",
     "output_type": "stream",
     "text": [
      "Category\n",
      "FAMILY                 1972\n",
      "GAME                   1144\n",
      "TOOLS                   843\n",
      "MEDICAL                 463\n",
      "BUSINESS                460\n",
      "PRODUCTIVITY            424\n",
      "PERSONALIZATION         392\n",
      "COMMUNICATION           387\n",
      "SPORTS                  384\n",
      "LIFESTYLE               382\n",
      "FINANCE                 366\n",
      "HEALTH_AND_FITNESS      341\n",
      "PHOTOGRAPHY             335\n",
      "SOCIAL                  295\n",
      "NEWS_AND_MAGAZINES      283\n",
      "SHOPPING                260\n",
      "TRAVEL_AND_LOCAL        258\n",
      "DATING                  234\n",
      "BOOKS_AND_REFERENCE     231\n",
      "VIDEO_PLAYERS           175\n",
      "EDUCATION               156\n",
      "ENTERTAINMENT           149\n",
      "MAPS_AND_NAVIGATION     137\n",
      "FOOD_AND_DRINK          127\n",
      "HOUSE_AND_HOME           88\n",
      "LIBRARIES_AND_DEMO       85\n",
      "AUTO_AND_VEHICLES        85\n",
      "WEATHER                  82\n",
      "ART_AND_DESIGN           65\n",
      "EVENTS                   64\n",
      "PARENTING                60\n",
      "COMICS                   60\n",
      "BEAUTY                   53\n",
      "1.9                       1\n",
      "Name: count, dtype: int64\n"
     ]
    }
   ],
   "source": [
    "value_counts = df['Category'].value_counts()\n",
    "print(value_counts)"
   ]
  },
  {
   "cell_type": "code",
   "execution_count": 7,
   "id": "27835605-08dd-4122-978a-b1758665351c",
   "metadata": {
    "tags": []
   },
   "outputs": [],
   "source": [
    "df = df[df['Category'] != '1.9']\n",
    "value_counts = df['Category'].value_counts()"
   ]
  },
  {
   "cell_type": "code",
   "execution_count": 8,
   "id": "ba656578-c305-44f4-9ce6-ce1f64842b23",
   "metadata": {},
   "outputs": [
    {
     "name": "stdout",
     "output_type": "stream",
     "text": [
      "         Category  Rating  Size Price Content Rating      Last Updated   \n",
      "0  ART_AND_DESIGN     4.1   19M     0       Everyone   January 7, 2018  \\\n",
      "1  ART_AND_DESIGN     3.9   14M     0       Everyone  January 15, 2018   \n",
      "2  ART_AND_DESIGN     4.7  8.7M     0       Everyone    August 1, 2018   \n",
      "3  ART_AND_DESIGN     4.5   25M     0           Teen      June 8, 2018   \n",
      "4  ART_AND_DESIGN     4.3  2.8M     0       Everyone     June 20, 2018   \n",
      "\n",
      "          Current Ver   Android Ver  Category_ART_AND_DESIGN   \n",
      "0               1.0.0  4.0.3 and up                     True  \\\n",
      "1               2.0.0  4.0.3 and up                     True   \n",
      "2               1.2.4  4.0.3 and up                     True   \n",
      "3  Varies with device    4.2 and up                     True   \n",
      "4                 1.1    4.4 and up                     True   \n",
      "\n",
      "   Category_AUTO_AND_VEHICLES  ...  Category_PERSONALIZATION   \n",
      "0                       False  ...                     False  \\\n",
      "1                       False  ...                     False   \n",
      "2                       False  ...                     False   \n",
      "3                       False  ...                     False   \n",
      "4                       False  ...                     False   \n",
      "\n",
      "   Category_PHOTOGRAPHY  Category_PRODUCTIVITY  Category_SHOPPING   \n",
      "0                 False                  False              False  \\\n",
      "1                 False                  False              False   \n",
      "2                 False                  False              False   \n",
      "3                 False                  False              False   \n",
      "4                 False                  False              False   \n",
      "\n",
      "   Category_SOCIAL  Category_SPORTS  Category_TOOLS   \n",
      "0            False            False           False  \\\n",
      "1            False            False           False   \n",
      "2            False            False           False   \n",
      "3            False            False           False   \n",
      "4            False            False           False   \n",
      "\n",
      "   Category_TRAVEL_AND_LOCAL  Category_VIDEO_PLAYERS  Category_WEATHER  \n",
      "0                      False                   False             False  \n",
      "1                      False                   False             False  \n",
      "2                      False                   False             False  \n",
      "3                      False                   False             False  \n",
      "4                      False                   False             False  \n",
      "\n",
      "[5 rows x 41 columns]\n"
     ]
    }
   ],
   "source": [
    "category = pd.get_dummies(df['Category'], prefix='Category')\n",
    "df = pd.concat([df, category], axis=1)\n"
   ]
  },
  {
   "cell_type": "code",
   "execution_count": 28,
   "id": "eb3080c4-1e92-44f9-be6d-37c2fe757a05",
   "metadata": {
    "tags": []
   },
   "outputs": [
    {
     "name": "stdout",
     "output_type": "stream",
     "text": [
      "   Rating        Size  Price Last Updated         Current Ver   Android Ver   \n",
      "0     4.1  19000000.0    0.0   2018-01-07               1.0.0  4.0.3 and up  \\\n",
      "1     3.9  14000000.0    0.0   2018-01-15               2.0.0  4.0.3 and up   \n",
      "2     4.7   8700000.0    0.0   2018-08-01               1.2.4  4.0.3 and up   \n",
      "3     4.5  25000000.0    0.0   2018-06-08  Varies with device    4.2 and up   \n",
      "4     4.3   2800000.0    0.0   2018-06-20                 1.1    4.4 and up   \n",
      "\n",
      "   Category_ART_AND_DESIGN  Category_AUTO_AND_VEHICLES  Category_BEAUTY   \n",
      "0                     True                       False            False  \\\n",
      "1                     True                       False            False   \n",
      "2                     True                       False            False   \n",
      "3                     True                       False            False   \n",
      "4                     True                       False            False   \n",
      "\n",
      "   Category_BOOKS_AND_REFERENCE  ...  Category_SPORTS  Category_TOOLS   \n",
      "0                         False  ...            False           False  \\\n",
      "1                         False  ...            False           False   \n",
      "2                         False  ...            False           False   \n",
      "3                         False  ...            False           False   \n",
      "4                         False  ...            False           False   \n",
      "\n",
      "   Category_TRAVEL_AND_LOCAL  Category_VIDEO_PLAYERS  Category_WEATHER   \n",
      "0                      False                   False             False  \\\n",
      "1                      False                   False             False   \n",
      "2                      False                   False             False   \n",
      "3                      False                   False             False   \n",
      "4                      False                   False             False   \n",
      "\n",
      "   Content Rating_Adults only 18+  Content Rating_Everyone   \n",
      "0                           False                     True  \\\n",
      "1                           False                     True   \n",
      "2                           False                     True   \n",
      "3                           False                    False   \n",
      "4                           False                     True   \n",
      "\n",
      "   Content Rating_Everyone 10+  Content Rating_Mature 17+  Content Rating_Teen  \n",
      "0                        False                      False                False  \n",
      "1                        False                      False                False  \n",
      "2                        False                      False                False  \n",
      "3                        False                      False                 True  \n",
      "4                        False                      False                False  \n",
      "\n",
      "[5 rows x 44 columns]\n"
     ]
    }
   ],
   "source": [
    "df.drop('Category', axis=1, inplace=True)\n",
    "\n",
    "print(df.head())"
   ]
  },
  {
   "cell_type": "code",
   "execution_count": 9,
   "id": "3562c602-81a4-4dbc-94b9-ed6512b24ada",
   "metadata": {},
   "outputs": [
    {
     "name": "stdout",
     "output_type": "stream",
     "text": [
      "Number of missing values in 'Rating': 1474\n"
     ]
    },
    {
     "data": {
      "text/plain": [
       "(10840, 41)"
      ]
     },
     "execution_count": 9,
     "metadata": {},
     "output_type": "execute_result"
    }
   ],
   "source": [
    "num_missing = df['Rating'].isna().sum()\n",
    "\n",
    "print(\"Number of missing values in 'Rating':\", num_missing)\n",
    "df.shape"
   ]
  },
  {
   "cell_type": "code",
   "execution_count": 10,
   "id": "e8a5381c-b9bd-46d2-9562-e325a0a88509",
   "metadata": {
    "tags": []
   },
   "outputs": [
    {
     "data": {
      "text/plain": [
       "(9366, 41)"
      ]
     },
     "execution_count": 10,
     "metadata": {},
     "output_type": "execute_result"
    }
   ],
   "source": [
    "df.dropna(subset=['Rating'], inplace=True)\n",
    "df.shape"
   ]
  },
  {
   "cell_type": "code",
   "execution_count": 11,
   "id": "72b994ce-e61e-4183-a218-6156566158bf",
   "metadata": {
    "tags": []
   },
   "outputs": [
    {
     "data": {
      "text/plain": [
       "Rating\n",
       "4.4    1109\n",
       "4.3    1076\n",
       "4.5    1038\n",
       "4.2     952\n",
       "4.6     823\n",
       "4.1     708\n",
       "4.0     568\n",
       "4.7     499\n",
       "3.9     386\n",
       "3.8     303\n",
       "5.0     274\n",
       "3.7     239\n",
       "4.8     234\n",
       "3.6     174\n",
       "3.5     163\n",
       "3.4     128\n",
       "3.3     102\n",
       "4.9      87\n",
       "3.0      83\n",
       "3.1      69\n",
       "3.2      64\n",
       "2.9      45\n",
       "2.8      42\n",
       "2.7      25\n",
       "2.6      25\n",
       "2.5      21\n",
       "2.3      20\n",
       "2.4      19\n",
       "1.0      16\n",
       "2.2      14\n",
       "1.9      13\n",
       "2.0      12\n",
       "1.7       8\n",
       "1.8       8\n",
       "2.1       8\n",
       "1.6       4\n",
       "1.4       3\n",
       "1.5       3\n",
       "1.2       1\n",
       "Name: count, dtype: int64"
      ]
     },
     "execution_count": 11,
     "metadata": {},
     "output_type": "execute_result"
    }
   ],
   "source": [
    "df['Rating'].value_counts()"
   ]
  },
  {
   "cell_type": "code",
   "execution_count": 12,
   "id": "990e4dcf-553c-4a64-a508-14fe05d58255",
   "metadata": {
    "tags": []
   },
   "outputs": [
    {
     "name": "stdout",
     "output_type": "stream",
     "text": [
      "Size\n",
      "Varies with device    1637\n",
      "14M                    166\n",
      "12M                    161\n",
      "11M                    160\n",
      "15M                    159\n",
      "                      ... \n",
      "383k                     1\n",
      "454k                     1\n",
      "812k                     1\n",
      "442k                     1\n",
      "619k                     1\n",
      "Name: count, Length: 414, dtype: int64\n",
      "Number of missing values in 'Size': 0\n"
     ]
    }
   ],
   "source": [
    "print(df['Size'].value_counts())\n",
    "num_missing = df['Size'].isna().sum()\n",
    "\n",
    "print(\"Number of missing values in 'Size':\", num_missing)"
   ]
  },
  {
   "cell_type": "code",
   "execution_count": 13,
   "id": "a6da9bfe-2f76-4f3f-9af7-def4b3109eea",
   "metadata": {
    "tags": []
   },
   "outputs": [
    {
     "name": "stdout",
     "output_type": "stream",
     "text": [
      "0\n",
      "M         7471\n",
      "Varies    1637\n",
      "k          258\n",
      "Name: count, dtype: int64\n"
     ]
    }
   ],
   "source": [
    "letters_only = df['Size'].str.extract(r'([A-Za-z]+)')\n",
    "\n",
    "letter_counts = letters_only[0].value_counts()\n",
    "\n",
    "print(letter_counts)"
   ]
  },
  {
   "cell_type": "code",
   "execution_count": 14,
   "id": "f892e8aa-0780-447d-bb4b-e669931cb54c",
   "metadata": {
    "tags": []
   },
   "outputs": [],
   "source": [
    "def multiply_size(size_str):\n",
    "    if size_str[-1] == 'M':\n",
    "        return float(size_str[:-1]) * 1000000\n",
    "    elif size_str[-1] == 'k':\n",
    "        return float(size_str[:-1]) * 1000\n",
    "    else:\n",
    "        return float('NaN')\n",
    "\n",
    "df['Size'] = df['Size'].apply(multiply_size)"
   ]
  },
  {
   "cell_type": "code",
   "execution_count": 15,
   "id": "ff4f4855-4ca6-4d80-b1da-b78808a09070",
   "metadata": {
    "tags": []
   },
   "outputs": [
    {
     "data": {
      "text/plain": [
       "0        19000000.0\n",
       "1        14000000.0\n",
       "2         8700000.0\n",
       "3        25000000.0\n",
       "4         2800000.0\n",
       "            ...    \n",
       "10834     2600000.0\n",
       "10836    53000000.0\n",
       "10837     3600000.0\n",
       "10839           NaN\n",
       "10840    19000000.0\n",
       "Name: Size, Length: 9366, dtype: float64"
      ]
     },
     "execution_count": 15,
     "metadata": {},
     "output_type": "execute_result"
    }
   ],
   "source": [
    "df['Size']"
   ]
  },
  {
   "cell_type": "code",
   "execution_count": 16,
   "id": "1ac2c6c3-4fdd-4700-b103-54e324f86a92",
   "metadata": {
    "tags": []
   },
   "outputs": [
    {
     "name": "stdout",
     "output_type": "stream",
     "text": [
      "Price\n",
      "0.00      8719\n",
      "2.99       114\n",
      "0.99       107\n",
      "4.99        70\n",
      "1.99        59\n",
      "          ... \n",
      "1.29         1\n",
      "299.99       1\n",
      "379.99       1\n",
      "37.99        1\n",
      "1.20         1\n",
      "Name: count, Length: 73, dtype: int64\n",
      "Number of missing values in 'Price': 0\n"
     ]
    }
   ],
   "source": [
    "df['Price'] = df['Price'].str.replace('$', '').astype(float)\n",
    "\n",
    "print(df['Price'].value_counts())\n",
    "num_missing = df['Price'].isna().sum()\n",
    "\n",
    "print(\"Number of missing values in 'Price':\", num_missing)"
   ]
  },
  {
   "cell_type": "code",
   "execution_count": 17,
   "id": "17014b20-d4f3-4792-b451-f86725f5cca8",
   "metadata": {
    "tags": []
   },
   "outputs": [
    {
     "name": "stdout",
     "output_type": "stream",
     "text": [
      "Content Rating\n",
      "Everyone           7420\n",
      "Teen               1084\n",
      "Mature 17+          461\n",
      "Everyone 10+        397\n",
      "Adults only 18+       3\n",
      "Unrated               1\n",
      "Name: count, dtype: int64\n"
     ]
    }
   ],
   "source": [
    "print(df['Content Rating'].value_counts())"
   ]
  },
  {
   "cell_type": "code",
   "execution_count": 18,
   "id": "be51e41f-6e33-4aa7-9bfb-181e237b1450",
   "metadata": {
    "tags": []
   },
   "outputs": [],
   "source": [
    "df = df[df['Content Rating'] != 'Unrated']\n"
   ]
  },
  {
   "cell_type": "code",
   "execution_count": 19,
   "id": "33813149-5b18-4524-9526-c0b5036d22d7",
   "metadata": {
    "tags": []
   },
   "outputs": [],
   "source": [
    "content_rating = pd.get_dummies(df['Content Rating'], prefix='Content Rating')\n",
    "\n",
    "df = pd.concat([df, content_rating], axis=1)\n",
    "\n",
    "df.drop('Content Rating', axis=1, inplace=True)\n"
   ]
  },
  {
   "cell_type": "code",
   "execution_count": 21,
   "id": "3aea4689-76e0-4df0-9936-cf6ef1dea0c9",
   "metadata": {
    "tags": []
   },
   "outputs": [
    {
     "data": {
      "text/html": [
       "<div>\n",
       "<style scoped>\n",
       "    .dataframe tbody tr th:only-of-type {\n",
       "        vertical-align: middle;\n",
       "    }\n",
       "\n",
       "    .dataframe tbody tr th {\n",
       "        vertical-align: top;\n",
       "    }\n",
       "\n",
       "    .dataframe thead th {\n",
       "        text-align: right;\n",
       "    }\n",
       "</style>\n",
       "<table border=\"1\" class=\"dataframe\">\n",
       "  <thead>\n",
       "    <tr style=\"text-align: right;\">\n",
       "      <th></th>\n",
       "      <th>Category</th>\n",
       "      <th>Rating</th>\n",
       "      <th>Size</th>\n",
       "      <th>Price</th>\n",
       "      <th>Last Updated</th>\n",
       "      <th>Current Ver</th>\n",
       "      <th>Android Ver</th>\n",
       "      <th>Category_ART_AND_DESIGN</th>\n",
       "      <th>Category_AUTO_AND_VEHICLES</th>\n",
       "      <th>Category_BEAUTY</th>\n",
       "      <th>...</th>\n",
       "      <th>Category_SPORTS</th>\n",
       "      <th>Category_TOOLS</th>\n",
       "      <th>Category_TRAVEL_AND_LOCAL</th>\n",
       "      <th>Category_VIDEO_PLAYERS</th>\n",
       "      <th>Category_WEATHER</th>\n",
       "      <th>Content Rating_Adults only 18+</th>\n",
       "      <th>Content Rating_Everyone</th>\n",
       "      <th>Content Rating_Everyone 10+</th>\n",
       "      <th>Content Rating_Mature 17+</th>\n",
       "      <th>Content Rating_Teen</th>\n",
       "    </tr>\n",
       "  </thead>\n",
       "  <tbody>\n",
       "    <tr>\n",
       "      <th>0</th>\n",
       "      <td>ART_AND_DESIGN</td>\n",
       "      <td>4.1</td>\n",
       "      <td>19000000.0</td>\n",
       "      <td>0.0</td>\n",
       "      <td>January 7, 2018</td>\n",
       "      <td>1.0.0</td>\n",
       "      <td>4.0.3 and up</td>\n",
       "      <td>True</td>\n",
       "      <td>False</td>\n",
       "      <td>False</td>\n",
       "      <td>...</td>\n",
       "      <td>False</td>\n",
       "      <td>False</td>\n",
       "      <td>False</td>\n",
       "      <td>False</td>\n",
       "      <td>False</td>\n",
       "      <td>False</td>\n",
       "      <td>True</td>\n",
       "      <td>False</td>\n",
       "      <td>False</td>\n",
       "      <td>False</td>\n",
       "    </tr>\n",
       "    <tr>\n",
       "      <th>1</th>\n",
       "      <td>ART_AND_DESIGN</td>\n",
       "      <td>3.9</td>\n",
       "      <td>14000000.0</td>\n",
       "      <td>0.0</td>\n",
       "      <td>January 15, 2018</td>\n",
       "      <td>2.0.0</td>\n",
       "      <td>4.0.3 and up</td>\n",
       "      <td>True</td>\n",
       "      <td>False</td>\n",
       "      <td>False</td>\n",
       "      <td>...</td>\n",
       "      <td>False</td>\n",
       "      <td>False</td>\n",
       "      <td>False</td>\n",
       "      <td>False</td>\n",
       "      <td>False</td>\n",
       "      <td>False</td>\n",
       "      <td>True</td>\n",
       "      <td>False</td>\n",
       "      <td>False</td>\n",
       "      <td>False</td>\n",
       "    </tr>\n",
       "    <tr>\n",
       "      <th>2</th>\n",
       "      <td>ART_AND_DESIGN</td>\n",
       "      <td>4.7</td>\n",
       "      <td>8700000.0</td>\n",
       "      <td>0.0</td>\n",
       "      <td>August 1, 2018</td>\n",
       "      <td>1.2.4</td>\n",
       "      <td>4.0.3 and up</td>\n",
       "      <td>True</td>\n",
       "      <td>False</td>\n",
       "      <td>False</td>\n",
       "      <td>...</td>\n",
       "      <td>False</td>\n",
       "      <td>False</td>\n",
       "      <td>False</td>\n",
       "      <td>False</td>\n",
       "      <td>False</td>\n",
       "      <td>False</td>\n",
       "      <td>True</td>\n",
       "      <td>False</td>\n",
       "      <td>False</td>\n",
       "      <td>False</td>\n",
       "    </tr>\n",
       "    <tr>\n",
       "      <th>3</th>\n",
       "      <td>ART_AND_DESIGN</td>\n",
       "      <td>4.5</td>\n",
       "      <td>25000000.0</td>\n",
       "      <td>0.0</td>\n",
       "      <td>June 8, 2018</td>\n",
       "      <td>Varies with device</td>\n",
       "      <td>4.2 and up</td>\n",
       "      <td>True</td>\n",
       "      <td>False</td>\n",
       "      <td>False</td>\n",
       "      <td>...</td>\n",
       "      <td>False</td>\n",
       "      <td>False</td>\n",
       "      <td>False</td>\n",
       "      <td>False</td>\n",
       "      <td>False</td>\n",
       "      <td>False</td>\n",
       "      <td>False</td>\n",
       "      <td>False</td>\n",
       "      <td>False</td>\n",
       "      <td>True</td>\n",
       "    </tr>\n",
       "    <tr>\n",
       "      <th>4</th>\n",
       "      <td>ART_AND_DESIGN</td>\n",
       "      <td>4.3</td>\n",
       "      <td>2800000.0</td>\n",
       "      <td>0.0</td>\n",
       "      <td>June 20, 2018</td>\n",
       "      <td>1.1</td>\n",
       "      <td>4.4 and up</td>\n",
       "      <td>True</td>\n",
       "      <td>False</td>\n",
       "      <td>False</td>\n",
       "      <td>...</td>\n",
       "      <td>False</td>\n",
       "      <td>False</td>\n",
       "      <td>False</td>\n",
       "      <td>False</td>\n",
       "      <td>False</td>\n",
       "      <td>False</td>\n",
       "      <td>True</td>\n",
       "      <td>False</td>\n",
       "      <td>False</td>\n",
       "      <td>False</td>\n",
       "    </tr>\n",
       "    <tr>\n",
       "      <th>5</th>\n",
       "      <td>ART_AND_DESIGN</td>\n",
       "      <td>4.4</td>\n",
       "      <td>5600000.0</td>\n",
       "      <td>0.0</td>\n",
       "      <td>March 26, 2017</td>\n",
       "      <td>1.0</td>\n",
       "      <td>2.3 and up</td>\n",
       "      <td>True</td>\n",
       "      <td>False</td>\n",
       "      <td>False</td>\n",
       "      <td>...</td>\n",
       "      <td>False</td>\n",
       "      <td>False</td>\n",
       "      <td>False</td>\n",
       "      <td>False</td>\n",
       "      <td>False</td>\n",
       "      <td>False</td>\n",
       "      <td>True</td>\n",
       "      <td>False</td>\n",
       "      <td>False</td>\n",
       "      <td>False</td>\n",
       "    </tr>\n",
       "  </tbody>\n",
       "</table>\n",
       "<p>6 rows × 45 columns</p>\n",
       "</div>"
      ],
      "text/plain": [
       "         Category  Rating        Size  Price      Last Updated   \n",
       "0  ART_AND_DESIGN     4.1  19000000.0    0.0   January 7, 2018  \\\n",
       "1  ART_AND_DESIGN     3.9  14000000.0    0.0  January 15, 2018   \n",
       "2  ART_AND_DESIGN     4.7   8700000.0    0.0    August 1, 2018   \n",
       "3  ART_AND_DESIGN     4.5  25000000.0    0.0      June 8, 2018   \n",
       "4  ART_AND_DESIGN     4.3   2800000.0    0.0     June 20, 2018   \n",
       "5  ART_AND_DESIGN     4.4   5600000.0    0.0    March 26, 2017   \n",
       "\n",
       "          Current Ver   Android Ver  Category_ART_AND_DESIGN   \n",
       "0               1.0.0  4.0.3 and up                     True  \\\n",
       "1               2.0.0  4.0.3 and up                     True   \n",
       "2               1.2.4  4.0.3 and up                     True   \n",
       "3  Varies with device    4.2 and up                     True   \n",
       "4                 1.1    4.4 and up                     True   \n",
       "5                 1.0    2.3 and up                     True   \n",
       "\n",
       "   Category_AUTO_AND_VEHICLES  Category_BEAUTY  ...  Category_SPORTS   \n",
       "0                       False            False  ...            False  \\\n",
       "1                       False            False  ...            False   \n",
       "2                       False            False  ...            False   \n",
       "3                       False            False  ...            False   \n",
       "4                       False            False  ...            False   \n",
       "5                       False            False  ...            False   \n",
       "\n",
       "   Category_TOOLS  Category_TRAVEL_AND_LOCAL  Category_VIDEO_PLAYERS   \n",
       "0           False                      False                   False  \\\n",
       "1           False                      False                   False   \n",
       "2           False                      False                   False   \n",
       "3           False                      False                   False   \n",
       "4           False                      False                   False   \n",
       "5           False                      False                   False   \n",
       "\n",
       "   Category_WEATHER  Content Rating_Adults only 18+  Content Rating_Everyone   \n",
       "0             False                           False                     True  \\\n",
       "1             False                           False                     True   \n",
       "2             False                           False                     True   \n",
       "3             False                           False                    False   \n",
       "4             False                           False                     True   \n",
       "5             False                           False                     True   \n",
       "\n",
       "   Content Rating_Everyone 10+  Content Rating_Mature 17+  Content Rating_Teen  \n",
       "0                        False                      False                False  \n",
       "1                        False                      False                False  \n",
       "2                        False                      False                False  \n",
       "3                        False                      False                 True  \n",
       "4                        False                      False                False  \n",
       "5                        False                      False                False  \n",
       "\n",
       "[6 rows x 45 columns]"
      ]
     },
     "execution_count": 21,
     "metadata": {},
     "output_type": "execute_result"
    }
   ],
   "source": [
    "df.head(6)"
   ]
  },
  {
   "cell_type": "code",
   "execution_count": 22,
   "id": "1fd2bddb-f762-40fb-9825-d83e5d6fbab9",
   "metadata": {
    "tags": []
   },
   "outputs": [
    {
     "name": "stdout",
     "output_type": "stream",
     "text": [
      "Number of missing values in 'Last Updated': 0\n"
     ]
    }
   ],
   "source": [
    "num_missing = df['Last Updated'].isna().sum()\n",
    "\n",
    "print(\"Number of missing values in 'Last Updated':\", num_missing)"
   ]
  },
  {
   "cell_type": "code",
   "execution_count": 23,
   "id": "a7158c90-4bdd-41bb-8741-160100cf0392",
   "metadata": {
    "tags": []
   },
   "outputs": [
    {
     "name": "stdout",
     "output_type": "stream",
     "text": [
      "Last Updated\n",
      "August 3, 2018      319\n",
      "August 2, 2018      284\n",
      "July 31, 2018       279\n",
      "August 1, 2018      275\n",
      "July 30, 2018       199\n",
      "                   ... \n",
      "April 17, 2014        1\n",
      "April 11, 2016        1\n",
      "October 27, 2015      1\n",
      "August 31, 2015       1\n",
      "March 23, 2014        1\n",
      "Name: count, Length: 1299, dtype: int64\n"
     ]
    }
   ],
   "source": [
    "print(df['Last Updated'].value_counts())"
   ]
  },
  {
   "cell_type": "code",
   "execution_count": 24,
   "id": "7ecc0d4b-f00f-4ce1-8002-ba80196f05c3",
   "metadata": {
    "tags": []
   },
   "outputs": [],
   "source": [
    "df['Last Updated'] = pd.to_datetime(df['Last Updated'])\n"
   ]
  },
  {
   "cell_type": "code",
   "execution_count": 25,
   "id": "dc0be4c0-0af5-47fc-a10a-0c4644150fd5",
   "metadata": {
    "tags": []
   },
   "outputs": [
    {
     "name": "stdout",
     "output_type": "stream",
     "text": [
      "Current Ver\n",
      "Varies with device    1415\n",
      "1.0                    458\n",
      "1.1                    195\n",
      "1.2                    126\n",
      "2.0                    119\n",
      "                      ... \n",
      "2.9.10                   1\n",
      "3.18.5                   1\n",
      "1.3.A.2.9                1\n",
      "9.9.1.1910               1\n",
      "0.3.4                    1\n",
      "Name: count, Length: 2638, dtype: int64\n"
     ]
    }
   ],
   "source": [
    "print(df['Current Ver'].value_counts())"
   ]
  },
  {
   "cell_type": "code",
   "execution_count": 26,
   "id": "66cfebcc-4b49-4e9d-ade1-7c15b5d22216",
   "metadata": {
    "tags": []
   },
   "outputs": [
    {
     "data": {
      "text/html": [
       "<div>\n",
       "<style scoped>\n",
       "    .dataframe tbody tr th:only-of-type {\n",
       "        vertical-align: middle;\n",
       "    }\n",
       "\n",
       "    .dataframe tbody tr th {\n",
       "        vertical-align: top;\n",
       "    }\n",
       "\n",
       "    .dataframe thead th {\n",
       "        text-align: right;\n",
       "    }\n",
       "</style>\n",
       "<table border=\"1\" class=\"dataframe\">\n",
       "  <thead>\n",
       "    <tr style=\"text-align: right;\">\n",
       "      <th></th>\n",
       "      <th>Category</th>\n",
       "      <th>Rating</th>\n",
       "      <th>Size</th>\n",
       "      <th>Price</th>\n",
       "      <th>Last Updated</th>\n",
       "      <th>Current Ver</th>\n",
       "      <th>Android Ver</th>\n",
       "      <th>Category_ART_AND_DESIGN</th>\n",
       "      <th>Category_AUTO_AND_VEHICLES</th>\n",
       "      <th>Category_BEAUTY</th>\n",
       "      <th>...</th>\n",
       "      <th>Category_SPORTS</th>\n",
       "      <th>Category_TOOLS</th>\n",
       "      <th>Category_TRAVEL_AND_LOCAL</th>\n",
       "      <th>Category_VIDEO_PLAYERS</th>\n",
       "      <th>Category_WEATHER</th>\n",
       "      <th>Content Rating_Adults only 18+</th>\n",
       "      <th>Content Rating_Everyone</th>\n",
       "      <th>Content Rating_Everyone 10+</th>\n",
       "      <th>Content Rating_Mature 17+</th>\n",
       "      <th>Content Rating_Teen</th>\n",
       "    </tr>\n",
       "  </thead>\n",
       "  <tbody>\n",
       "    <tr>\n",
       "      <th>0</th>\n",
       "      <td>ART_AND_DESIGN</td>\n",
       "      <td>4.1</td>\n",
       "      <td>19000000.0</td>\n",
       "      <td>0.0</td>\n",
       "      <td>2018-01-07</td>\n",
       "      <td>1.0.0</td>\n",
       "      <td>4.0.3 and up</td>\n",
       "      <td>True</td>\n",
       "      <td>False</td>\n",
       "      <td>False</td>\n",
       "      <td>...</td>\n",
       "      <td>False</td>\n",
       "      <td>False</td>\n",
       "      <td>False</td>\n",
       "      <td>False</td>\n",
       "      <td>False</td>\n",
       "      <td>False</td>\n",
       "      <td>True</td>\n",
       "      <td>False</td>\n",
       "      <td>False</td>\n",
       "      <td>False</td>\n",
       "    </tr>\n",
       "    <tr>\n",
       "      <th>1</th>\n",
       "      <td>ART_AND_DESIGN</td>\n",
       "      <td>3.9</td>\n",
       "      <td>14000000.0</td>\n",
       "      <td>0.0</td>\n",
       "      <td>2018-01-15</td>\n",
       "      <td>2.0.0</td>\n",
       "      <td>4.0.3 and up</td>\n",
       "      <td>True</td>\n",
       "      <td>False</td>\n",
       "      <td>False</td>\n",
       "      <td>...</td>\n",
       "      <td>False</td>\n",
       "      <td>False</td>\n",
       "      <td>False</td>\n",
       "      <td>False</td>\n",
       "      <td>False</td>\n",
       "      <td>False</td>\n",
       "      <td>True</td>\n",
       "      <td>False</td>\n",
       "      <td>False</td>\n",
       "      <td>False</td>\n",
       "    </tr>\n",
       "    <tr>\n",
       "      <th>2</th>\n",
       "      <td>ART_AND_DESIGN</td>\n",
       "      <td>4.7</td>\n",
       "      <td>8700000.0</td>\n",
       "      <td>0.0</td>\n",
       "      <td>2018-08-01</td>\n",
       "      <td>1.2.4</td>\n",
       "      <td>4.0.3 and up</td>\n",
       "      <td>True</td>\n",
       "      <td>False</td>\n",
       "      <td>False</td>\n",
       "      <td>...</td>\n",
       "      <td>False</td>\n",
       "      <td>False</td>\n",
       "      <td>False</td>\n",
       "      <td>False</td>\n",
       "      <td>False</td>\n",
       "      <td>False</td>\n",
       "      <td>True</td>\n",
       "      <td>False</td>\n",
       "      <td>False</td>\n",
       "      <td>False</td>\n",
       "    </tr>\n",
       "    <tr>\n",
       "      <th>3</th>\n",
       "      <td>ART_AND_DESIGN</td>\n",
       "      <td>4.5</td>\n",
       "      <td>25000000.0</td>\n",
       "      <td>0.0</td>\n",
       "      <td>2018-06-08</td>\n",
       "      <td>Varies with device</td>\n",
       "      <td>4.2 and up</td>\n",
       "      <td>True</td>\n",
       "      <td>False</td>\n",
       "      <td>False</td>\n",
       "      <td>...</td>\n",
       "      <td>False</td>\n",
       "      <td>False</td>\n",
       "      <td>False</td>\n",
       "      <td>False</td>\n",
       "      <td>False</td>\n",
       "      <td>False</td>\n",
       "      <td>False</td>\n",
       "      <td>False</td>\n",
       "      <td>False</td>\n",
       "      <td>True</td>\n",
       "    </tr>\n",
       "    <tr>\n",
       "      <th>4</th>\n",
       "      <td>ART_AND_DESIGN</td>\n",
       "      <td>4.3</td>\n",
       "      <td>2800000.0</td>\n",
       "      <td>0.0</td>\n",
       "      <td>2018-06-20</td>\n",
       "      <td>1.1</td>\n",
       "      <td>4.4 and up</td>\n",
       "      <td>True</td>\n",
       "      <td>False</td>\n",
       "      <td>False</td>\n",
       "      <td>...</td>\n",
       "      <td>False</td>\n",
       "      <td>False</td>\n",
       "      <td>False</td>\n",
       "      <td>False</td>\n",
       "      <td>False</td>\n",
       "      <td>False</td>\n",
       "      <td>True</td>\n",
       "      <td>False</td>\n",
       "      <td>False</td>\n",
       "      <td>False</td>\n",
       "    </tr>\n",
       "  </tbody>\n",
       "</table>\n",
       "<p>5 rows × 45 columns</p>\n",
       "</div>"
      ],
      "text/plain": [
       "         Category  Rating        Size  Price Last Updated         Current Ver   \n",
       "0  ART_AND_DESIGN     4.1  19000000.0    0.0   2018-01-07               1.0.0  \\\n",
       "1  ART_AND_DESIGN     3.9  14000000.0    0.0   2018-01-15               2.0.0   \n",
       "2  ART_AND_DESIGN     4.7   8700000.0    0.0   2018-08-01               1.2.4   \n",
       "3  ART_AND_DESIGN     4.5  25000000.0    0.0   2018-06-08  Varies with device   \n",
       "4  ART_AND_DESIGN     4.3   2800000.0    0.0   2018-06-20                 1.1   \n",
       "\n",
       "    Android Ver  Category_ART_AND_DESIGN  Category_AUTO_AND_VEHICLES   \n",
       "0  4.0.3 and up                     True                       False  \\\n",
       "1  4.0.3 and up                     True                       False   \n",
       "2  4.0.3 and up                     True                       False   \n",
       "3    4.2 and up                     True                       False   \n",
       "4    4.4 and up                     True                       False   \n",
       "\n",
       "   Category_BEAUTY  ...  Category_SPORTS  Category_TOOLS   \n",
       "0            False  ...            False           False  \\\n",
       "1            False  ...            False           False   \n",
       "2            False  ...            False           False   \n",
       "3            False  ...            False           False   \n",
       "4            False  ...            False           False   \n",
       "\n",
       "   Category_TRAVEL_AND_LOCAL  Category_VIDEO_PLAYERS  Category_WEATHER   \n",
       "0                      False                   False             False  \\\n",
       "1                      False                   False             False   \n",
       "2                      False                   False             False   \n",
       "3                      False                   False             False   \n",
       "4                      False                   False             False   \n",
       "\n",
       "   Content Rating_Adults only 18+  Content Rating_Everyone   \n",
       "0                           False                     True  \\\n",
       "1                           False                     True   \n",
       "2                           False                     True   \n",
       "3                           False                    False   \n",
       "4                           False                     True   \n",
       "\n",
       "   Content Rating_Everyone 10+  Content Rating_Mature 17+  Content Rating_Teen  \n",
       "0                        False                      False                False  \n",
       "1                        False                      False                False  \n",
       "2                        False                      False                False  \n",
       "3                        False                      False                 True  \n",
       "4                        False                      False                False  \n",
       "\n",
       "[5 rows x 45 columns]"
      ]
     },
     "execution_count": 26,
     "metadata": {},
     "output_type": "execute_result"
    }
   ],
   "source": [
    "df.head()"
   ]
  },
  {
   "cell_type": "code",
   "execution_count": null,
   "id": "9f5d1644-504a-4d91-b9e6-6ea99835a390",
   "metadata": {},
   "outputs": [],
   "source": []
  },
  {
   "cell_type": "code",
   "execution_count": null,
   "id": "ee7f6964-190a-4f6d-adb9-8f47d418627d",
   "metadata": {},
   "outputs": [],
   "source": []
  }
 ],
 "metadata": {
  "kernelspec": {
   "display_name": "Python 3 (ipykernel)",
   "language": "python",
   "name": "python3"
  },
  "language_info": {
   "codemirror_mode": {
    "name": "ipython",
    "version": 3
   },
   "file_extension": ".py",
   "mimetype": "text/x-python",
   "name": "python",
   "nbconvert_exporter": "python",
   "pygments_lexer": "ipython3",
   "version": "3.11.3"
  },
  "toc-autonumbering": false,
  "toc-showcode": true,
  "toc-showmarkdowntxt": true
 },
 "nbformat": 4,
 "nbformat_minor": 5
}
